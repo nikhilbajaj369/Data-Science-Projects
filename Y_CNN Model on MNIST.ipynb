{
 "cells": [
  {
   "cell_type": "code",
   "execution_count": 1,
   "metadata": {},
   "outputs": [],
   "source": [
    "import pandas as pd\n",
    "import numpy as np\n",
    "from keras.models import Sequential\n",
    "from keras.layers import Conv2D ,MaxPool2D , Flatten , Dense , Dropout\n",
    "from keras.utils import to_categorical\n",
    "import tensorflow as tf\n",
    "import keras"
   ]
  },
  {
   "cell_type": "code",
   "execution_count": 2,
   "metadata": {},
   "outputs": [],
   "source": [
    "mnist = pd.read_csv(r\"D:\\Scratch Data\\MNIST_Train.csv\")\n",
    "mnist = np.array(mnist)"
   ]
  },
  {
   "cell_type": "code",
   "execution_count": 3,
   "metadata": {},
   "outputs": [],
   "source": [
    "mnist_x = mnist[ : , 1 :]\n",
    "mnist_y = mnist[:,0]"
   ]
  },
  {
   "cell_type": "code",
   "execution_count": 4,
   "metadata": {},
   "outputs": [
    {
     "data": {
      "text/plain": [
       "(42000, 28, 28, 1)"
      ]
     },
     "execution_count": 4,
     "metadata": {},
     "output_type": "execute_result"
    }
   ],
   "source": [
    "mnist_x = mnist_x.reshape(-1,28,28,1)   # -1 is take care of default size\n",
    "mnist_x.shape"
   ]
  },
  {
   "cell_type": "code",
   "execution_count": 5,
   "metadata": {},
   "outputs": [],
   "source": [
    "mnist_x = tf.keras.utils.normalize(mnist_x)\n",
    "mnist_y = keras.utils.to_categorical(mnist_y)"
   ]
  },
  {
   "cell_type": "code",
   "execution_count": 6,
   "metadata": {},
   "outputs": [],
   "source": [
    "model = Sequential()\n",
    "model.add(Conv2D(filters=16,kernel_size=(5,5),activation='relu',padding='same',input_shape=(28,28,1)))\n",
    "model.add(MaxPool2D(pool_size=(2,2)))\n",
    "\n",
    "model.add(Conv2D(filters=32,kernel_size=(5,5),activation='relu'))\n",
    "model.add(MaxPool2D(pool_size=(2,2)))\n",
    "\n",
    "model.add(Flatten())\n",
    "model.add(Dense(128,activation='relu'))\n",
    "model.add(Dropout(0.4))\n",
    "model.add(Dense(10, activation='softmax'))"
   ]
  },
  {
   "cell_type": "code",
   "execution_count": 7,
   "metadata": {},
   "outputs": [],
   "source": [
    "model.compile(optimizer='adam',loss='categorical_crossentropy',metrics=['accuracy'])"
   ]
  },
  {
   "cell_type": "code",
   "execution_count": 9,
   "metadata": {},
   "outputs": [
    {
     "name": "stdout",
     "output_type": "stream",
     "text": [
      "Epoch 1/2\n",
      "329/329 [==============================] - 24s 72ms/step - loss: 0.2772 - accuracy: 0.9185\n",
      "Epoch 2/2\n",
      "329/329 [==============================] - 24s 73ms/step - loss: 0.1667 - accuracy: 0.9493\n"
     ]
    },
    {
     "data": {
      "text/plain": [
       "<tensorflow.python.keras.callbacks.History at 0x2351314a2e0>"
      ]
     },
     "execution_count": 9,
     "metadata": {},
     "output_type": "execute_result"
    }
   ],
   "source": [
    "model.fit(mnist_x,mnist_y,epochs=2,batch_size=128)"
   ]
  },
  {
   "cell_type": "code",
   "execution_count": 10,
   "metadata": {},
   "outputs": [
    {
     "name": "stdout",
     "output_type": "stream",
     "text": [
      "Model: \"sequential\"\n",
      "_________________________________________________________________\n",
      "Layer (type)                 Output Shape              Param #   \n",
      "=================================================================\n",
      "conv2d (Conv2D)              (None, 28, 28, 16)        416       \n",
      "_________________________________________________________________\n",
      "max_pooling2d (MaxPooling2D) (None, 14, 14, 16)        0         \n",
      "_________________________________________________________________\n",
      "conv2d_1 (Conv2D)            (None, 10, 10, 32)        12832     \n",
      "_________________________________________________________________\n",
      "max_pooling2d_1 (MaxPooling2 (None, 5, 5, 32)          0         \n",
      "_________________________________________________________________\n",
      "flatten (Flatten)            (None, 800)               0         \n",
      "_________________________________________________________________\n",
      "dense (Dense)                (None, 128)               102528    \n",
      "_________________________________________________________________\n",
      "dropout (Dropout)            (None, 128)               0         \n",
      "_________________________________________________________________\n",
      "dense_1 (Dense)              (None, 10)                1290      \n",
      "=================================================================\n",
      "Total params: 117,066\n",
      "Trainable params: 117,066\n",
      "Non-trainable params: 0\n",
      "_________________________________________________________________\n"
     ]
    }
   ],
   "source": [
    "model.summary()"
   ]
  },
  {
   "cell_type": "code",
   "execution_count": 11,
   "metadata": {},
   "outputs": [
    {
     "name": "stdout",
     "output_type": "stream",
     "text": [
      "WARNING:tensorflow:From <ipython-input-11-dd9a0b8814fa>:1: Sequential.predict_classes (from tensorflow.python.keras.engine.sequential) is deprecated and will be removed after 2021-01-01.\n",
      "Instructions for updating:\n",
      "Please use instead:* `np.argmax(model.predict(x), axis=-1)`,   if your model does multi-class classification   (e.g. if it uses a `softmax` last-layer activation).* `(model.predict(x) > 0.5).astype(\"int32\")`,   if your model does binary classification   (e.g. if it uses a `sigmoid` last-layer activation).\n"
     ]
    }
   ],
   "source": [
    "pred= model.predict_classes(mnist_x)"
   ]
  },
  {
   "cell_type": "code",
   "execution_count": 12,
   "metadata": {},
   "outputs": [
    {
     "data": {
      "text/plain": [
       "array([1, 0, 1, ..., 7, 6, 9], dtype=int64)"
      ]
     },
     "execution_count": 12,
     "metadata": {},
     "output_type": "execute_result"
    }
   ],
   "source": [
    "pred"
   ]
  },
  {
   "cell_type": "code",
   "execution_count": 13,
   "metadata": {},
   "outputs": [],
   "source": [
    "mnist = pd.read_csv(r\"D:\\Scratch Data\\MNIST_Train.csv\")\n",
    "mnist_y = mnist.iloc[:,0]"
   ]
  },
  {
   "cell_type": "code",
   "execution_count": 14,
   "metadata": {},
   "outputs": [],
   "source": [
    "from sklearn.metrics import confusion_matrix"
   ]
  },
  {
   "cell_type": "code",
   "execution_count": 15,
   "metadata": {},
   "outputs": [],
   "source": [
    "tab1 = confusion_matrix(pred,mnist_y)"
   ]
  },
  {
   "cell_type": "code",
   "execution_count": 16,
   "metadata": {},
   "outputs": [
    {
     "data": {
      "text/plain": [
       "array([[4068,    0,    5,    3,    2,    6,   10,    1,    8,   19],\n",
       "       [   0, 4602,    7,    8,   11,    0,    5,    8,   25,   10],\n",
       "       [   6,   25, 4060,   29,    4,    0,    3,   26,    9,    1],\n",
       "       [   1,   12,   28, 4171,    0,   31,    1,    7,   28,   26],\n",
       "       [   2,    9,    5,    0, 3918,    1,    6,    5,   10,   21],\n",
       "       [   7,    0,    0,   44,    1, 3707,   22,    1,   26,   13],\n",
       "       [  16,    3,    1,    2,   10,   21, 4076,    1,   13,    1],\n",
       "       [   0,    8,   41,   28,    9,    2,    0, 4294,   10,   55],\n",
       "       [  29,   23,   28,   44,    9,   20,   14,    7, 3903,   21],\n",
       "       [   3,    2,    2,   22,  108,    7,    0,   51,   31, 4021]],\n",
       "      dtype=int64)"
      ]
     },
     "execution_count": 16,
     "metadata": {},
     "output_type": "execute_result"
    }
   ],
   "source": [
    "tab1"
   ]
  },
  {
   "cell_type": "code",
   "execution_count": 17,
   "metadata": {},
   "outputs": [
    {
     "data": {
      "text/plain": [
       "97.19047619047619"
      ]
     },
     "execution_count": 17,
     "metadata": {},
     "output_type": "execute_result"
    }
   ],
   "source": [
    "Accuracy = tab1.diagonal().sum() / tab1.sum()*100\n",
    "Accuracy"
   ]
  },
  {
   "cell_type": "code",
   "execution_count": null,
   "metadata": {},
   "outputs": [],
   "source": [
    "### CNN on the external data"
   ]
  },
  {
   "cell_type": "code",
   "execution_count": 7,
   "metadata": {},
   "outputs": [],
   "source": [
    "import os\n",
    "import cv2\n",
    "import matplotlib.pyplot as plt\n",
    "import numpy as np"
   ]
  },
  {
   "cell_type": "code",
   "execution_count": 8,
   "metadata": {},
   "outputs": [],
   "source": [
    "#pip install opencv-python"
   ]
  },
  {
   "cell_type": "code",
   "execution_count": 13,
   "metadata": {},
   "outputs": [],
   "source": [
    "path1 = r\"E:\\Photos\\Transport1\"\n",
    "transport = ['0air','1train','2ship','3bus','4car','5bike','6auto','7truck','8camel','9horse','10elephant']\n",
    "## Created the name path and then the subfolders "
   ]
  },
  {
   "cell_type": "code",
   "execution_count": 14,
   "metadata": {},
   "outputs": [
    {
     "data": {
      "text/plain": [
       "['0air',\n",
       " '1train',\n",
       " '2ship',\n",
       " '3bus',\n",
       " '4car',\n",
       " '5bike',\n",
       " '6auto',\n",
       " '7truck',\n",
       " '8camel',\n",
       " '9horse',\n",
       " '10elephant']"
      ]
     },
     "execution_count": 14,
     "metadata": {},
     "output_type": "execute_result"
    }
   ],
   "source": [
    "transport"
   ]
  },
  {
   "cell_type": "code",
   "execution_count": 15,
   "metadata": {},
   "outputs": [
    {
     "name": "stdout",
     "output_type": "stream",
     "text": [
      "E:\\Photos\\Transport1\\0air\n",
      "E:\\Photos\\Transport1\\1train\n",
      "E:\\Photos\\Transport1\\2ship\n",
      "E:\\Photos\\Transport1\\3bus\n",
      "E:\\Photos\\Transport1\\4car\n",
      "E:\\Photos\\Transport1\\5bike\n",
      "E:\\Photos\\Transport1\\6auto\n",
      "E:\\Photos\\Transport1\\7truck\n",
      "E:\\Photos\\Transport1\\8camel\n",
      "E:\\Photos\\Transport1\\9horse\n",
      "E:\\Photos\\Transport1\\10elephant\n"
     ]
    }
   ],
   "source": [
    "for i in transport:\n",
    "    folders = os.path.join(path1,i)\n",
    "    print(folders)\n",
    "    ## This is not part of main code its just for better understanding"
   ]
  },
  {
   "cell_type": "code",
   "execution_count": 16,
   "metadata": {},
   "outputs": [
    {
     "name": "stdout",
     "output_type": "stream",
     "text": [
      "E:\\Photos\\Transport1\\0air\\0air.jpg\n",
      "E:\\Photos\\Transport1\\0air\\1air.jfif\n",
      "E:\\Photos\\Transport1\\0air\\2air.jpg\n",
      "E:\\Photos\\Transport1\\0air\\3air.jfif\n",
      "E:\\Photos\\Transport1\\0air\\4air.jfif\n",
      "E:\\Photos\\Transport1\\1train\\0train.jfif\n",
      "E:\\Photos\\Transport1\\1train\\1train.jpg\n",
      "E:\\Photos\\Transport1\\1train\\2train.jfif\n",
      "E:\\Photos\\Transport1\\1train\\3train.jpg\n",
      "E:\\Photos\\Transport1\\1train\\4train.jfif\n",
      "E:\\Photos\\Transport1\\2ship\\0ship.jpg\n",
      "E:\\Photos\\Transport1\\2ship\\1ship.jfif\n",
      "E:\\Photos\\Transport1\\2ship\\2ship.jfif\n",
      "E:\\Photos\\Transport1\\2ship\\3ship.jfif\n",
      "E:\\Photos\\Transport1\\2ship\\4ship.jfif\n",
      "E:\\Photos\\Transport1\\3bus\\0bus.jfif\n",
      "E:\\Photos\\Transport1\\3bus\\1bus.jfif\n",
      "E:\\Photos\\Transport1\\3bus\\2bus.jfif\n",
      "E:\\Photos\\Transport1\\3bus\\3bus.jfif\n",
      "E:\\Photos\\Transport1\\3bus\\4bus.jfif\n",
      "E:\\Photos\\Transport1\\4car\\0car.JPG\n",
      "E:\\Photos\\Transport1\\4car\\1car.JPG\n",
      "E:\\Photos\\Transport1\\4car\\2car.jpg\n",
      "E:\\Photos\\Transport1\\4car\\3car.JPG\n",
      "E:\\Photos\\Transport1\\4car\\4car.JPG\n",
      "E:\\Photos\\Transport1\\4car\\5car.JPG\n",
      "E:\\Photos\\Transport1\\5bike\\0bike.JPG\n",
      "E:\\Photos\\Transport1\\5bike\\1bike.jpg\n",
      "E:\\Photos\\Transport1\\5bike\\2bike.JPG\n",
      "E:\\Photos\\Transport1\\5bike\\3bike.JPG\n",
      "E:\\Photos\\Transport1\\5bike\\4bike.JPG\n",
      "E:\\Photos\\Transport1\\5bike\\5bike.jpg\n",
      "E:\\Photos\\Transport1\\5bike\\6bike.jpg\n",
      "E:\\Photos\\Transport1\\6auto\\0auto.jfif\n",
      "E:\\Photos\\Transport1\\6auto\\1auto.jfif\n",
      "E:\\Photos\\Transport1\\6auto\\2auto.jfif\n",
      "E:\\Photos\\Transport1\\6auto\\3auto.jfif\n",
      "E:\\Photos\\Transport1\\6auto\\4auto.jpg\n",
      "E:\\Photos\\Transport1\\7truck\\0truck.jfif\n",
      "E:\\Photos\\Transport1\\7truck\\1truck.jfif\n",
      "E:\\Photos\\Transport1\\7truck\\2truck.jfif\n",
      "E:\\Photos\\Transport1\\7truck\\3truck.jfif\n",
      "E:\\Photos\\Transport1\\7truck\\4truck.jfif\n",
      "E:\\Photos\\Transport1\\7truck\\5truck.jfif\n",
      "E:\\Photos\\Transport1\\8camel\\0camel.jfif\n",
      "E:\\Photos\\Transport1\\8camel\\1camel.jfif\n",
      "E:\\Photos\\Transport1\\8camel\\2camel.jfif\n",
      "E:\\Photos\\Transport1\\8camel\\3camel.jfif\n",
      "E:\\Photos\\Transport1\\8camel\\4camel.jpg\n",
      "E:\\Photos\\Transport1\\9horse\\0horse.jfif\n",
      "E:\\Photos\\Transport1\\9horse\\1horse.jfif\n",
      "E:\\Photos\\Transport1\\9horse\\2horse.jfif\n",
      "E:\\Photos\\Transport1\\9horse\\3horse.jfif\n",
      "E:\\Photos\\Transport1\\10elephant\\0elephant.jfif\n",
      "E:\\Photos\\Transport1\\10elephant\\1elephant.jfif\n",
      "E:\\Photos\\Transport1\\10elephant\\2elephant.jfif\n",
      "E:\\Photos\\Transport1\\10elephant\\3elephant.jfif\n",
      "E:\\Photos\\Transport1\\10elephant\\4elephant.jfif\n",
      "E:\\Photos\\Transport1\\10elephant\\5elephant.jfif\n"
     ]
    }
   ],
   "source": [
    "for i in transport:\n",
    "    folders = os.path.join(path1,i)\n",
    "    for image in os.listdir(folders):\n",
    "        image_path = os.path.join(folders , image)\n",
    "        print(image_path)\n",
    "        \n",
    " ##This is not part of main code its just for better understanding"
   ]
  },
  {
   "cell_type": "code",
   "execution_count": 17,
   "metadata": {},
   "outputs": [
    {
     "data": {
      "image/png": "[encoded data removed]",
      "text/plain": [
       "<Figure size 432x288 with 1 Axes>"
      ]
     },
     "metadata": {
      "needs_background": "light"
     },
     "output_type": "display_data"
    }
   ],
   "source": [
    "for i in transport:\n",
    "    folders = os.path.join(path1,i)\n",
    "    for image in os.listdir(folders):\n",
    "        image_path = os.path.join(folders , image)\n",
    "        image_array  = cv2.imread(image_path)   ## Using the cv2 i m reading the image and storing in variable image_array\n",
    "        plt.imshow(image_array)\n",
    "        break\n",
    "        \n",
    " ##This is not part of main code its just for better understanding    "
   ]
  },
  {
   "cell_type": "code",
   "execution_count": 19,
   "metadata": {},
   "outputs": [],
   "source": [
    "image_size = 200\n",
    "\n",
    "path1 = r\"E:\\Photos\\Transport1\"\n",
    "transport = ['0air','1train','2ship','3bus','4car','5bike','6auto','7truck','8camel','9horse','10elephant']\n",
    "\n",
    "input_image = []\n",
    "for i in transport:\n",
    "    folders = os.path.join(path1,i)\n",
    "    label = transport.index(i)\n",
    "    for image in os.listdir(folders):\n",
    "        image_path = os.path.join(folders , image)\n",
    "        image_array = cv2.imread(image_path)\n",
    "        image_array  = cv2.resize(image_array,(image_size,image_size))  \n",
    "        input_image.append([image_array,label])\n"
   ]
  },
  {
   "cell_type": "code",
   "execution_count": 20,
   "metadata": {},
   "outputs": [],
   "source": [
    "np.random.shuffle(input_image)"
   ]
  },
  {
   "cell_type": "code",
   "execution_count": 21,
   "metadata": {},
   "outputs": [],
   "source": [
    "X=[]\n",
    "Y=[]\n",
    "for X_values , labels in input_image:\n",
    "    X.append(X_values)\n",
    "    Y.append(labels)"
   ]
  },
  {
   "cell_type": "code",
   "execution_count": 22,
   "metadata": {},
   "outputs": [],
   "source": [
    "X = np.array(X)\n",
    "Y=np.array(Y)"
   ]
  },
  {
   "cell_type": "code",
   "execution_count": 23,
   "metadata": {},
   "outputs": [
    {
     "data": {
      "text/plain": [
       "(59, 200, 200, 3)"
      ]
     },
     "execution_count": 23,
     "metadata": {},
     "output_type": "execute_result"
    }
   ],
   "source": [
    "X.shape\n",
    "# 10 = total image\n",
    "#200 = size\n",
    "#3=depth"
   ]
  },
  {
   "cell_type": "code",
   "execution_count": 24,
   "metadata": {},
   "outputs": [],
   "source": [
    "X = X/255           # 255 pixel size"
   ]
  },
  {
   "cell_type": "code",
   "execution_count": 25,
   "metadata": {},
   "outputs": [],
   "source": [
    "model = Sequential()\n",
    "model.add(Conv2D(filters=16,kernel_size=(5,5),activation='relu' , )) \n",
    "model.add(MaxPool2D(pool_size=(2,2)))\n",
    "\n",
    "model.add(Conv2D(filters=32,kernel_size=(5,5),activation='relu'))\n",
    "model.add(MaxPool2D(pool_size=(2,2)))\n",
    "\n",
    "model.add(Flatten())\n",
    "model.add(Dense(128,activation='relu' , input_shape = X.shape[1:]))\n",
    "model.add(Dropout(0.4))\n",
    "model.add(Dense(11, activation='softmax'))\n",
    "\n",
    "model.compile(optimizer = 'adam',loss='sparse_categorical_crossentropy',metrics=['accuracy'])"
   ]
  },
  {
   "cell_type": "code",
   "execution_count": 26,
   "metadata": {},
   "outputs": [],
   "source": [
    "## Arguments:\n",
    "#  Optimizer :- The optimizer used to reduce the cost calculated by cross-entropy\n",
    "#  Loss :- The loss function used to calculate the error \n",
    "#  Metrics :- The metrices used to represent the efficiency of the model\n",
    "#  Activation :- the activation function in each code\n",
    "#  Pool_size :- The shape of the pooling window"
   ]
  },
  {
   "cell_type": "code",
   "execution_count": 27,
   "metadata": {},
   "outputs": [
    {
     "name": "stdout",
     "output_type": "stream",
     "text": [
      "Epoch 1/10\n",
      "2/2 [==============================] - 1s 565ms/step - loss: 4.1241 - accuracy: 0.1017\n",
      "Epoch 2/10\n",
      "2/2 [==============================] - 1s 555ms/step - loss: 3.3474 - accuracy: 0.1186\n",
      "Epoch 3/10\n",
      "2/2 [==============================] - 1s 653ms/step - loss: 2.3615 - accuracy: 0.1356\n",
      "Epoch 4/10\n",
      "2/2 [==============================] - 2s 765ms/step - loss: 2.1037 - accuracy: 0.4068\n",
      "Epoch 5/10\n",
      "2/2 [==============================] - 1s 729ms/step - loss: 1.8689 - accuracy: 0.3729\n",
      "Epoch 6/10\n",
      "2/2 [==============================] - 1s 561ms/step - loss: 1.4318 - accuracy: 0.5932\n",
      "Epoch 7/10\n",
      "2/2 [==============================] - 1s 644ms/step - loss: 1.1947 - accuracy: 0.6780\n",
      "Epoch 8/10\n",
      "2/2 [==============================] - 1s 470ms/step - loss: 0.9395 - accuracy: 0.7288\n",
      "Epoch 9/10\n",
      "2/2 [==============================] - 1s 482ms/step - loss: 0.7549 - accuracy: 0.8136\n",
      "Epoch 10/10\n",
      "2/2 [==============================] - 1s 470ms/step - loss: 0.6104 - accuracy: 0.8475\n"
     ]
    },
    {
     "data": {
      "text/plain": [
       "<tensorflow.python.keras.callbacks.History at 0x20ef098ceb0>"
      ]
     },
     "execution_count": 27,
     "metadata": {},
     "output_type": "execute_result"
    }
   ],
   "source": [
    "model.fit(X,Y,epochs=10)"
   ]
  },
  {
   "cell_type": "code",
   "execution_count": 61,
   "metadata": {},
   "outputs": [],
   "source": [
    "pred= model.predict_classes(X)"
   ]
  },
  {
   "cell_type": "code",
   "execution_count": 62,
   "metadata": {},
   "outputs": [
    {
     "data": {
      "text/plain": [
       "array([[5, 0, 0, 0, 0, 0, 0, 0, 0, 0, 0],\n",
       "       [0, 5, 0, 0, 0, 0, 0, 0, 0, 0, 0],\n",
       "       [0, 0, 5, 0, 0, 0, 0, 0, 0, 0, 0],\n",
       "       [0, 0, 0, 5, 0, 0, 0, 0, 0, 0, 0],\n",
       "       [0, 0, 0, 0, 6, 0, 0, 0, 0, 0, 0],\n",
       "       [0, 0, 0, 0, 0, 7, 0, 0, 0, 0, 0],\n",
       "       [0, 0, 0, 0, 0, 0, 5, 0, 0, 0, 0],\n",
       "       [0, 0, 0, 0, 0, 0, 0, 6, 0, 0, 0],\n",
       "       [0, 0, 0, 0, 0, 0, 0, 0, 5, 0, 0],\n",
       "       [0, 0, 0, 0, 0, 0, 0, 0, 0, 4, 0],\n",
       "       [0, 0, 0, 0, 0, 0, 0, 0, 0, 0, 6]], dtype=int64)"
      ]
     },
     "execution_count": 62,
     "metadata": {},
     "output_type": "execute_result"
    }
   ],
   "source": [
    "tab1 = confusion_matrix(pred,Y)\n",
    "tab1"
   ]
  },
  {
   "cell_type": "code",
   "execution_count": 63,
   "metadata": {},
   "outputs": [
    {
     "data": {
      "text/plain": [
       "100.0"
      ]
     },
     "execution_count": 63,
     "metadata": {},
     "output_type": "execute_result"
    }
   ],
   "source": [
    "Accuracy = tab1.diagonal().sum() / tab1.sum()*100\n",
    "Accuracy"
   ]
  },
  {
   "cell_type": "code",
   "execution_count": null,
   "metadata": {},
   "outputs": [],
   "source": []
  }
 ],
 "metadata": {
  "kernelspec": {
   "display_name": "Python 3",
   "language": "python",
   "name": "python3"
  },
  "language_info": {
   "codemirror_mode": {
    "name": "ipython",
    "version": 3
   },
   "file_extension": ".py",
   "mimetype": "text/x-python",
   "name": "python",
   "nbconvert_exporter": "python",
   "pygments_lexer": "ipython3",
   "version": "3.8.3"
  },
  "toc": {
   "base_numbering": 1,
   "nav_menu": {},
   "number_sections": true,
   "sideBar": true,
   "skip_h1_title": false,
   "title_cell": "Table of Contents",
   "title_sidebar": "Contents",
   "toc_cell": false,
   "toc_position": {},
   "toc_section_display": true,
   "toc_window_display": false
  }
 },
 "nbformat": 4,
 "nbformat_minor": 4
}
