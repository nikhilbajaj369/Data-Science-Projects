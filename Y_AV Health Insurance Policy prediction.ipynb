{
 "cells": [
  {
   "cell_type": "markdown",
   "metadata": {},
   "source": [
    "Problem Statement.\n",
    "\n",
    "Health Insurance Lead Prediction Your Client FinMan is a financial services company that provides various financial services like loan, investment funds, insurance etc. to its customers. FinMan wishes to cross-sell health insurance to the existing customers who may or may not hold insurance policies with the company. The company recommend health insurance to it's customers based on their profile once these customers land on the website. Customers might browse the recommended health insurance policy and consequently fill up a form to apply. When these customers fill-up the form, their Response towards the policy is considered positive and they are classified as a lead.\n",
    "\n",
    "Once these leads are acquired, the sales advisors approach them to convert and thus the company can sell proposed health insurance to these leads in a more efficient manner.\n",
    "\n",
    "Now the company needs your help in building a model to predict whether the person will be interested in their proposed Health plan/policy given the information about:\n",
    "\n",
    "Demographics (city, age, region etc.) Information regarding holding policies of the customer Recommended Policy Information\n",
    "\n"
   ]
  },
  {
   "cell_type": "code",
   "execution_count": 1,
   "metadata": {},
   "outputs": [],
   "source": [
    "import pandas as pd \n",
    "import numpy as np\n",
    "import matplotlib.pyplot as plt \n",
    "import seaborn as sns\n",
    "\n",
    "import warnings\n",
    "pd.set_option('display.max_rows', 5000)\n",
    "pd.set_option('display.max_columns', 20)"
   ]
  },
  {
   "cell_type": "code",
   "execution_count": 30,
   "metadata": {},
   "outputs": [
    {
     "name": "stdout",
     "output_type": "stream",
     "text": [
      "(50882, 14)\n"
     ]
    },
    {
     "data": {
      "text/html": [
       "<div>\n",
       "<style scoped>\n",
       "    .dataframe tbody tr th:only-of-type {\n",
       "        vertical-align: middle;\n",
       "    }\n",
       "\n",
       "    .dataframe tbody tr th {\n",
       "        vertical-align: top;\n",
       "    }\n",
       "\n",
       "    .dataframe thead th {\n",
       "        text-align: right;\n",
       "    }\n",
       "</style>\n",
       "<table border=\"1\" class=\"dataframe\">\n",
       "  <thead>\n",
       "    <tr style=\"text-align: right;\">\n",
       "      <th></th>\n",
       "      <th>ID</th>\n",
       "      <th>City_Code</th>\n",
       "      <th>Region_Code</th>\n",
       "      <th>Accomodation_Type</th>\n",
       "      <th>Reco_Insurance_Type</th>\n",
       "      <th>Upper_Age</th>\n",
       "      <th>Lower_Age</th>\n",
       "      <th>Is_Spouse</th>\n",
       "      <th>Health Indicator</th>\n",
       "      <th>Holding_Policy_Duration</th>\n",
       "      <th>Holding_Policy_Type</th>\n",
       "      <th>Reco_Policy_Cat</th>\n",
       "      <th>Reco_Policy_Premium</th>\n",
       "      <th>Response</th>\n",
       "    </tr>\n",
       "  </thead>\n",
       "  <tbody>\n",
       "    <tr>\n",
       "      <th>0</th>\n",
       "      <td>1</td>\n",
       "      <td>C3</td>\n",
       "      <td>3213</td>\n",
       "      <td>Rented</td>\n",
       "      <td>Individual</td>\n",
       "      <td>36</td>\n",
       "      <td>36</td>\n",
       "      <td>No</td>\n",
       "      <td>X1</td>\n",
       "      <td>14+</td>\n",
       "      <td>3.0</td>\n",
       "      <td>22</td>\n",
       "      <td>11628.0</td>\n",
       "      <td>0</td>\n",
       "    </tr>\n",
       "    <tr>\n",
       "      <th>1</th>\n",
       "      <td>2</td>\n",
       "      <td>C5</td>\n",
       "      <td>1117</td>\n",
       "      <td>Owned</td>\n",
       "      <td>Joint</td>\n",
       "      <td>75</td>\n",
       "      <td>22</td>\n",
       "      <td>No</td>\n",
       "      <td>X2</td>\n",
       "      <td>NaN</td>\n",
       "      <td>NaN</td>\n",
       "      <td>22</td>\n",
       "      <td>30510.0</td>\n",
       "      <td>0</td>\n",
       "    </tr>\n",
       "    <tr>\n",
       "      <th>2</th>\n",
       "      <td>3</td>\n",
       "      <td>C5</td>\n",
       "      <td>3732</td>\n",
       "      <td>Owned</td>\n",
       "      <td>Individual</td>\n",
       "      <td>32</td>\n",
       "      <td>32</td>\n",
       "      <td>No</td>\n",
       "      <td>NaN</td>\n",
       "      <td>1.0</td>\n",
       "      <td>1.0</td>\n",
       "      <td>19</td>\n",
       "      <td>7450.0</td>\n",
       "      <td>1</td>\n",
       "    </tr>\n",
       "    <tr>\n",
       "      <th>3</th>\n",
       "      <td>4</td>\n",
       "      <td>C24</td>\n",
       "      <td>4378</td>\n",
       "      <td>Owned</td>\n",
       "      <td>Joint</td>\n",
       "      <td>52</td>\n",
       "      <td>48</td>\n",
       "      <td>No</td>\n",
       "      <td>X1</td>\n",
       "      <td>14+</td>\n",
       "      <td>3.0</td>\n",
       "      <td>19</td>\n",
       "      <td>17780.0</td>\n",
       "      <td>0</td>\n",
       "    </tr>\n",
       "    <tr>\n",
       "      <th>4</th>\n",
       "      <td>5</td>\n",
       "      <td>C8</td>\n",
       "      <td>2190</td>\n",
       "      <td>Rented</td>\n",
       "      <td>Individual</td>\n",
       "      <td>44</td>\n",
       "      <td>44</td>\n",
       "      <td>No</td>\n",
       "      <td>X2</td>\n",
       "      <td>3.0</td>\n",
       "      <td>1.0</td>\n",
       "      <td>16</td>\n",
       "      <td>10404.0</td>\n",
       "      <td>0</td>\n",
       "    </tr>\n",
       "  </tbody>\n",
       "</table>\n",
       "</div>"
      ],
      "text/plain": [
       "   ID City_Code  Region_Code Accomodation_Type Reco_Insurance_Type  Upper_Age  \\\n",
       "0   1        C3         3213            Rented          Individual         36   \n",
       "1   2        C5         1117             Owned               Joint         75   \n",
       "2   3        C5         3732             Owned          Individual         32   \n",
       "3   4       C24         4378             Owned               Joint         52   \n",
       "4   5        C8         2190            Rented          Individual         44   \n",
       "\n",
       "   Lower_Age Is_Spouse Health Indicator Holding_Policy_Duration  \\\n",
       "0         36        No               X1                     14+   \n",
       "1         22        No               X2                     NaN   \n",
       "2         32        No              NaN                     1.0   \n",
       "3         48        No               X1                     14+   \n",
       "4         44        No               X2                     3.0   \n",
       "\n",
       "   Holding_Policy_Type  Reco_Policy_Cat  Reco_Policy_Premium  Response  \n",
       "0                  3.0               22              11628.0         0  \n",
       "1                  NaN               22              30510.0         0  \n",
       "2                  1.0               19               7450.0         1  \n",
       "3                  3.0               19              17780.0         0  \n",
       "4                  1.0               16              10404.0         0  "
      ]
     },
     "execution_count": 30,
     "metadata": {},
     "output_type": "execute_result"
    }
   ],
   "source": [
    "dataset = pd.read_csv(r\"E:\\Nikhil\\Job-A-Thon\\train.csv\")\n",
    "print(dataset.shape)\n",
    "dataset.head()"
   ]
  },
  {
   "cell_type": "markdown",
   "metadata": {},
   "source": [
    "## Drop ID Column"
   ]
  },
  {
   "cell_type": "code",
   "execution_count": 33,
   "metadata": {},
   "outputs": [],
   "source": [
    "dataset = dataset.drop({'ID'},axis=1)"
   ]
  },
  {
   "cell_type": "markdown",
   "metadata": {},
   "source": [
    "# Variable Identification"
   ]
  },
  {
   "cell_type": "code",
   "execution_count": 4,
   "metadata": {},
   "outputs": [
    {
     "data": {
      "text/html": [
       "<div>\n",
       "<style scoped>\n",
       "    .dataframe tbody tr th:only-of-type {\n",
       "        vertical-align: middle;\n",
       "    }\n",
       "\n",
       "    .dataframe tbody tr th {\n",
       "        vertical-align: top;\n",
       "    }\n",
       "\n",
       "    .dataframe thead th {\n",
       "        text-align: right;\n",
       "    }\n",
       "</style>\n",
       "<table border=\"1\" class=\"dataframe\">\n",
       "  <thead>\n",
       "    <tr style=\"text-align: right;\">\n",
       "      <th></th>\n",
       "      <th>Region_Code</th>\n",
       "      <th>Upper_Age</th>\n",
       "      <th>Lower_Age</th>\n",
       "      <th>Holding_Policy_Type</th>\n",
       "      <th>Reco_Policy_Cat</th>\n",
       "      <th>Reco_Policy_Premium</th>\n",
       "      <th>Response</th>\n",
       "    </tr>\n",
       "  </thead>\n",
       "  <tbody>\n",
       "    <tr>\n",
       "      <th>count</th>\n",
       "      <td>50882.000000</td>\n",
       "      <td>50882.000000</td>\n",
       "      <td>50882.000000</td>\n",
       "      <td>30631.000000</td>\n",
       "      <td>50882.000000</td>\n",
       "      <td>50882.000000</td>\n",
       "      <td>50882.000000</td>\n",
       "    </tr>\n",
       "    <tr>\n",
       "      <th>mean</th>\n",
       "      <td>1732.788707</td>\n",
       "      <td>44.856275</td>\n",
       "      <td>42.738866</td>\n",
       "      <td>2.439228</td>\n",
       "      <td>15.115188</td>\n",
       "      <td>14183.950069</td>\n",
       "      <td>0.239947</td>\n",
       "    </tr>\n",
       "    <tr>\n",
       "      <th>std</th>\n",
       "      <td>1424.081652</td>\n",
       "      <td>17.310271</td>\n",
       "      <td>17.319375</td>\n",
       "      <td>1.025923</td>\n",
       "      <td>6.340663</td>\n",
       "      <td>6590.074873</td>\n",
       "      <td>0.427055</td>\n",
       "    </tr>\n",
       "    <tr>\n",
       "      <th>min</th>\n",
       "      <td>1.000000</td>\n",
       "      <td>18.000000</td>\n",
       "      <td>16.000000</td>\n",
       "      <td>1.000000</td>\n",
       "      <td>1.000000</td>\n",
       "      <td>2280.000000</td>\n",
       "      <td>0.000000</td>\n",
       "    </tr>\n",
       "    <tr>\n",
       "      <th>25%</th>\n",
       "      <td>523.000000</td>\n",
       "      <td>28.000000</td>\n",
       "      <td>27.000000</td>\n",
       "      <td>1.000000</td>\n",
       "      <td>12.000000</td>\n",
       "      <td>9248.000000</td>\n",
       "      <td>0.000000</td>\n",
       "    </tr>\n",
       "    <tr>\n",
       "      <th>50%</th>\n",
       "      <td>1391.000000</td>\n",
       "      <td>44.000000</td>\n",
       "      <td>40.000000</td>\n",
       "      <td>3.000000</td>\n",
       "      <td>17.000000</td>\n",
       "      <td>13178.000000</td>\n",
       "      <td>0.000000</td>\n",
       "    </tr>\n",
       "    <tr>\n",
       "      <th>75%</th>\n",
       "      <td>2667.000000</td>\n",
       "      <td>59.000000</td>\n",
       "      <td>57.000000</td>\n",
       "      <td>3.000000</td>\n",
       "      <td>20.000000</td>\n",
       "      <td>18096.000000</td>\n",
       "      <td>0.000000</td>\n",
       "    </tr>\n",
       "    <tr>\n",
       "      <th>max</th>\n",
       "      <td>6194.000000</td>\n",
       "      <td>75.000000</td>\n",
       "      <td>75.000000</td>\n",
       "      <td>4.000000</td>\n",
       "      <td>22.000000</td>\n",
       "      <td>43350.400000</td>\n",
       "      <td>1.000000</td>\n",
       "    </tr>\n",
       "  </tbody>\n",
       "</table>\n",
       "</div>"
      ],
      "text/plain": [
       "        Region_Code     Upper_Age     Lower_Age  Holding_Policy_Type  \\\n",
       "count  50882.000000  50882.000000  50882.000000         30631.000000   \n",
       "mean    1732.788707     44.856275     42.738866             2.439228   \n",
       "std     1424.081652     17.310271     17.319375             1.025923   \n",
       "min        1.000000     18.000000     16.000000             1.000000   \n",
       "25%      523.000000     28.000000     27.000000             1.000000   \n",
       "50%     1391.000000     44.000000     40.000000             3.000000   \n",
       "75%     2667.000000     59.000000     57.000000             3.000000   \n",
       "max     6194.000000     75.000000     75.000000             4.000000   \n",
       "\n",
       "       Reco_Policy_Cat  Reco_Policy_Premium      Response  \n",
       "count     50882.000000         50882.000000  50882.000000  \n",
       "mean         15.115188         14183.950069      0.239947  \n",
       "std           6.340663          6590.074873      0.427055  \n",
       "min           1.000000          2280.000000      0.000000  \n",
       "25%          12.000000          9248.000000      0.000000  \n",
       "50%          17.000000         13178.000000      0.000000  \n",
       "75%          20.000000         18096.000000      0.000000  \n",
       "max          22.000000         43350.400000      1.000000  "
      ]
     },
     "execution_count": 4,
     "metadata": {},
     "output_type": "execute_result"
    }
   ],
   "source": [
    "dataset.describe()"
   ]
  },
  {
   "cell_type": "code",
   "execution_count": 5,
   "metadata": {},
   "outputs": [
    {
     "name": "stdout",
     "output_type": "stream",
     "text": [
      "<class 'pandas.core.frame.DataFrame'>\n",
      "RangeIndex: 50882 entries, 0 to 50881\n",
      "Data columns (total 13 columns):\n",
      " #   Column                   Non-Null Count  Dtype  \n",
      "---  ------                   --------------  -----  \n",
      " 0   City_Code                50882 non-null  object \n",
      " 1   Region_Code              50882 non-null  int64  \n",
      " 2   Accomodation_Type        50882 non-null  object \n",
      " 3   Reco_Insurance_Type      50882 non-null  object \n",
      " 4   Upper_Age                50882 non-null  int64  \n",
      " 5   Lower_Age                50882 non-null  int64  \n",
      " 6   Is_Spouse                50882 non-null  object \n",
      " 7   Health Indicator         39191 non-null  object \n",
      " 8   Holding_Policy_Duration  30631 non-null  object \n",
      " 9   Holding_Policy_Type      30631 non-null  float64\n",
      " 10  Reco_Policy_Cat          50882 non-null  int64  \n",
      " 11  Reco_Policy_Premium      50882 non-null  float64\n",
      " 12  Response                 50882 non-null  int64  \n",
      "dtypes: float64(2), int64(5), object(6)\n",
      "memory usage: 5.0+ MB\n"
     ]
    }
   ],
   "source": [
    "dataset.info()"
   ]
  },
  {
   "cell_type": "markdown",
   "metadata": {},
   "source": [
    "# EDA"
   ]
  },
  {
   "cell_type": "code",
   "execution_count": 43,
   "metadata": {},
   "outputs": [
    {
     "data": {
      "text/plain": [
       "Region_Code                0\n",
       "Accomodation_Type          0\n",
       "Reco_Insurance_Type        0\n",
       "Upper_Age                  0\n",
       "Lower_Age                  0\n",
       "Is_Spouse                  0\n",
       "Health Indicator           0\n",
       "Holding_Policy_Duration    0\n",
       "Holding_Policy_Type        0\n",
       "Reco_Policy_Cat            0\n",
       "Reco_Policy_Premium        0\n",
       "Response                   0\n",
       "dtype: int64"
      ]
     },
     "execution_count": 43,
     "metadata": {},
     "output_type": "execute_result"
    }
   ],
   "source": [
    "dataset.isnull().sum()"
   ]
  },
  {
   "cell_type": "markdown",
   "metadata": {},
   "source": [
    "## Impute Nulls\n",
    "### For Holding policy duration"
   ]
  },
  {
   "cell_type": "code",
   "execution_count": 36,
   "metadata": {},
   "outputs": [],
   "source": [
    "dataset.Holding_Policy_Duration.replace({'14+':15.0},inplace=True)"
   ]
  },
  {
   "cell_type": "code",
   "execution_count": 37,
   "metadata": {},
   "outputs": [],
   "source": [
    "dataset.Holding_Policy_Duration.replace({np.nan:15.0},inplace=True)"
   ]
  },
  {
   "cell_type": "code",
   "execution_count": 38,
   "metadata": {
    "scrolled": true
   },
   "outputs": [
    {
     "data": {
      "text/plain": [
       "15.0    24586\n",
       "1.0      4499\n",
       "2.0      4260\n",
       "3.0      3586\n",
       "4.0      2771\n",
       "5.0      2362\n",
       "6.0      1894\n",
       "7.0      1645\n",
       "8.0      1316\n",
       "9.0      1114\n",
       "10.0      813\n",
       "11.0      546\n",
       "12.0      513\n",
       "13.0      511\n",
       "14.0      466\n",
       "Name: Holding_Policy_Duration, dtype: int64"
      ]
     },
     "execution_count": 38,
     "metadata": {},
     "output_type": "execute_result"
    }
   ],
   "source": [
    "dataset.Holding_Policy_Duration.value_counts()"
   ]
  },
  {
   "cell_type": "markdown",
   "metadata": {},
   "source": [
    "## Impute Nulls\n",
    "\n",
    "### For health Indicator"
   ]
  },
  {
   "cell_type": "code",
   "execution_count": 39,
   "metadata": {},
   "outputs": [],
   "source": [
    "dataset['Health Indicator'] = dataset['Health Indicator'].fillna('X1')"
   ]
  },
  {
   "cell_type": "markdown",
   "metadata": {},
   "source": [
    "### Replace the Values of Health Indicator"
   ]
  },
  {
   "cell_type": "code",
   "execution_count": 40,
   "metadata": {},
   "outputs": [],
   "source": [
    "dataset['Health Indicator'] = dataset['Health Indicator'].replace({\"X1\":1,\"X2\":2,\"X3\":3,\"X4\":4,\"X5\":5,\"X6\":6,\"X7\":7,\"X8\":8,\"X9\":9})"
   ]
  },
  {
   "cell_type": "markdown",
   "metadata": {},
   "source": [
    "### Holding policy type"
   ]
  },
  {
   "cell_type": "code",
   "execution_count": 41,
   "metadata": {},
   "outputs": [
    {
     "data": {
      "text/plain": [
       "3.0    13279\n",
       "1.0     8173\n",
       "2.0     5005\n",
       "4.0     4174\n",
       "Name: Holding_Policy_Type, dtype: int64"
      ]
     },
     "execution_count": 41,
     "metadata": {},
     "output_type": "execute_result"
    }
   ],
   "source": [
    "dataset.Holding_Policy_Type.value_counts()"
   ]
  },
  {
   "cell_type": "code",
   "execution_count": 42,
   "metadata": {},
   "outputs": [],
   "source": [
    "dataset.Holding_Policy_Type = dataset.Holding_Policy_Type.fillna(3.0)"
   ]
  },
  {
   "cell_type": "markdown",
   "metadata": {},
   "source": [
    "### Convert The Data Types"
   ]
  },
  {
   "cell_type": "code",
   "execution_count": 48,
   "metadata": {},
   "outputs": [],
   "source": [
    "dataset.Holding_Policy_Duration = dataset.Holding_Policy_Duration.astype('int64')"
   ]
  },
  {
   "cell_type": "code",
   "execution_count": 49,
   "metadata": {},
   "outputs": [],
   "source": [
    "dataset.Holding_Policy_Type = dataset.Holding_Policy_Type.astype('int64')"
   ]
  },
  {
   "cell_type": "code",
   "execution_count": 50,
   "metadata": {},
   "outputs": [],
   "source": [
    "dataset['Health Indicator'] = dataset['Health Indicator'].astype('int64')"
   ]
  },
  {
   "cell_type": "markdown",
   "metadata": {},
   "source": [
    "## Check Outliers"
   ]
  },
  {
   "cell_type": "code",
   "execution_count": 17,
   "metadata": {},
   "outputs": [
    {
     "name": "stdout",
     "output_type": "stream",
     "text": [
      "<class 'pandas.core.frame.DataFrame'>\n",
      "RangeIndex: 50882 entries, 0 to 50881\n",
      "Data columns (total 13 columns):\n",
      " #   Column                   Non-Null Count  Dtype  \n",
      "---  ------                   --------------  -----  \n",
      " 0   City_Code                50882 non-null  object \n",
      " 1   Region_Code              50882 non-null  int64  \n",
      " 2   Accomodation_Type        50882 non-null  object \n",
      " 3   Reco_Insurance_Type      50882 non-null  object \n",
      " 4   Upper_Age                50882 non-null  int64  \n",
      " 5   Lower_Age                50882 non-null  int64  \n",
      " 6   Is_Spouse                50882 non-null  object \n",
      " 7   Health Indicator         50882 non-null  int64  \n",
      " 8   Holding_Policy_Duration  50882 non-null  int64  \n",
      " 9   Holding_Policy_Type      50882 non-null  int64  \n",
      " 10  Reco_Policy_Cat          50882 non-null  int64  \n",
      " 11  Reco_Policy_Premium      50882 non-null  float64\n",
      " 12  Response                 50882 non-null  int64  \n",
      "dtypes: float64(1), int64(8), object(4)\n",
      "memory usage: 5.0+ MB\n"
     ]
    }
   ],
   "source": [
    "dataset.info()"
   ]
  },
  {
   "cell_type": "code",
   "execution_count": 671,
   "metadata": {},
   "outputs": [],
   "source": [
    "# plt.boxplot(dataset[\"Region_Code\"])\n",
    "\n",
    "# plt.show()"
   ]
  },
  {
   "cell_type": "code",
   "execution_count": 672,
   "metadata": {},
   "outputs": [],
   "source": [
    "# plt.boxplot(dataset[\"Upper_Age\"])\n",
    "\n",
    "# plt.show()"
   ]
  },
  {
   "cell_type": "code",
   "execution_count": 673,
   "metadata": {},
   "outputs": [],
   "source": [
    "# plt.boxplot(dataset[\"Lower_Age\"])\n",
    "\n",
    "# plt.show()"
   ]
  },
  {
   "cell_type": "code",
   "execution_count": 674,
   "metadata": {},
   "outputs": [],
   "source": [
    "# plt.boxplot(dataset[\"Health Indicator\"])\n",
    "\n",
    "# plt.show()"
   ]
  },
  {
   "cell_type": "code",
   "execution_count": 675,
   "metadata": {},
   "outputs": [],
   "source": [
    "# plt.boxplot(dataset[\"Holding_Policy_Duration\"])\n",
    "\n",
    "# plt.show()"
   ]
  },
  {
   "cell_type": "code",
   "execution_count": 676,
   "metadata": {},
   "outputs": [],
   "source": [
    "# plt.boxplot(dataset[\"Holding_Policy_Type\"])\n",
    "\n",
    "# plt.show()"
   ]
  },
  {
   "cell_type": "code",
   "execution_count": 677,
   "metadata": {},
   "outputs": [],
   "source": [
    "# plt.boxplot(dataset[\"Reco_Policy_Cat\"])\n",
    "\n",
    "# plt.show()"
   ]
  },
  {
   "cell_type": "code",
   "execution_count": 19,
   "metadata": {},
   "outputs": [
    {
     "data": {
      "image/png": "[encoded data removed]",
      "text/plain": [
       "<Figure size 1296x432 with 1 Axes>"
      ]
     },
     "metadata": {
      "needs_background": "light"
     },
     "output_type": "display_data"
    }
   ],
   "source": [
    "sns.catplot(y = \"Response\", x = \"Reco_Insurance_Type\", data = dataset.sort_values(\"Response\", ascending = False), kind=\"boxen\", height = 6, aspect = 3)\n",
    "plt.show()"
   ]
  },
  {
   "cell_type": "code",
   "execution_count": 21,
   "metadata": {},
   "outputs": [
    {
     "data": {
      "image/png": "[encoded data removed]",
      "text/plain": [
       "<Figure size 1296x432 with 1 Axes>"
      ]
     },
     "metadata": {
      "needs_background": "light"
     },
     "output_type": "display_data"
    }
   ],
   "source": [
    "sns.catplot(y = \"Response\", x = \"Holding_Policy_Duration\", data = dataset.sort_values(\"Response\", ascending = True), kind=\"boxen\", height = 6, aspect = 3)\n",
    "plt.show()"
   ]
  },
  {
   "cell_type": "code",
   "execution_count": 22,
   "metadata": {},
   "outputs": [
    {
     "data": {
      "image/png": "[encoded data removed]",
      "text/plain": [
       "<Figure size 1296x432 with 1 Axes>"
      ]
     },
     "metadata": {
      "needs_background": "light"
     },
     "output_type": "display_data"
    }
   ],
   "source": [
    "sns.catplot(y = \"Response\", x = \"Health Indicator\", data = dataset.sort_values(\"Response\", ascending = True), kind=\"boxen\", height = 6, aspect = 3)\n",
    "plt.show()"
   ]
  },
  {
   "cell_type": "code",
   "execution_count": 24,
   "metadata": {},
   "outputs": [
    {
     "data": {
      "image/png": "[encoded data removed]",
      "text/plain": [
       "<Figure size 1296x432 with 1 Axes>"
      ]
     },
     "metadata": {
      "needs_background": "light"
     },
     "output_type": "display_data"
    }
   ],
   "source": [
    "sns.catplot(y = \"Response\", x = \"Is_Spouse\", data = dataset.sort_values(\"Response\", ascending = True), kind=\"boxen\", height = 6, aspect = 3)\n",
    "plt.show()"
   ]
  },
  {
   "cell_type": "markdown",
   "metadata": {},
   "source": [
    "## Check The Skewness "
   ]
  },
  {
   "cell_type": "code",
   "execution_count": 679,
   "metadata": {},
   "outputs": [
    {
     "name": "stdout",
     "output_type": "stream",
     "text": [
      "\n",
      "Skew in numerical features: \n",
      "\n"
     ]
    },
    {
     "data": {
      "text/html": [
       "<div>\n",
       "<style scoped>\n",
       "    .dataframe tbody tr th:only-of-type {\n",
       "        vertical-align: middle;\n",
       "    }\n",
       "\n",
       "    .dataframe tbody tr th {\n",
       "        vertical-align: top;\n",
       "    }\n",
       "\n",
       "    .dataframe thead th {\n",
       "        text-align: right;\n",
       "    }\n",
       "</style>\n",
       "<table border=\"1\" class=\"dataframe\">\n",
       "  <thead>\n",
       "    <tr style=\"text-align: right;\">\n",
       "      <th></th>\n",
       "      <th>Skew</th>\n",
       "    </tr>\n",
       "  </thead>\n",
       "  <tbody>\n",
       "    <tr>\n",
       "      <th>Health Indicator</th>\n",
       "      <td>1.311</td>\n",
       "    </tr>\n",
       "    <tr>\n",
       "      <th>Response</th>\n",
       "      <td>1.218</td>\n",
       "    </tr>\n",
       "    <tr>\n",
       "      <th>Region_Code</th>\n",
       "      <td>0.798</td>\n",
       "    </tr>\n",
       "    <tr>\n",
       "      <th>Reco_Policy_Premium</th>\n",
       "      <td>0.782</td>\n",
       "    </tr>\n",
       "    <tr>\n",
       "      <th>Lower_Age</th>\n",
       "      <td>0.331</td>\n",
       "    </tr>\n",
       "    <tr>\n",
       "      <th>Upper_Age</th>\n",
       "      <td>0.217</td>\n",
       "    </tr>\n",
       "    <tr>\n",
       "      <th>Holding_Policy_Duration</th>\n",
       "      <td>-0.324</td>\n",
       "    </tr>\n",
       "    <tr>\n",
       "      <th>Holding_Policy_Type</th>\n",
       "      <td>-0.913</td>\n",
       "    </tr>\n",
       "    <tr>\n",
       "      <th>Reco_Policy_Cat</th>\n",
       "      <td>-0.928</td>\n",
       "    </tr>\n",
       "  </tbody>\n",
       "</table>\n",
       "</div>"
      ],
      "text/plain": [
       "                          Skew\n",
       "Health Indicator         1.311\n",
       "Response                 1.218\n",
       "Region_Code              0.798\n",
       "Reco_Policy_Premium      0.782\n",
       "Lower_Age                0.331\n",
       "Upper_Age                0.217\n",
       "Holding_Policy_Duration -0.324\n",
       "Holding_Policy_Type     -0.913\n",
       "Reco_Policy_Cat         -0.928"
      ]
     },
     "execution_count": 679,
     "metadata": {},
     "output_type": "execute_result"
    }
   ],
   "source": [
    "from scipy import stats\n",
    "from scipy.stats import norm, skew #for some statistics\n",
    "pd.set_option('display.float_format', lambda x: '{:.3f}'.format(x)) #Limiting floats output to 3 decimal points\n",
    "\n",
    "\n",
    "numeric_feats = dataset.dtypes[dataset.dtypes != \"object\"].index\n",
    "\n",
    "# Check the skew of all numerical features\n",
    "skewed_feats = dataset[numeric_feats].apply(lambda x: skew(x.dropna())).sort_values(ascending=False)\n",
    "print(\"\\nSkew in numerical features: \\n\")\n",
    "skewness = pd.DataFrame({'Skew' :skewed_feats}) \n",
    "skewness.head(15)"
   ]
  },
  {
   "cell_type": "markdown",
   "metadata": {},
   "source": [
    "## Check the Data Distribution"
   ]
  },
  {
   "cell_type": "code",
   "execution_count": 686,
   "metadata": {},
   "outputs": [
    {
     "data": {
      "image/png": "[encoded data removed]",
      "text/plain": [
       "<Figure size 1152x360 with 2 Axes>"
      ]
     },
     "metadata": {
      "needs_background": "light"
     },
     "output_type": "display_data"
    }
   ],
   "source": [
    "plt.figure(1)\n",
    "plt.subplot(121)\n",
    "sns.distplot(dataset[\"Reco_Policy_Cat\"]);\n",
    "\n",
    "plt.subplot(122)\n",
    "dataset[\"Reco_Policy_Cat\"].plot.box(figsize=(16,5))\n",
    "plt.show()"
   ]
  },
  {
   "cell_type": "code",
   "execution_count": 683,
   "metadata": {},
   "outputs": [
    {
     "name": "stdout",
     "output_type": "stream",
     "text": [
      "4.0\n"
     ]
    }
   ],
   "source": [
    "print(dataset['Health Indicator'].quantile(0.95))"
   ]
  },
  {
   "cell_type": "code",
   "execution_count": 684,
   "metadata": {},
   "outputs": [
    {
     "name": "stdout",
     "output_type": "stream",
     "text": [
      "1.0\n"
     ]
    }
   ],
   "source": [
    "print(dataset['Health Indicator'].quantile(0.10))"
   ]
  },
  {
   "cell_type": "markdown",
   "metadata": {},
   "source": [
    "## Check The Co-Relation Using Heatmap"
   ]
  },
  {
   "cell_type": "code",
   "execution_count": 687,
   "metadata": {},
   "outputs": [
    {
     "data": {
      "text/plain": [
       "<matplotlib.axes._subplots.AxesSubplot at 0x22a7c635fd0>"
      ]
     },
     "execution_count": 687,
     "metadata": {},
     "output_type": "execute_result"
    },
    {
     "data": {
      "image/png": "[encoded data removed]",
      "text/plain": [
       "<Figure size 1440x1440 with 2 Axes>"
      ]
     },
     "metadata": {
      "needs_background": "light"
     },
     "output_type": "display_data"
    }
   ],
   "source": [
    "plt.figure(figsize=(20,20))\n",
    "sns.heatmap(dataset.corr(),annot= True)"
   ]
  },
  {
   "cell_type": "markdown",
   "metadata": {},
   "source": [
    "On the above graph clearly shows the multicollinearity occurs between Upper_age and \n",
    "Lower_age So i m going to drop lower_age because it is also negatively co-related with my target variable"
   ]
  },
  {
   "cell_type": "code",
   "execution_count": 688,
   "metadata": {},
   "outputs": [],
   "source": [
    "dataset = dataset.drop({'Upper_Age'},axis=1)"
   ]
  },
  {
   "cell_type": "markdown",
   "metadata": {},
   "source": [
    "## Apply One Hot EnCoding"
   ]
  },
  {
   "cell_type": "code",
   "execution_count": 574,
   "metadata": {},
   "outputs": [],
   "source": [
    "# Accomodation_dummy = pd.get_dummies(dataset['Accomodation_Type'])\n",
    "# Insurance_type_dummy = pd.get_dummies(dataset['Reco_Insurance_Type'])\n",
    "# Is_spouse_dummy = pd.get_dummies(dataset['Is_Spouse'])"
   ]
  },
  {
   "cell_type": "code",
   "execution_count": 575,
   "metadata": {},
   "outputs": [],
   "source": [
    "# dataset.drop(['Accomodation_Type','Reco_Insurance_Type','Is_Spouse'],inplace = True,axis=1)"
   ]
  },
  {
   "cell_type": "code",
   "execution_count": 576,
   "metadata": {},
   "outputs": [],
   "source": [
    "# dataset = pd.concat([dataset,Accomodation_dummy,Insurance_type_dummy,Is_spouse_dummy],axis=1)"
   ]
  },
  {
   "cell_type": "code",
   "execution_count": 577,
   "metadata": {},
   "outputs": [],
   "source": [
    "# dataset.head()"
   ]
  },
  {
   "cell_type": "markdown",
   "metadata": {},
   "source": [
    "### Apply Label EnCoding"
   ]
  },
  {
   "cell_type": "code",
   "execution_count": 689,
   "metadata": {},
   "outputs": [],
   "source": [
    "from sklearn.preprocessing import LabelEncoder\n",
    "le = LabelEncoder()"
   ]
  },
  {
   "cell_type": "code",
   "execution_count": 690,
   "metadata": {},
   "outputs": [],
   "source": [
    "dataset[dataset.select_dtypes(include=['object']).columns] = dataset[dataset.select_dtypes(include=['object']).columns].apply(le.fit_transform)"
   ]
  },
  {
   "cell_type": "code",
   "execution_count": 691,
   "metadata": {
    "scrolled": true
   },
   "outputs": [
    {
     "name": "stdout",
     "output_type": "stream",
     "text": [
      "<class 'pandas.core.frame.DataFrame'>\n",
      "RangeIndex: 50882 entries, 0 to 50881\n",
      "Data columns (total 12 columns):\n",
      " #   Column                   Non-Null Count  Dtype  \n",
      "---  ------                   --------------  -----  \n",
      " 0   City_Code                50882 non-null  int32  \n",
      " 1   Region_Code              50882 non-null  int64  \n",
      " 2   Accomodation_Type        50882 non-null  int32  \n",
      " 3   Reco_Insurance_Type      50882 non-null  int32  \n",
      " 4   Lower_Age                50882 non-null  int64  \n",
      " 5   Is_Spouse                50882 non-null  int32  \n",
      " 6   Health Indicator         50882 non-null  int64  \n",
      " 7   Holding_Policy_Duration  50882 non-null  int64  \n",
      " 8   Holding_Policy_Type      50882 non-null  int64  \n",
      " 9   Reco_Policy_Cat          50882 non-null  int64  \n",
      " 10  Reco_Policy_Premium      50882 non-null  float64\n",
      " 11  Response                 50882 non-null  int64  \n",
      "dtypes: float64(1), int32(4), int64(7)\n",
      "memory usage: 3.9 MB\n"
     ]
    }
   ],
   "source": [
    "dataset.info()"
   ]
  },
  {
   "cell_type": "markdown",
   "metadata": {},
   "source": [
    "# Model Building\n",
    "\n",
    "## Split the Data Into Train & Test"
   ]
  },
  {
   "cell_type": "code",
   "execution_count": 692,
   "metadata": {},
   "outputs": [
    {
     "data": {
      "text/html": [
       "<div>\n",
       "<style scoped>\n",
       "    .dataframe tbody tr th:only-of-type {\n",
       "        vertical-align: middle;\n",
       "    }\n",
       "\n",
       "    .dataframe tbody tr th {\n",
       "        vertical-align: top;\n",
       "    }\n",
       "\n",
       "    .dataframe thead th {\n",
       "        text-align: right;\n",
       "    }\n",
       "</style>\n",
       "<table border=\"1\" class=\"dataframe\">\n",
       "  <thead>\n",
       "    <tr style=\"text-align: right;\">\n",
       "      <th></th>\n",
       "      <th>City_Code</th>\n",
       "      <th>Region_Code</th>\n",
       "      <th>Reco_Insurance_Type</th>\n",
       "      <th>Lower_Age</th>\n",
       "      <th>Is_Spouse</th>\n",
       "      <th>Health Indicator</th>\n",
       "      <th>Holding_Policy_Duration</th>\n",
       "      <th>Holding_Policy_Type</th>\n",
       "      <th>Reco_Policy_Cat</th>\n",
       "      <th>Reco_Policy_Premium</th>\n",
       "    </tr>\n",
       "  </thead>\n",
       "  <tbody>\n",
       "    <tr>\n",
       "      <th>0</th>\n",
       "      <td>22</td>\n",
       "      <td>3213</td>\n",
       "      <td>0</td>\n",
       "      <td>36</td>\n",
       "      <td>0</td>\n",
       "      <td>1</td>\n",
       "      <td>15</td>\n",
       "      <td>3</td>\n",
       "      <td>22</td>\n",
       "      <td>11628.000</td>\n",
       "    </tr>\n",
       "    <tr>\n",
       "      <th>1</th>\n",
       "      <td>31</td>\n",
       "      <td>1117</td>\n",
       "      <td>1</td>\n",
       "      <td>22</td>\n",
       "      <td>0</td>\n",
       "      <td>2</td>\n",
       "      <td>15</td>\n",
       "      <td>3</td>\n",
       "      <td>22</td>\n",
       "      <td>30510.000</td>\n",
       "    </tr>\n",
       "    <tr>\n",
       "      <th>2</th>\n",
       "      <td>31</td>\n",
       "      <td>3732</td>\n",
       "      <td>0</td>\n",
       "      <td>32</td>\n",
       "      <td>0</td>\n",
       "      <td>1</td>\n",
       "      <td>1</td>\n",
       "      <td>1</td>\n",
       "      <td>19</td>\n",
       "      <td>7450.000</td>\n",
       "    </tr>\n",
       "    <tr>\n",
       "      <th>3</th>\n",
       "      <td>16</td>\n",
       "      <td>4378</td>\n",
       "      <td>1</td>\n",
       "      <td>48</td>\n",
       "      <td>0</td>\n",
       "      <td>1</td>\n",
       "      <td>15</td>\n",
       "      <td>3</td>\n",
       "      <td>19</td>\n",
       "      <td>17780.000</td>\n",
       "    </tr>\n",
       "    <tr>\n",
       "      <th>4</th>\n",
       "      <td>34</td>\n",
       "      <td>2190</td>\n",
       "      <td>0</td>\n",
       "      <td>44</td>\n",
       "      <td>0</td>\n",
       "      <td>2</td>\n",
       "      <td>3</td>\n",
       "      <td>1</td>\n",
       "      <td>16</td>\n",
       "      <td>10404.000</td>\n",
       "    </tr>\n",
       "  </tbody>\n",
       "</table>\n",
       "</div>"
      ],
      "text/plain": [
       "   City_Code  Region_Code  Reco_Insurance_Type  Lower_Age  Is_Spouse  \\\n",
       "0         22         3213                    0         36          0   \n",
       "1         31         1117                    1         22          0   \n",
       "2         31         3732                    0         32          0   \n",
       "3         16         4378                    1         48          0   \n",
       "4         34         2190                    0         44          0   \n",
       "\n",
       "   Health Indicator  Holding_Policy_Duration  Holding_Policy_Type  \\\n",
       "0                 1                       15                    3   \n",
       "1                 2                       15                    3   \n",
       "2                 1                        1                    1   \n",
       "3                 1                       15                    3   \n",
       "4                 2                        3                    1   \n",
       "\n",
       "   Reco_Policy_Cat  Reco_Policy_Premium  \n",
       "0               22            11628.000  \n",
       "1               22            30510.000  \n",
       "2               19             7450.000  \n",
       "3               19            17780.000  \n",
       "4               16            10404.000  "
      ]
     },
     "execution_count": 692,
     "metadata": {},
     "output_type": "execute_result"
    }
   ],
   "source": [
    "X = dataset.drop({'Response','Accomodation_Type'},axis=1)\n",
    "X.head()"
   ]
  },
  {
   "cell_type": "code",
   "execution_count": 693,
   "metadata": {},
   "outputs": [
    {
     "data": {
      "text/plain": [
       "0        0\n",
       "1        0\n",
       "2        1\n",
       "3        0\n",
       "4        0\n",
       "        ..\n",
       "50877    0\n",
       "50878    0\n",
       "50879    0\n",
       "50880    1\n",
       "50881    0\n",
       "Name: Response, Length: 50882, dtype: int64"
      ]
     },
     "execution_count": 693,
     "metadata": {},
     "output_type": "execute_result"
    }
   ],
   "source": [
    "y = dataset.loc[: , 'Response']\n",
    "y"
   ]
  },
  {
   "cell_type": "code",
   "execution_count": 694,
   "metadata": {},
   "outputs": [],
   "source": [
    "from sklearn.model_selection import train_test_split\n",
    "X_train,X_test,y_train,y_test = train_test_split(X, y , test_size = .2,random_state=333)"
   ]
  },
  {
   "cell_type": "markdown",
   "metadata": {},
   "source": [
    "## Logistics Regression"
   ]
  },
  {
   "cell_type": "code",
   "execution_count": 695,
   "metadata": {},
   "outputs": [],
   "source": [
    "import statsmodels.api as sm\n",
    "from sklearn.metrics import confusion_matrix\n",
    "from sklearn.metrics import accuracy_score\n",
    "from sklearn.metrics import classification_report"
   ]
  },
  {
   "cell_type": "code",
   "execution_count": 696,
   "metadata": {},
   "outputs": [],
   "source": [
    "from sklearn.linear_model import LogisticRegression\n",
    "lg = LogisticRegression()"
   ]
  },
  {
   "cell_type": "code",
   "execution_count": 697,
   "metadata": {
    "scrolled": false
   },
   "outputs": [
    {
     "data": {
      "text/html": [
       "<table class=\"simpletable\">\n",
       "<caption>Generalized Linear Model Regression Results</caption>\n",
       "<tr>\n",
       "  <th>Dep. Variable:</th>       <td>Response</td>     <th>  No. Observations:  </th>  <td> 40705</td> \n",
       "</tr>\n",
       "<tr>\n",
       "  <th>Model:</th>                  <td>GLM</td>       <th>  Df Residuals:      </th>  <td> 40694</td> \n",
       "</tr>\n",
       "<tr>\n",
       "  <th>Model Family:</th>        <td>Binomial</td>     <th>  Df Model:          </th>  <td>    10</td> \n",
       "</tr>\n",
       "<tr>\n",
       "  <th>Link Function:</th>         <td>logit</td>      <th>  Scale:             </th> <td>  1.0000</td>\n",
       "</tr>\n",
       "<tr>\n",
       "  <th>Method:</th>                <td>IRLS</td>       <th>  Log-Likelihood:    </th> <td> -22129.</td>\n",
       "</tr>\n",
       "<tr>\n",
       "  <th>Date:</th>            <td>Sat, 27 Feb 2021</td> <th>  Deviance:          </th> <td>  44258.</td>\n",
       "</tr>\n",
       "<tr>\n",
       "  <th>Time:</th>                <td>18:51:16</td>     <th>  Pearson chi2:      </th> <td>4.06e+04</td>\n",
       "</tr>\n",
       "<tr>\n",
       "  <th>No. Iterations:</th>          <td>5</td>        <th>                     </th>     <td> </td>   \n",
       "</tr>\n",
       "<tr>\n",
       "  <th>Covariance Type:</th>     <td>nonrobust</td>    <th>                     </th>     <td> </td>   \n",
       "</tr>\n",
       "</table>\n",
       "<table class=\"simpletable\">\n",
       "<tr>\n",
       "             <td></td>                <th>coef</th>     <th>std err</th>      <th>z</th>      <th>P>|z|</th>  <th>[0.025</th>    <th>0.975]</th>  \n",
       "</tr>\n",
       "<tr>\n",
       "  <th>const</th>                   <td>   -1.9477</td> <td>    0.066</td> <td>  -29.523</td> <td> 0.000</td> <td>   -2.077</td> <td>   -1.818</td>\n",
       "</tr>\n",
       "<tr>\n",
       "  <th>City_Code</th>               <td>    0.0016</td> <td>    0.001</td> <td>    1.602</td> <td> 0.109</td> <td>   -0.000</td> <td>    0.003</td>\n",
       "</tr>\n",
       "<tr>\n",
       "  <th>Region_Code</th>             <td> 1.239e-05</td> <td> 8.26e-06</td> <td>    1.499</td> <td> 0.134</td> <td>-3.81e-06</td> <td> 2.86e-05</td>\n",
       "</tr>\n",
       "<tr>\n",
       "  <th>Reco_Insurance_Type</th>     <td>    0.1764</td> <td>    0.079</td> <td>    2.220</td> <td> 0.026</td> <td>    0.021</td> <td>    0.332</td>\n",
       "</tr>\n",
       "<tr>\n",
       "  <th>Lower_Age</th>               <td>    0.0009</td> <td>    0.001</td> <td>    0.767</td> <td> 0.443</td> <td>   -0.001</td> <td>    0.003</td>\n",
       "</tr>\n",
       "<tr>\n",
       "  <th>Is_Spouse</th>               <td>   -0.1024</td> <td>    0.069</td> <td>   -1.484</td> <td> 0.138</td> <td>   -0.238</td> <td>    0.033</td>\n",
       "</tr>\n",
       "<tr>\n",
       "  <th>Health Indicator</th>        <td>    0.0076</td> <td>    0.008</td> <td>    0.908</td> <td> 0.364</td> <td>   -0.009</td> <td>    0.024</td>\n",
       "</tr>\n",
       "<tr>\n",
       "  <th>Holding_Policy_Duration</th> <td>    0.0037</td> <td>    0.002</td> <td>    1.695</td> <td> 0.090</td> <td>   -0.001</td> <td>    0.008</td>\n",
       "</tr>\n",
       "<tr>\n",
       "  <th>Holding_Policy_Type</th>     <td>   -0.0146</td> <td>    0.015</td> <td>   -0.986</td> <td> 0.324</td> <td>   -0.044</td> <td>    0.014</td>\n",
       "</tr>\n",
       "<tr>\n",
       "  <th>Reco_Policy_Cat</th>         <td>    0.0474</td> <td>    0.002</td> <td>   23.331</td> <td> 0.000</td> <td>    0.043</td> <td>    0.051</td>\n",
       "</tr>\n",
       "<tr>\n",
       "  <th>Reco_Policy_Premium</th>     <td>-4.187e-06</td> <td> 3.63e-06</td> <td>   -1.154</td> <td> 0.249</td> <td>-1.13e-05</td> <td> 2.92e-06</td>\n",
       "</tr>\n",
       "</table>"
      ],
      "text/plain": [
       "<class 'statsmodels.iolib.summary.Summary'>\n",
       "\"\"\"\n",
       "                 Generalized Linear Model Regression Results                  \n",
       "==============================================================================\n",
       "Dep. Variable:               Response   No. Observations:                40705\n",
       "Model:                            GLM   Df Residuals:                    40694\n",
       "Model Family:                Binomial   Df Model:                           10\n",
       "Link Function:                  logit   Scale:                          1.0000\n",
       "Method:                          IRLS   Log-Likelihood:                -22129.\n",
       "Date:                Sat, 27 Feb 2021   Deviance:                       44258.\n",
       "Time:                        18:51:16   Pearson chi2:                 4.06e+04\n",
       "No. Iterations:                     5                                         \n",
       "Covariance Type:            nonrobust                                         \n",
       "===========================================================================================\n",
       "                              coef    std err          z      P>|z|      [0.025      0.975]\n",
       "-------------------------------------------------------------------------------------------\n",
       "const                      -1.9477      0.066    -29.523      0.000      -2.077      -1.818\n",
       "City_Code                   0.0016      0.001      1.602      0.109      -0.000       0.003\n",
       "Region_Code              1.239e-05   8.26e-06      1.499      0.134   -3.81e-06    2.86e-05\n",
       "Reco_Insurance_Type         0.1764      0.079      2.220      0.026       0.021       0.332\n",
       "Lower_Age                   0.0009      0.001      0.767      0.443      -0.001       0.003\n",
       "Is_Spouse                  -0.1024      0.069     -1.484      0.138      -0.238       0.033\n",
       "Health Indicator            0.0076      0.008      0.908      0.364      -0.009       0.024\n",
       "Holding_Policy_Duration     0.0037      0.002      1.695      0.090      -0.001       0.008\n",
       "Holding_Policy_Type        -0.0146      0.015     -0.986      0.324      -0.044       0.014\n",
       "Reco_Policy_Cat             0.0474      0.002     23.331      0.000       0.043       0.051\n",
       "Reco_Policy_Premium     -4.187e-06   3.63e-06     -1.154      0.249   -1.13e-05    2.92e-06\n",
       "===========================================================================================\n",
       "\"\"\""
      ]
     },
     "execution_count": 697,
     "metadata": {},
     "output_type": "execute_result"
    }
   ],
   "source": [
    "logm = sm.GLM(y_train,(sm.add_constant(X_train)), family=sm.families.Binomial())\n",
    "logm.fit().summary()"
   ]
  },
  {
   "cell_type": "markdown",
   "metadata": {},
   "source": [
    "## Feature Selection"
   ]
  },
  {
   "cell_type": "code",
   "execution_count": 608,
   "metadata": {},
   "outputs": [],
   "source": [
    "from sklearn.feature_selection import VarianceThreshold\n",
    "from sklearn.feature_selection import SelectFromModel\n",
    "from sklearn.feature_selection import SelectKBest\n",
    "from sklearn.feature_selection import chi2\n",
    "import numpy as np"
   ]
  },
  {
   "cell_type": "code",
   "execution_count": 609,
   "metadata": {},
   "outputs": [],
   "source": [
    "from sklearn.feature_selection import RFE"
   ]
  },
  {
   "cell_type": "code",
   "execution_count": 612,
   "metadata": {},
   "outputs": [
    {
     "data": {
      "text/plain": [
       "(50882, 11)"
      ]
     },
     "execution_count": 612,
     "metadata": {},
     "output_type": "execute_result"
    }
   ],
   "source": [
    "X.shape"
   ]
  },
  {
   "cell_type": "markdown",
   "metadata": {},
   "source": [
    "## Oversampling"
   ]
  },
  {
   "cell_type": "code",
   "execution_count": 698,
   "metadata": {},
   "outputs": [],
   "source": [
    "# oversamlpling\n",
    "from imblearn.over_sampling import RandomOverSampler\n",
    "from sklearn.metrics import confusion_matrix\n",
    "from sklearn.metrics import accuracy_score\n",
    "from sklearn.metrics import classification_report\n",
    "from sklearn.metrics import auc\n",
    "from pycm import ConfusionMatrix\n",
    "from collections import Counter\n",
    "from imblearn.combine import SMOTETomek"
   ]
  },
  {
   "cell_type": "code",
   "execution_count": 701,
   "metadata": {},
   "outputs": [
    {
     "name": "stdout",
     "output_type": "stream",
     "text": [
      "The number of classes before fit Counter({0: 30940, 1: 9765})\n",
      "The number of classes after fit Counter({0: 30940, 1: 30940})\n"
     ]
    }
   ],
   "source": [
    "# Over sampling Technique\n",
    "ost=RandomOverSampler()\n",
    "X_train_ns,y_train_ns=ost.fit_sample(X_train,y_train)\n",
    "print(\"The number of classes before fit {}\".format(Counter(y_train)))\n",
    "print(\"The number of classes after fit {}\".format(Counter(y_train_ns)))"
   ]
  },
  {
   "cell_type": "markdown",
   "metadata": {},
   "source": [
    "## Model On Logistics Regression Oversampling"
   ]
  },
  {
   "cell_type": "code",
   "execution_count": 702,
   "metadata": {
    "scrolled": true
   },
   "outputs": [
    {
     "name": "stderr",
     "output_type": "stream",
     "text": [
      "C:\\Users\\lenovo\\anaconda3\\lib\\site-packages\\scipy\\optimize\\linesearch.py:477: LineSearchWarning: The line search algorithm did not converge\n",
      "  warn('The line search algorithm did not converge', LineSearchWarning)\n",
      "C:\\Users\\lenovo\\anaconda3\\lib\\site-packages\\scipy\\optimize\\linesearch.py:327: LineSearchWarning: The line search algorithm did not converge\n",
      "  warn('The line search algorithm did not converge', LineSearchWarning)\n",
      "C:\\Users\\lenovo\\anaconda3\\lib\\site-packages\\scipy\\optimize\\linesearch.py:477: LineSearchWarning: The line search algorithm did not converge\n",
      "  warn('The line search algorithm did not converge', LineSearchWarning)\n",
      "C:\\Users\\lenovo\\anaconda3\\lib\\site-packages\\scipy\\optimize\\linesearch.py:327: LineSearchWarning: The line search algorithm did not converge\n",
      "  warn('The line search algorithm did not converge', LineSearchWarning)\n",
      "C:\\Users\\lenovo\\anaconda3\\lib\\site-packages\\scipy\\optimize\\linesearch.py:437: LineSearchWarning: Rounding errors prevent the line search from converging\n",
      "  warn(msg, LineSearchWarning)\n",
      "C:\\Users\\lenovo\\anaconda3\\lib\\site-packages\\scipy\\optimize\\linesearch.py:327: LineSearchWarning: The line search algorithm did not converge\n",
      "  warn('The line search algorithm did not converge', LineSearchWarning)\n",
      "C:\\Users\\lenovo\\anaconda3\\lib\\site-packages\\sklearn\\utils\\optimize.py:204: UserWarning: Line Search failed\n",
      "  warnings.warn('Line Search failed')\n"
     ]
    }
   ],
   "source": [
    "from sklearn.linear_model import LogisticRegression\n",
    "lg = LogisticRegression(class_weight='balanced',solver = 'newton-cg')\n",
    "\n",
    "mode1 = lg.fit(X_train_ns,y_train_ns)\n",
    "THRESHOLD = 0.4\n",
    "preds = np.where(mode1.predict_proba(X_test)[:,1] > THRESHOLD, 1, 0)"
   ]
  },
  {
   "cell_type": "code",
   "execution_count": 703,
   "metadata": {},
   "outputs": [
    {
     "name": "stdout",
     "output_type": "stream",
     "text": [
      "Confusion Matrix:\n",
      " [[1402  218]\n",
      " [6331 2226]]\n",
      "\n",
      "Accuracy: 35.65%\n",
      "\n",
      "              precision    recall  f1-score   support\n",
      "\n",
      "           0       0.87      0.18      0.30      7733\n",
      "           1       0.26      0.91      0.40      2444\n",
      "\n",
      "    accuracy                           0.36     10177\n",
      "   macro avg       0.56      0.55      0.35     10177\n",
      "weighted avg       0.72      0.36      0.32     10177\n",
      "\n",
      "\n",
      " Predict    0          1          \n",
      "Actual\n",
      "0          1402       6331       \n",
      "\n",
      "1          218        2226       \n",
      "\n",
      "\n",
      "\n",
      "\n",
      "\n",
      "Overall Statistics : \n",
      "\n",
      "95% CI                                                            (0.34718,0.3658)\n",
      "ACC Macro                                                         0.35649\n",
      "ARI                                                               -0.04934\n",
      "AUNP                                                              0.54605\n",
      "AUNU                                                              0.54605\n",
      "Bangdiwala B                                                      0.20695\n",
      "Bennett S                                                         -0.28702\n",
      "CBA                                                               0.22072\n",
      "CSI                                                               0.10884\n",
      "Chi-Squared                                                       117.70066\n",
      "Chi-Squared DF                                                    1\n",
      "Conditional Entropy                                               0.62309\n",
      "Cramer V                                                          0.10754\n",
      "Cross Entropy                                                     2.07462\n",
      "F1 Macro                                                          0.35224\n",
      "F1 Micro                                                          0.35649\n",
      "FNR Macro                                                         0.45395\n",
      "FNR Micro                                                         0.64351\n",
      "FPR Macro                                                         0.45395\n",
      "FPR Micro                                                         0.64351\n",
      "Gwet AC1                                                          -0.27864\n",
      "Hamming Loss                                                      0.64351\n",
      "Joint Entropy                                                     1.41838\n",
      "KL Divergence                                                     1.27933\n",
      "Kappa                                                             0.04964\n",
      "Kappa 95% CI                                                      (0.0359,0.06338)\n",
      "Kappa No Prevalence                                               -0.28702\n",
      "Kappa Standard Error                                              0.00701\n",
      "Kappa Unbiased                                                    -0.29551\n",
      "Krippendorff Alpha                                                -0.29545\n",
      "Lambda A                                                          0.0\n",
      "Lambda B                                                          0.0\n",
      "Mutual Information                                                0.00926\n",
      "NIR                                                               0.75985\n",
      "Overall ACC                                                       0.35649\n",
      "Overall CEN                                                       0.54173\n",
      "Overall J                                                         (0.43001,0.215)\n",
      "Overall MCC                                                       0.10754\n",
      "Overall MCEN                                                      0.3614\n",
      "Overall RACC                                                      0.32288\n",
      "Overall RACCU                                                     0.50328\n",
      "P-Value                                                           None\n",
      "PPV Macro                                                         0.56278\n",
      "PPV Micro                                                         0.35649\n",
      "Pearson C                                                         0.10693\n",
      "Phi-Squared                                                       0.01157\n",
      "RCI                                                               0.01165\n",
      "RR                                                                5088.5\n",
      "Reference Entropy                                                 0.79529\n",
      "Response Entropy                                                  0.63235\n",
      "SOA1(Landis & Koch)                                               Slight\n",
      "SOA2(Fleiss)                                                      Poor\n",
      "SOA3(Altman)                                                      Poor\n",
      "SOA4(Cicchetti)                                                   Poor\n",
      "SOA5(Cramer)                                                      Weak\n",
      "SOA6(Matthews)                                                    Negligible\n",
      "Scott PI                                                          -0.29551\n",
      "Standard Error                                                    0.00475\n",
      "TNR Macro                                                         0.54605\n",
      "TNR Micro                                                         0.35649\n",
      "TPR Macro                                                         0.54605\n",
      "TPR Micro                                                         0.35649\n",
      "Zero-one Loss                                                     6549\n",
      "\n",
      "Class Statistics :\n",
      "\n",
      "Classes                                                           0             1             \n",
      "ACC(Accuracy)                                                     0.35649       0.35649       \n",
      "AGF(Adjusted F-score)                                             0.25565       0.5472        \n",
      "AGM(Adjusted geometric mean)                                      0.50404       0.30919       \n",
      "AM(Difference between automatic and manual classification)        -6113         6113          \n",
      "AUC(Area under the ROC curve)                                     0.54605       0.54605       \n",
      "AUCI(AUC value interpretation)                                    Poor          Poor          \n",
      "AUPR(Area under the PR curve)                                     0.52337       0.58547       \n",
      "BCD(Bray-Curtis dissimilarity)                                    0.30033       0.30033       \n",
      "BM(Informedness or bookmaker informedness)                        0.0921        0.0921        \n",
      "CEN(Confusion entropy)                                            0.50749       0.57085       \n",
      "DOR(Diagnostic odds ratio)                                        2.26123       2.26123       \n",
      "DP(Discriminant power)                                            0.19536       0.19536       \n",
      "DPI(Discriminant power interpretation)                            Poor          Poor          \n",
      "ERR(Error rate)                                                   0.64351       0.64351       \n",
      "F0.5(F0.5 score)                                                  0.49321       0.3035        \n",
      "F1(F1 score - harmonic mean of precision and sensitivity)         0.2998        0.40469       \n",
      "F2(F2 score)                                                      0.21535       0.6071        \n",
      "FDR(False discovery rate)                                         0.13457       0.73986       \n",
      "FN(False negative/miss/type 2 error)                              6331          218           \n",
      "FNR(Miss rate or false negative rate)                             0.8187        0.0892        \n",
      "FOR(False omission rate)                                          0.73986       0.13457       \n",
      "FP(False positive/type 1 error/false alarm)                       218           6331          \n",
      "FPR(Fall-out or false positive rate)                              0.0892        0.8187        \n",
      "G(G-measure geometric mean of precision and sensitivity)          0.39611       0.48676       \n",
      "GI(Gini index)                                                    0.0921        0.0921        \n",
      "GM(G-mean geometric mean of specificity and sensitivity)          0.40636       0.40636       \n",
      "IBA(Index of balanced accuracy)                                   0.04467       0.28559       \n",
      "ICSI(Individual classification success index)                     0.04673       0.17094       \n",
      "IS(Information score)                                             0.1877        0.11534       \n",
      "J(Jaccard index)                                                  0.17633       0.25368       \n",
      "LS(Lift score)                                                    1.13895       1.08323       \n",
      "MCC(Matthews correlation coefficient)                             0.10754       0.10754       \n",
      "MCCI(Matthews correlation coefficient interpretation)             Negligible    Negligible    \n",
      "MCEN(Modified confusion entropy)                                  0.40399       0.47223       \n",
      "MK(Markedness)                                                    0.12557       0.12557       \n",
      "N(Condition negative)                                             2444          7733          \n",
      "NLR(Negative likelihood ratio)                                    0.89888       0.49199       \n",
      "NLRI(Negative likelihood ratio interpretation)                    Negligible    Poor          \n",
      "NPV(Negative predictive value)                                    0.26014       0.86543       \n",
      "OC(Overlap coefficient)                                           0.86543       0.9108        \n",
      "OOC(Otsuka-Ochiai coefficient)                                    0.39611       0.48676       \n",
      "OP(Optimized precision)                                           -0.31149      -0.31149      \n",
      "P(Condition positive or support)                                  7733          2444          \n",
      "PLR(Positive likelihood ratio)                                    2.03257       1.1125        \n",
      "PLRI(Positive likelihood ratio interpretation)                    Poor          Poor          \n",
      "POP(Population)                                                   10177         10177         \n",
      "PPV(Precision or positive predictive value)                       0.86543       0.26014       \n",
      "PRE(Prevalence)                                                   0.75985       0.24015       \n",
      "Q(Yule Q - coefficient of colligation)                            0.38673       0.38673       \n",
      "QI(Yule Q interpretation)                                         Weak          Weak          \n",
      "RACC(Random accuracy)                                             0.12095       0.20192       \n",
      "RACCU(Random accuracy unbiased)                                   0.21116       0.29212       \n",
      "TN(True negative/correct rejection)                               2226          1402          \n",
      "TNR(Specificity or true negative rate)                            0.9108        0.1813        \n",
      "TON(Test outcome negative)                                        8557          1620          \n",
      "TOP(Test outcome positive)                                        1620          8557          \n",
      "TP(True positive/hit)                                             1402          2226          \n",
      "TPR(Sensitivity, recall, hit rate, or true positive rate)         0.1813        0.9108        \n",
      "Y(Youden index)                                                   0.0921        0.0921        \n",
      "dInd(Distance index)                                              0.82354       0.82354       \n",
      "sInd(Similarity index)                                            0.41767       0.41767       \n",
      "\n"
     ]
    }
   ],
   "source": [
    "tab = confusion_matrix(preds, y_test)\n",
    "print(\"Confusion Matrix:\\n\",tab)\n",
    "# evaluate predictions\n",
    "acc = (accuracy_score(y_test, preds))*100\n",
    "print(\"\\nAccuracy: %.2f%%\\n\" % acc)\n",
    "print(classification_report(y_test,preds))\n",
    "print(\"\\n\",ConfusionMatrix(np.array(y_test),preds))"
   ]
  },
  {
   "cell_type": "markdown",
   "metadata": {},
   "source": [
    "## Random Forest"
   ]
  },
  {
   "cell_type": "code",
   "execution_count": 704,
   "metadata": {},
   "outputs": [],
   "source": [
    "from sklearn.ensemble import RandomForestClassifier\n",
    "rf = RandomForestClassifier(n_estimators= 500,\n",
    " min_samples_split = 100,\n",
    " min_samples_leaf = 5,\n",
    " max_features = 'auto',\n",
    " max_depth = 30)"
   ]
  },
  {
   "cell_type": "code",
   "execution_count": 705,
   "metadata": {},
   "outputs": [],
   "source": [
    "model2 = rf.fit(X_train_ns,y_train_ns)"
   ]
  },
  {
   "cell_type": "code",
   "execution_count": 706,
   "metadata": {},
   "outputs": [],
   "source": [
    "pred2 = model2.predict(X_test)"
   ]
  },
  {
   "cell_type": "code",
   "execution_count": 707,
   "metadata": {},
   "outputs": [
    {
     "name": "stdout",
     "output_type": "stream",
     "text": [
      "Confusion matrix:\n",
      " [[5147 1201]\n",
      " [2586 1243]]\n",
      "\n",
      "Accuracy: 62.79%\n",
      "\n",
      "              precision    recall  f1-score   support\n",
      "\n",
      "           0       0.81      0.67      0.73      7733\n",
      "           1       0.32      0.51      0.40      2444\n",
      "\n",
      "    accuracy                           0.63     10177\n",
      "   macro avg       0.57      0.59      0.56     10177\n",
      "weighted avg       0.69      0.63      0.65     10177\n",
      "\n",
      "\n",
      " Predict    0          1          \n",
      "Actual\n",
      "0          5147       2586       \n",
      "\n",
      "1          1201       1243       \n",
      "\n",
      "\n",
      "\n",
      "\n",
      "\n",
      "Overall Statistics : \n",
      "\n",
      "95% CI                                                            (0.6185,0.63728)\n",
      "ACC Macro                                                         0.62789\n",
      "ARI                                                               0.04963\n",
      "AUNP                                                              0.58709\n",
      "AUNU                                                              0.58709\n",
      "Bangdiwala B                                                      0.47969\n",
      "Bennett S                                                         0.25577\n",
      "CBA                                                               0.49511\n",
      "CSI                                                               0.15481\n",
      "Chi-Squared                                                       240.07712\n",
      "Chi-Squared DF                                                    1\n",
      "Conditional Entropy                                               0.93868\n",
      "Cramer V                                                          0.15359\n",
      "Cross Entropy                                                     0.85609\n",
      "F1 Macro                                                          0.56368\n",
      "F1 Micro                                                          0.62789\n",
      "FNR Macro                                                         0.41291\n",
      "FNR Micro                                                         0.37211\n",
      "FPR Macro                                                         0.41291\n",
      "FPR Micro                                                         0.37211\n",
      "Gwet AC1                                                          0.35124\n",
      "Hamming Loss                                                      0.37211\n",
      "Joint Entropy                                                     1.73397\n",
      "KL Divergence                                                     0.0608\n",
      "Kappa                                                             0.14591\n",
      "Kappa 95% CI                                                      (0.12435,0.16746)\n",
      "Kappa No Prevalence                                               0.25577\n",
      "Kappa Standard Error                                              0.011\n",
      "Kappa Unbiased                                                    0.12736\n",
      "Krippendorff Alpha                                                0.1274\n",
      "Lambda A                                                          0.0\n",
      "Lambda B                                                          0.01097\n",
      "Mutual Information                                                0.01666\n",
      "NIR                                                               0.75985\n",
      "Overall ACC                                                       0.62789\n",
      "Overall CEN                                                       0.82334\n",
      "Overall J                                                         (0.82323,0.41162)\n",
      "Overall MCC                                                       0.15359\n",
      "Overall MCEN                                                      0.64194\n",
      "Overall RACC                                                      0.56432\n",
      "Overall RACCU                                                     0.57358\n",
      "P-Value                                                           None\n",
      "PPV Macro                                                         0.56772\n",
      "PPV Micro                                                         0.62789\n",
      "Pearson C                                                         0.15181\n",
      "Phi-Squared                                                       0.02359\n",
      "RCI                                                               0.02095\n",
      "RR                                                                5088.5\n",
      "Reference Entropy                                                 0.79529\n",
      "Response Entropy                                                  0.95534\n",
      "SOA1(Landis & Koch)                                               Slight\n",
      "SOA2(Fleiss)                                                      Poor\n",
      "SOA3(Altman)                                                      Poor\n",
      "SOA4(Cicchetti)                                                   Poor\n",
      "SOA5(Cramer)                                                      Weak\n",
      "SOA6(Matthews)                                                    Negligible\n",
      "Scott PI                                                          0.12736\n",
      "Standard Error                                                    0.00479\n",
      "TNR Macro                                                         0.58709\n",
      "TNR Micro                                                         0.62789\n",
      "TPR Macro                                                         0.58709\n",
      "TPR Micro                                                         0.62789\n",
      "Zero-one Loss                                                     3787\n",
      "\n",
      "Class Statistics :\n",
      "\n",
      "Classes                                                           0             1             \n",
      "ACC(Accuracy)                                                     0.62789       0.62789       \n",
      "AGF(Adjusted F-score)                                             0.4915        0.59574       \n",
      "AGM(Adjusted geometric mean)                                      0.56764       0.61799       \n",
      "AM(Difference between automatic and manual classification)        -1385         1385          \n",
      "AUC(Area under the ROC curve)                                     0.58709       0.58709       \n",
      "AUCI(AUC value interpretation)                                    Poor          Poor          \n",
      "AUPR(Area under the PR curve)                                     0.7382        0.41661       \n",
      "BCD(Bray-Curtis dissimilarity)                                    0.06805       0.06805       \n",
      "BM(Informedness or bookmaker informedness)                        0.17418       0.17418       \n",
      "CEN(Confusion entropy)                                            0.75193       0.98363       \n",
      "DOR(Diagnostic odds ratio)                                        2.05994       2.05994       \n",
      "DP(Discriminant power)                                            0.17304       0.17304       \n",
      "DPI(Discriminant power interpretation)                            Poor          Poor          \n",
      "ERR(Error rate)                                                   0.37211       0.37211       \n",
      "F0.5(F0.5 score)                                                  0.77691       0.34994       \n",
      "F1(F1 score - harmonic mean of precision and sensitivity)         0.73106       0.3963        \n",
      "F2(F2 score)                                                      0.69032       0.45682       \n",
      "FDR(False discovery rate)                                         0.18919       0.67537       \n",
      "FN(False negative/miss/type 2 error)                              2586          1201          \n",
      "FNR(Miss rate or false negative rate)                             0.33441       0.49141       \n",
      "FOR(False omission rate)                                          0.67537       0.18919       \n",
      "FP(False positive/type 1 error/false alarm)                       1201          2586          \n",
      "FPR(Fall-out or false positive rate)                              0.49141       0.33441       \n",
      "G(G-measure geometric mean of precision and sensitivity)          0.73462       0.40633       \n",
      "GI(Gini index)                                                    0.17418       0.17418       \n",
      "GM(G-mean geometric mean of specificity and sensitivity)          0.58182       0.58182       \n",
      "IBA(Index of balanced accuracy)                                   0.39166       0.28537       \n",
      "ICSI(Individual classification success index)                     0.4764        -0.16678      \n",
      "IS(Information score)                                             0.09364       0.43485       \n",
      "J(Jaccard index)                                                  0.57611       0.24712       \n",
      "LS(Lift score)                                                    1.06706       1.35177       \n",
      "MCC(Matthews correlation coefficient)                             0.15359       0.15359       \n",
      "MCCI(Matthews correlation coefficient interpretation)             Negligible    Negligible    \n",
      "MCEN(Modified confusion entropy)                                  0.9069        0.98684       \n",
      "MK(Markedness)                                                    0.13543       0.13543       \n",
      "N(Condition negative)                                             2444          7733          \n",
      "NLR(Negative likelihood ratio)                                    0.65752       0.7383        \n",
      "NLRI(Negative likelihood ratio interpretation)                    Negligible    Negligible    \n",
      "NPV(Negative predictive value)                                    0.32463       0.81081       \n",
      "OC(Overlap coefficient)                                           0.81081       0.50859       \n",
      "OOC(Otsuka-Ochiai coefficient)                                    0.73462       0.40633       \n",
      "OP(Optimized precision)                                           0.49418       0.49418       \n",
      "P(Condition positive or support)                                  7733          2444          \n",
      "PLR(Positive likelihood ratio)                                    1.35445       1.52086       \n",
      "PLRI(Positive likelihood ratio interpretation)                    Poor          Poor          \n",
      "POP(Population)                                                   10177         10177         \n",
      "PPV(Precision or positive predictive value)                       0.81081       0.32463       \n",
      "PRE(Prevalence)                                                   0.75985       0.24015       \n",
      "Q(Yule Q - coefficient of colligation)                            0.34639       0.34639       \n",
      "QI(Yule Q interpretation)                                         Weak          Weak          \n",
      "RACC(Random accuracy)                                             0.47396       0.09035       \n",
      "RACCU(Random accuracy unbiased)                                   0.47859       0.09498       \n",
      "TN(True negative/correct rejection)                               1243          5147          \n",
      "TNR(Specificity or true negative rate)                            0.50859       0.66559       \n",
      "TON(Test outcome negative)                                        3829          6348          \n",
      "TOP(Test outcome positive)                                        6348          3829          \n",
      "TP(True positive/hit)                                             5147          1243          \n",
      "TPR(Sensitivity, recall, hit rate, or true positive rate)         0.66559       0.50859       \n",
      "Y(Youden index)                                                   0.17418       0.17418       \n",
      "dInd(Distance index)                                              0.5944        0.5944        \n",
      "sInd(Similarity index)                                            0.5797        0.5797        \n",
      "\n"
     ]
    }
   ],
   "source": [
    "tab2 = confusion_matrix(pred2,y_test)\n",
    "print(\"Confusion matrix:\\n\",tab2)\n",
    "# Evaluate Predictions\n",
    "acc2 = (accuracy_score(y_test,pred2))*100\n",
    "print(\"\\nAccuracy: %.2f%%\\n\" % acc2)\n",
    "print(classification_report(y_test,pred2))\n",
    "print(\"\\n\",ConfusionMatrix(np.array(y_test),pred2))"
   ]
  },
  {
   "cell_type": "markdown",
   "metadata": {},
   "source": [
    "## XGBoosting Classifier"
   ]
  },
  {
   "cell_type": "code",
   "execution_count": 708,
   "metadata": {},
   "outputs": [],
   "source": [
    "from xgboost import XGBClassifier\n",
    "xgb = XGBClassifier(learning_rate =0.1,\n",
    " n_estimators=1000,\n",
    " max_depth=8,\n",
    " min_child_weight=1,\n",
    " gamma=0,\n",
    " subsample=0.8,\n",
    " colsample_bytree=0.8,\n",
    " objective= 'binary:logistic',\n",
    " nthread=4,\n",
    " scale_pos_weight=1,\n",
    " seed=27)"
   ]
  },
  {
   "cell_type": "code",
   "execution_count": 709,
   "metadata": {},
   "outputs": [
    {
     "name": "stderr",
     "output_type": "stream",
     "text": [
      "C:\\Users\\lenovo\\anaconda3\\lib\\site-packages\\xgboost\\sklearn.py:892: UserWarning: The use of label encoder in XGBClassifier is deprecated and will be removed in a future release. To remove this warning, do the following: 1) Pass option use_label_encoder=False when constructing XGBClassifier object; and 2) Encode your labels (y) as integers starting with 0, i.e. 0, 1, 2, ..., [num_class - 1].\n",
      "  warnings.warn(label_encoder_deprecation_msg, UserWarning)\n"
     ]
    },
    {
     "name": "stdout",
     "output_type": "stream",
     "text": [
      "[18:53:56] WARNING: C:/Users/Administrator/workspace/xgboost-win64_release_1.3.0/src/learner.cc:1061: Starting in XGBoost 1.3.0, the default evaluation metric used with the objective 'binary:logistic' was changed from 'error' to 'logloss'. Explicitly set eval_metric if you'd like to restore the old behavior.\n"
     ]
    }
   ],
   "source": [
    "model3 = xgb.fit(X_train_ns,y_train_ns)"
   ]
  },
  {
   "cell_type": "code",
   "execution_count": 710,
   "metadata": {},
   "outputs": [],
   "source": [
    "pred3 = model3.predict(X_test)"
   ]
  },
  {
   "cell_type": "code",
   "execution_count": 711,
   "metadata": {},
   "outputs": [
    {
     "name": "stdout",
     "output_type": "stream",
     "text": [
      "Confusion matrix:\n",
      " [[6448 1669]\n",
      " [1285  775]]\n",
      "\n",
      "Accuracy: 70.97%\n",
      "\n",
      "              precision    recall  f1-score   support\n",
      "\n",
      "           0       0.79      0.83      0.81      7733\n",
      "           1       0.38      0.32      0.34      2444\n",
      "\n",
      "    accuracy                           0.71     10177\n",
      "   macro avg       0.59      0.58      0.58     10177\n",
      "weighted avg       0.69      0.71      0.70     10177\n",
      "\n",
      "\n",
      " Predict    0          1          \n",
      "Actual\n",
      "0          6448       1285       \n",
      "\n",
      "1          1669       775        \n",
      "\n",
      "\n",
      "\n",
      "\n",
      "\n",
      "Overall Statistics : \n",
      "\n",
      "95% CI                                                            (0.70092,0.71856)\n",
      "ACC Macro                                                         0.70974\n",
      "ARI                                                               0.08874\n",
      "AUNP                                                              0.57547\n",
      "AUNU                                                              0.57547\n",
      "Bangdiwala B                                                      0.62205\n",
      "Bennett S                                                         0.41948\n",
      "CBA                                                               0.55574\n",
      "CSI                                                               0.16076\n",
      "Chi-Squared                                                       262.04131\n",
      "Chi-Squared DF                                                    1\n",
      "Conditional Entropy                                               0.70947\n",
      "Cramer V                                                          0.16046\n",
      "Cross Entropy                                                     0.80138\n",
      "F1 Macro                                                          0.57888\n",
      "F1 Micro                                                          0.70974\n",
      "FNR Macro                                                         0.42453\n",
      "FNR Micro                                                         0.29026\n",
      "FPR Macro                                                         0.42453\n",
      "FPR Micro                                                         0.29026\n",
      "Gwet AC1                                                          0.5571\n",
      "Hamming Loss                                                      0.29026\n",
      "Joint Entropy                                                     1.50476\n",
      "KL Divergence                                                     0.00609\n",
      "Kappa                                                             0.1595\n",
      "Kappa 95% CI                                                      (0.13397,0.18504)\n",
      "Kappa No Prevalence                                               0.41948\n",
      "Kappa Standard Error                                              0.01303\n",
      "Kappa Unbiased                                                    0.15777\n",
      "Krippendorff Alpha                                                0.15781\n",
      "Lambda A                                                          0.0\n",
      "Lambda B                                                          0.0\n",
      "Mutual Information                                                0.01727\n",
      "NIR                                                               0.75985\n",
      "Overall ACC                                                       0.70974\n",
      "Overall CEN                                                       0.72679\n",
      "Overall J                                                         (0.89364,0.44682)\n",
      "Overall MCC                                                       0.16046\n",
      "Overall MCEN                                                      0.57791\n",
      "Overall RACC                                                      0.65465\n",
      "Overall RACCU                                                     0.65537\n",
      "P-Value                                                           None\n",
      "PPV Macro                                                         0.5853\n",
      "PPV Micro                                                         0.70974\n",
      "Pearson C                                                         0.15844\n",
      "Phi-Squared                                                       0.02575\n",
      "RCI                                                               0.02171\n",
      "RR                                                                5088.5\n",
      "Reference Entropy                                                 0.79529\n",
      "Response Entropy                                                  0.72674\n",
      "SOA1(Landis & Koch)                                               Slight\n",
      "SOA2(Fleiss)                                                      Poor\n",
      "SOA3(Altman)                                                      Poor\n",
      "SOA4(Cicchetti)                                                   Poor\n",
      "SOA5(Cramer)                                                      Weak\n",
      "SOA6(Matthews)                                                    Negligible\n",
      "Scott PI                                                          0.15777\n",
      "Standard Error                                                    0.0045\n",
      "TNR Macro                                                         0.57547\n",
      "TNR Micro                                                         0.70974\n",
      "TPR Macro                                                         0.57547\n",
      "TPR Micro                                                         0.70974\n",
      "Zero-one Loss                                                     2954\n",
      "\n",
      "Class Statistics :\n",
      "\n",
      "Classes                                                           0             1             \n",
      "ACC(Accuracy)                                                     0.70974       0.70974       \n",
      "AGF(Adjusted F-score)                                             0.54722       0.5124        \n",
      "AGM(Adjusted geometric mean)                                      0.47604       0.65221       \n",
      "AM(Difference between automatic and manual classification)        384           -384          \n",
      "AUC(Area under the ROC curve)                                     0.57547       0.57547       \n",
      "AUCI(AUC value interpretation)                                    Poor          Poor          \n",
      "AUPR(Area under the PR curve)                                     0.81411       0.34666       \n",
      "BCD(Bray-Curtis dissimilarity)                                    0.01887       0.01887       \n",
      "BM(Informedness or bookmaker informedness)                        0.15093       0.15093       \n",
      "CEN(Confusion entropy)                                            0.63581       1.04696       \n",
      "DOR(Diagnostic odds ratio)                                        2.33006       2.33006       \n",
      "DP(Discriminant power)                                            0.20254       0.20254       \n",
      "DPI(Discriminant power interpretation)                            Poor          Poor          \n",
      "ERR(Error rate)                                                   0.29026       0.29026       \n",
      "F0.5(F0.5 score)                                                  0.80197       0.36269       \n",
      "F1(F1 score - harmonic mean of precision and sensitivity)         0.81363       0.34414       \n",
      "F2(F2 score)                                                      0.82563       0.32739       \n",
      "FDR(False discovery rate)                                         0.20562       0.62379       \n",
      "FN(False negative/miss/type 2 error)                              1285          1669          \n",
      "FNR(Miss rate or false negative rate)                             0.16617       0.6829        \n",
      "FOR(False omission rate)                                          0.62379       0.20562       \n",
      "FP(False positive/type 1 error/false alarm)                       1669          1285          \n",
      "FPR(Fall-out or false positive rate)                              0.6829        0.16617       \n",
      "G(G-measure geometric mean of precision and sensitivity)          0.81387       0.3454        \n",
      "GI(Gini index)                                                    0.15093       0.15093       \n",
      "GM(G-mean geometric mean of specificity and sensitivity)          0.51421       0.51421       \n",
      "IBA(Index of balanced accuracy)                                   0.40104       0.12778       \n",
      "ICSI(Individual classification success index)                     0.62821       -0.30668      \n",
      "IS(Information score)                                             0.06412       0.64762       \n",
      "J(Jaccard index)                                                  0.68581       0.20783       \n",
      "LS(Lift score)                                                    1.04545       1.56658       \n",
      "MCC(Matthews correlation coefficient)                             0.16046       0.16046       \n",
      "MCCI(Matthews correlation coefficient interpretation)             Negligible    Negligible    \n",
      "MCEN(Modified confusion entropy)                                  0.83514       1.04875       \n",
      "MK(Markedness)                                                    0.1706        0.1706        \n",
      "N(Condition negative)                                             2444          7733          \n",
      "NLR(Negative likelihood ratio)                                    0.52403       0.81899       \n",
      "NLRI(Negative likelihood ratio interpretation)                    Negligible    Negligible    \n",
      "NPV(Negative predictive value)                                    0.37621       0.79438       \n",
      "OC(Overlap coefficient)                                           0.83383       0.37621       \n",
      "OOC(Otsuka-Ochiai coefficient)                                    0.81387       0.3454        \n",
      "OP(Optimized precision)                                           0.26077       0.26077       \n",
      "P(Condition positive or support)                                  7733          2444          \n",
      "PLR(Positive likelihood ratio)                                    1.22102       1.90829       \n",
      "PLRI(Positive likelihood ratio interpretation)                    Poor          Poor          \n",
      "POP(Population)                                                   10177         10177         \n",
      "PPV(Precision or positive predictive value)                       0.79438       0.37621       \n",
      "PRE(Prevalence)                                                   0.75985       0.24015       \n",
      "Q(Yule Q - coefficient of colligation)                            0.39941       0.39941       \n",
      "QI(Yule Q interpretation)                                         Weak          Weak          \n",
      "RACC(Random accuracy)                                             0.60604       0.04861       \n",
      "RACCU(Random accuracy unbiased)                                   0.6064        0.04897       \n",
      "TN(True negative/correct rejection)                               775           6448          \n",
      "TNR(Specificity or true negative rate)                            0.3171        0.83383       \n",
      "TON(Test outcome negative)                                        2060          8117          \n",
      "TOP(Test outcome positive)                                        8117          2060          \n",
      "TP(True positive/hit)                                             6448          775           \n",
      "TPR(Sensitivity, recall, hit rate, or true positive rate)         0.83383       0.3171        \n",
      "Y(Youden index)                                                   0.15093       0.15093       \n",
      "dInd(Distance index)                                              0.70282       0.70282       \n",
      "sInd(Similarity index)                                            0.50303       0.50303       \n",
      "\n"
     ]
    }
   ],
   "source": [
    "tab3 = confusion_matrix(pred3,y_test)\n",
    "print(\"Confusion matrix:\\n\",tab3)\n",
    "# Evaluate Predictions\n",
    "acc3 = (accuracy_score(y_test,pred3))*100\n",
    "print(\"\\nAccuracy: %.2f%%\\n\" % acc3)\n",
    "print(classification_report(y_test,pred3))\n",
    "print(\"\\n\",ConfusionMatrix(np.array(y_test),pred3))"
   ]
  },
  {
   "cell_type": "markdown",
   "metadata": {},
   "source": [
    "## Adaboosting"
   ]
  },
  {
   "cell_type": "code",
   "execution_count": 712,
   "metadata": {},
   "outputs": [],
   "source": [
    "from sklearn.ensemble import AdaBoostClassifier\n",
    "abc = AdaBoostClassifier(n_estimators = 25)"
   ]
  },
  {
   "cell_type": "code",
   "execution_count": 713,
   "metadata": {},
   "outputs": [
    {
     "name": "stdout",
     "output_type": "stream",
     "text": [
      "Model fitted!!\n"
     ]
    }
   ],
   "source": [
    "abc.fit(X_train_ns, y_train_ns)\n",
    "print(\"Model fitted!!\")"
   ]
  },
  {
   "cell_type": "code",
   "execution_count": 714,
   "metadata": {},
   "outputs": [],
   "source": [
    "pred_adb = abc.predict(X_test)"
   ]
  },
  {
   "cell_type": "code",
   "execution_count": 715,
   "metadata": {},
   "outputs": [],
   "source": [
    "tab4 = confusion_matrix(pred_adb,y_test)"
   ]
  },
  {
   "cell_type": "code",
   "execution_count": 716,
   "metadata": {},
   "outputs": [
    {
     "name": "stdout",
     "output_type": "stream",
     "text": [
      "Confusion Matrix:\n",
      " [[3362  729]\n",
      " [4371 1715]]\n",
      "\n",
      "Accuracy: 49.89%\n",
      "\n",
      "              precision    recall  f1-score   support\n",
      "\n",
      "           0       0.82      0.43      0.57      7733\n",
      "           1       0.28      0.70      0.40      2444\n",
      "\n",
      "    accuracy                           0.50     10177\n",
      "   macro avg       0.55      0.57      0.49     10177\n",
      "weighted avg       0.69      0.50      0.53     10177\n",
      "\n",
      "\n",
      " Predict    0          1          \n",
      "Actual\n",
      "0          3362       4371       \n",
      "\n",
      "1          729        1715       \n",
      "\n",
      "\n",
      "\n",
      "\n",
      "\n",
      "Overall Statistics : \n",
      "\n",
      "95% CI                                                            (0.48916,0.50858)\n",
      "ACC Macro                                                         0.49887\n",
      "ARI                                                               -0.01055\n",
      "AUNP                                                              0.56824\n",
      "AUNU                                                              0.56824\n",
      "Bangdiwala B                                                      0.30626\n",
      "Bennett S                                                         -0.00226\n",
      "CBA                                                               0.35828\n",
      "CSI                                                               0.12004\n",
      "Chi-Squared                                                       143.89204\n",
      "Chi-Squared DF                                                    1\n",
      "Conditional Entropy                                               0.96163\n",
      "Cramer V                                                          0.11891\n",
      "Cross Entropy                                                     1.17717\n",
      "F1 Macro                                                          0.48539\n",
      "F1 Micro                                                          0.49887\n",
      "FNR Macro                                                         0.43176\n",
      "FNR Micro                                                         0.50113\n",
      "FPR Macro                                                         0.43176\n",
      "FPR Micro                                                         0.50113\n",
      "Gwet AC1                                                          0.02332\n",
      "Hamming Loss                                                      0.50113\n",
      "Joint Entropy                                                     1.75692\n",
      "KL Divergence                                                     0.38188\n",
      "Kappa                                                             0.09041\n",
      "Kappa 95% CI                                                      (0.07277,0.10804)\n",
      "Kappa No Prevalence                                               -0.00226\n",
      "Kappa Standard Error                                              0.009\n",
      "Kappa Unbiased                                                    -0.02922\n",
      "Krippendorff Alpha                                                -0.02917\n",
      "Lambda A                                                          0.0\n",
      "Lambda B                                                          0.0\n",
      "Mutual Information                                                0.01047\n",
      "NIR                                                               0.75985\n",
      "Overall ACC                                                       0.49887\n",
      "Overall CEN                                                       0.78652\n",
      "Overall J                                                         (0.64896,0.32448)\n",
      "Overall MCC                                                       0.11891\n",
      "Overall MCEN                                                      0.58444\n",
      "Overall RACC                                                      0.44906\n",
      "Overall RACCU                                                     0.5131\n",
      "P-Value                                                           None\n",
      "PPV Macro                                                         0.5518\n",
      "PPV Micro                                                         0.49887\n",
      "Pearson C                                                         0.11808\n",
      "Phi-Squared                                                       0.01414\n",
      "RCI                                                               0.01317\n",
      "RR                                                                5088.5\n",
      "Reference Entropy                                                 0.79529\n",
      "Response Entropy                                                  0.9721\n",
      "SOA1(Landis & Koch)                                               Slight\n",
      "SOA2(Fleiss)                                                      Poor\n",
      "SOA3(Altman)                                                      Poor\n",
      "SOA4(Cicchetti)                                                   Poor\n",
      "SOA5(Cramer)                                                      Weak\n",
      "SOA6(Matthews)                                                    Negligible\n",
      "Scott PI                                                          -0.02922\n",
      "Standard Error                                                    0.00496\n",
      "TNR Macro                                                         0.56824\n",
      "TNR Micro                                                         0.49887\n",
      "TPR Macro                                                         0.56824\n",
      "TPR Micro                                                         0.49887\n",
      "Zero-one Loss                                                     5100\n",
      "\n",
      "Class Statistics :\n",
      "\n",
      "Classes                                                           0             1             \n",
      "ACC(Accuracy)                                                     0.49887       0.49887       \n",
      "AGF(Adjusted F-score)                                             0.39197       0.6141        \n",
      "AGM(Adjusted geometric mean)                                      0.58127       0.50157       \n",
      "AM(Difference between automatic and manual classification)        -3642         3642          \n",
      "AUC(Area under the ROC curve)                                     0.56824       0.56824       \n",
      "AUCI(AUC value interpretation)                                    Poor          Poor          \n",
      "AUPR(Area under the PR curve)                                     0.62828       0.49176       \n",
      "BCD(Bray-Curtis dissimilarity)                                    0.17893       0.17893       \n",
      "BM(Informedness or bookmaker informedness)                        0.13648       0.13648       \n",
      "CEN(Confusion entropy)                                            0.77856       0.79755       \n",
      "DOR(Diagnostic odds ratio)                                        1.80948       1.80948       \n",
      "DP(Discriminant power)                                            0.142         0.142         \n",
      "DPI(Discriminant power interpretation)                            Poor          Poor          \n",
      "ERR(Error rate)                                                   0.50113       0.50113       \n",
      "F0.5(F0.5 score)                                                  0.6976        0.32011       \n",
      "F1(F1 score - harmonic mean of precision and sensitivity)         0.56867       0.40211       \n",
      "F2(F2 score)                                                      0.47997       0.5406        \n",
      "FDR(False discovery rate)                                         0.1782        0.71821       \n",
      "FN(False negative/miss/type 2 error)                              4371          729           \n",
      "FNR(Miss rate or false negative rate)                             0.56524       0.29828       \n",
      "FOR(False omission rate)                                          0.71821       0.1782        \n",
      "FP(False positive/type 1 error/false alarm)                       729           4371          \n",
      "FPR(Fall-out or false positive rate)                              0.29828       0.56524       \n",
      "G(G-measure geometric mean of precision and sensitivity)          0.59774       0.44468       \n",
      "GI(Gini index)                                                    0.13648       0.13648       \n",
      "GM(G-mean geometric mean of specificity and sensitivity)          0.55234       0.55234       \n",
      "IBA(Index of balanced accuracy)                                   0.22364       0.38652       \n",
      "ICSI(Individual classification success index)                     0.25656       -0.01649      \n",
      "IS(Information score)                                             0.11308       0.23071       \n",
      "J(Jaccard index)                                                  0.39731       0.25165       \n",
      "LS(Lift score)                                                    1.08153       1.17341       \n",
      "MCC(Matthews correlation coefficient)                             0.11891       0.11891       \n",
      "MCCI(Matthews correlation coefficient interpretation)             Negligible    Negligible    \n",
      "MCEN(Modified confusion entropy)                                  0.797         0.75591       \n",
      "MK(Markedness)                                                    0.1036        0.1036        \n",
      "N(Condition negative)                                             2444          7733          \n",
      "NLR(Negative likelihood ratio)                                    0.80551       0.68608       \n",
      "NLRI(Negative likelihood ratio interpretation)                    Negligible    Negligible    \n",
      "NPV(Negative predictive value)                                    0.28179       0.8218        \n",
      "OC(Overlap coefficient)                                           0.8218        0.70172       \n",
      "OOC(Otsuka-Ochiai coefficient)                                    0.59774       0.44468       \n",
      "OP(Optimized precision)                                           0.26397       0.26397       \n",
      "P(Condition positive or support)                                  7733          2444          \n",
      "PLR(Positive likelihood ratio)                                    1.45755       1.24145       \n",
      "PLRI(Positive likelihood ratio interpretation)                    Poor          Poor          \n",
      "POP(Population)                                                   10177         10177         \n",
      "PPV(Precision or positive predictive value)                       0.8218        0.28179       \n",
      "PRE(Prevalence)                                                   0.75985       0.24015       \n",
      "Q(Yule Q - coefficient of colligation)                            0.28812       0.28812       \n",
      "QI(Yule Q interpretation)                                         Weak          Weak          \n",
      "RACC(Random accuracy)                                             0.30545       0.14361       \n",
      "RACCU(Random accuracy unbiased)                                   0.33747       0.17563       \n",
      "TN(True negative/correct rejection)                               1715          3362          \n",
      "TNR(Specificity or true negative rate)                            0.70172       0.43476       \n",
      "TON(Test outcome negative)                                        6086          4091          \n",
      "TOP(Test outcome positive)                                        4091          6086          \n",
      "TP(True positive/hit)                                             3362          1715          \n",
      "TPR(Sensitivity, recall, hit rate, or true positive rate)         0.43476       0.70172       \n",
      "Y(Youden index)                                                   0.13648       0.13648       \n",
      "dInd(Distance index)                                              0.63911       0.63911       \n",
      "sInd(Similarity index)                                            0.54808       0.54808       \n",
      "\n"
     ]
    }
   ],
   "source": [
    "print(\"Confusion Matrix:\\n\",tab4)\n",
    "# evaluate predictions\n",
    "acc4 = (accuracy_score(y_test, pred_adb))*100\n",
    "print(\"\\nAccuracy: %.2f%%\\n\" % acc4)\n",
    "print(classification_report(y_test,pred_adb))\n",
    "print(\"\\n\",ConfusionMatrix(np.array(y_test),pred_adb))"
   ]
  },
  {
   "cell_type": "markdown",
   "metadata": {},
   "source": [
    "## Gradient Boosting"
   ]
  },
  {
   "cell_type": "code",
   "execution_count": 717,
   "metadata": {},
   "outputs": [],
   "source": [
    "from sklearn.ensemble import GradientBoostingClassifier\n",
    "gbc = GradientBoostingClassifier()"
   ]
  },
  {
   "cell_type": "code",
   "execution_count": 718,
   "metadata": {},
   "outputs": [
    {
     "name": "stdout",
     "output_type": "stream",
     "text": [
      "Model Fitted\n"
     ]
    }
   ],
   "source": [
    "gbc.fit(X_train_ns,y_train_ns)\n",
    "print(\"Model Fitted\")"
   ]
  },
  {
   "cell_type": "code",
   "execution_count": 719,
   "metadata": {},
   "outputs": [],
   "source": [
    "pred_gbc = gbc.predict(X_test)"
   ]
  },
  {
   "cell_type": "code",
   "execution_count": 720,
   "metadata": {},
   "outputs": [],
   "source": [
    "tab5 = confusion_matrix(pred_gbc,y_test)"
   ]
  },
  {
   "cell_type": "code",
   "execution_count": 721,
   "metadata": {},
   "outputs": [
    {
     "name": "stdout",
     "output_type": "stream",
     "text": [
      "Confusion Matrix:\n",
      " [[3966  824]\n",
      " [3767 1620]]\n",
      "\n",
      "Accuracy: 54.89%\n",
      "\n",
      "              precision    recall  f1-score   support\n",
      "\n",
      "           0       0.83      0.51      0.63      7733\n",
      "           1       0.30      0.66      0.41      2444\n",
      "\n",
      "    accuracy                           0.55     10177\n",
      "   macro avg       0.56      0.59      0.52     10177\n",
      "weighted avg       0.70      0.55      0.58     10177\n",
      "\n",
      "\n",
      " Predict    0          1          \n",
      "Actual\n",
      "0          3966       3767       \n",
      "\n",
      "1          824        1620       \n",
      "\n",
      "\n",
      "\n",
      "\n",
      "\n",
      "Overall Statistics : \n",
      "\n",
      "95% CI                                                            (0.53922,0.55855)\n",
      "ACC Macro                                                         0.54888\n",
      "ARI                                                               0.00857\n",
      "AUNP                                                              0.58786\n",
      "AUNU                                                              0.58786\n",
      "Bangdiwala B                                                      0.36556\n",
      "Bennett S                                                         0.09777\n",
      "CBA                                                               0.4068\n",
      "CSI                                                               0.15221\n",
      "Chi-Squared                                                       230.14567\n",
      "Chi-Squared DF                                                    1\n",
      "Conditional Entropy                                               0.98092\n",
      "Cramer V                                                          0.15038\n",
      "Cross Entropy                                                     1.04652\n",
      "F1 Macro                                                          0.52357\n",
      "F1 Micro                                                          0.54888\n",
      "FNR Macro                                                         0.41214\n",
      "FNR Micro                                                         0.45112\n",
      "FPR Macro                                                         0.41214\n",
      "FPR Micro                                                         0.45112\n",
      "Gwet AC1                                                          0.14329\n",
      "Hamming Loss                                                      0.45112\n",
      "Joint Entropy                                                     1.77621\n",
      "KL Divergence                                                     0.25123\n",
      "Kappa                                                             0.12446\n",
      "Kappa 95% CI                                                      (0.1057,0.14323)\n",
      "Kappa No Prevalence                                               0.09777\n",
      "Kappa Standard Error                                              0.00957\n",
      "Kappa Unbiased                                                    0.04713\n",
      "Krippendorff Alpha                                                0.04718\n",
      "Lambda A                                                          0.0\n",
      "Lambda B                                                          0.04154\n",
      "Mutual Information                                                0.01659\n",
      "NIR                                                               0.75985\n",
      "Overall ACC                                                       0.54888\n",
      "Overall CEN                                                       0.80659\n",
      "Overall J                                                         (0.72431,0.36215)\n",
      "Overall MCC                                                       0.15038\n",
      "Overall MCEN                                                      0.60725\n",
      "Overall RACC                                                      0.48476\n",
      "Overall RACCU                                                     0.52657\n",
      "P-Value                                                           None\n",
      "PPV Macro                                                         0.56435\n",
      "PPV Micro                                                         0.54888\n",
      "Pearson C                                                         0.14871\n",
      "Phi-Squared                                                       0.02261\n",
      "RCI                                                               0.02087\n",
      "RR                                                                5088.5\n",
      "Reference Entropy                                                 0.79529\n",
      "Response Entropy                                                  0.99752\n",
      "SOA1(Landis & Koch)                                               Slight\n",
      "SOA2(Fleiss)                                                      Poor\n",
      "SOA3(Altman)                                                      Poor\n",
      "SOA4(Cicchetti)                                                   Poor\n",
      "SOA5(Cramer)                                                      Weak\n",
      "SOA6(Matthews)                                                    Negligible\n",
      "Scott PI                                                          0.04713\n",
      "Standard Error                                                    0.00493\n",
      "TNR Macro                                                         0.58786\n",
      "TNR Micro                                                         0.54888\n",
      "TPR Macro                                                         0.58786\n",
      "TPR Micro                                                         0.54888\n",
      "Zero-one Loss                                                     4591\n",
      "\n",
      "Class Statistics :\n",
      "\n",
      "Classes                                                           0             1             \n",
      "ACC(Accuracy)                                                     0.54888       0.54888       \n",
      "AGF(Adjusted F-score)                                             0.43292       0.62761       \n",
      "AGM(Adjusted geometric mean)                                      0.59851       0.55275       \n",
      "AM(Difference between automatic and manual classification)        -2943         2943          \n",
      "AUC(Area under the ROC curve)                                     0.58786       0.58786       \n",
      "AUCI(AUC value interpretation)                                    Poor          Poor          \n",
      "AUPR(Area under the PR curve)                                     0.67042       0.48179       \n",
      "BCD(Bray-Curtis dissimilarity)                                    0.14459       0.14459       \n",
      "BM(Informedness or bookmaker informedness)                        0.17571       0.17571       \n",
      "CEN(Confusion entropy)                                            0.77964       0.84968       \n",
      "DOR(Diagnostic odds ratio)                                        2.06988       2.06988       \n",
      "DP(Discriminant power)                                            0.17419       0.17419       \n",
      "DPI(Discriminant power interpretation)                            Poor          Poor          \n",
      "ERR(Error rate)                                                   0.45112       0.45112       \n",
      "F0.5(F0.5 score)                                                  0.73737       0.33761       \n",
      "F1(F1 score - harmonic mean of precision and sensitivity)         0.63339       0.41374       \n",
      "F2(F2 score)                                                      0.55512       0.5342        \n",
      "FDR(False discovery rate)                                         0.17203       0.69928       \n",
      "FN(False negative/miss/type 2 error)                              3767          824           \n",
      "FNR(Miss rate or false negative rate)                             0.48713       0.33715       \n",
      "FOR(False omission rate)                                          0.69928       0.17203       \n",
      "FP(False positive/type 1 error/false alarm)                       824           3767          \n",
      "FPR(Fall-out or false positive rate)                              0.33715       0.48713       \n",
      "G(G-measure geometric mean of precision and sensitivity)          0.65164       0.44647       \n",
      "GI(Gini index)                                                    0.17571       0.17571       \n",
      "GM(G-mean geometric mean of specificity and sensitivity)          0.58305       0.58305       \n",
      "IBA(Index of balanced accuracy)                                   0.28897       0.39094       \n",
      "ICSI(Individual classification success index)                     0.34084       -0.03643      \n",
      "IS(Information score)                                             0.12387       0.32451       \n",
      "J(Jaccard index)                                                  0.46348       0.26083       \n",
      "LS(Lift score)                                                    1.08965       1.25224       \n",
      "MCC(Matthews correlation coefficient)                             0.15038       0.15038       \n",
      "MCCI(Matthews correlation coefficient interpretation)             Negligible    Negligible    \n",
      "MCEN(Modified confusion entropy)                                  0.84622       0.82415       \n",
      "MK(Markedness)                                                    0.1287        0.1287        \n",
      "N(Condition negative)                                             2444          7733          \n",
      "NLR(Negative likelihood ratio)                                    0.73491       0.65739       \n",
      "NLRI(Negative likelihood ratio interpretation)                    Negligible    Negligible    \n",
      "NPV(Negative predictive value)                                    0.30072       0.82797       \n",
      "OC(Overlap coefficient)                                           0.82797       0.66285       \n",
      "OOC(Otsuka-Ochiai coefficient)                                    0.65164       0.44647       \n",
      "OP(Optimized precision)                                           0.42132       0.42132       \n",
      "P(Condition positive or support)                                  7733          2444          \n",
      "PLR(Positive likelihood ratio)                                    1.52117       1.36071       \n",
      "PLRI(Positive likelihood ratio interpretation)                    Poor          Poor          \n",
      "POP(Population)                                                   10177         10177         \n",
      "PPV(Precision or positive predictive value)                       0.82797       0.30072       \n",
      "PRE(Prevalence)                                                   0.75985       0.24015       \n",
      "Q(Yule Q - coefficient of colligation)                            0.34851       0.34851       \n",
      "QI(Yule Q interpretation)                                         Weak          Weak          \n",
      "RACC(Random accuracy)                                             0.35764       0.12712       \n",
      "RACCU(Random accuracy unbiased)                                   0.37854       0.14802       \n",
      "TN(True negative/correct rejection)                               1620          3966          \n",
      "TNR(Specificity or true negative rate)                            0.66285       0.51287       \n",
      "TON(Test outcome negative)                                        5387          4790          \n",
      "TOP(Test outcome positive)                                        4790          5387          \n",
      "TP(True positive/hit)                                             3966          1620          \n",
      "TPR(Sensitivity, recall, hit rate, or true positive rate)         0.51287       0.66285       \n",
      "Y(Youden index)                                                   0.17571       0.17571       \n",
      "dInd(Distance index)                                              0.59243       0.59243       \n",
      "sInd(Similarity index)                                            0.58109       0.58109       \n",
      "\n"
     ]
    }
   ],
   "source": [
    "print(\"Confusion Matrix:\\n\",tab5)\n",
    "# evaluate predictions\n",
    "acc5 = (accuracy_score(y_test, pred_gbc))*100\n",
    "print(\"\\nAccuracy: %.2f%%\\n\" % acc5)\n",
    "print(classification_report(y_test,pred_gbc))\n",
    "print(\"\\n\",ConfusionMatrix(np.array(y_test),pred_gbc))"
   ]
  },
  {
   "cell_type": "code",
   "execution_count": null,
   "metadata": {},
   "outputs": [],
   "source": []
  },
  {
   "cell_type": "markdown",
   "metadata": {},
   "source": [
    "# Lets Work With Test Data"
   ]
  },
  {
   "cell_type": "code",
   "execution_count": 153,
   "metadata": {},
   "outputs": [
    {
     "data": {
      "text/html": [
       "<div>\n",
       "<style scoped>\n",
       "    .dataframe tbody tr th:only-of-type {\n",
       "        vertical-align: middle;\n",
       "    }\n",
       "\n",
       "    .dataframe tbody tr th {\n",
       "        vertical-align: top;\n",
       "    }\n",
       "\n",
       "    .dataframe thead th {\n",
       "        text-align: right;\n",
       "    }\n",
       "</style>\n",
       "<table border=\"1\" class=\"dataframe\">\n",
       "  <thead>\n",
       "    <tr style=\"text-align: right;\">\n",
       "      <th></th>\n",
       "      <th>ID</th>\n",
       "      <th>City_Code</th>\n",
       "      <th>Region_Code</th>\n",
       "      <th>Accomodation_Type</th>\n",
       "      <th>Reco_Insurance_Type</th>\n",
       "      <th>Upper_Age</th>\n",
       "      <th>Lower_Age</th>\n",
       "      <th>Is_Spouse</th>\n",
       "      <th>Health Indicator</th>\n",
       "      <th>Holding_Policy_Duration</th>\n",
       "      <th>Holding_Policy_Type</th>\n",
       "      <th>Reco_Policy_Cat</th>\n",
       "      <th>Reco_Policy_Premium</th>\n",
       "    </tr>\n",
       "  </thead>\n",
       "  <tbody>\n",
       "    <tr>\n",
       "      <th>0</th>\n",
       "      <td>50883</td>\n",
       "      <td>C1</td>\n",
       "      <td>156</td>\n",
       "      <td>Owned</td>\n",
       "      <td>Individual</td>\n",
       "      <td>30</td>\n",
       "      <td>30</td>\n",
       "      <td>No</td>\n",
       "      <td>NaN</td>\n",
       "      <td>6.0</td>\n",
       "      <td>3.0</td>\n",
       "      <td>5</td>\n",
       "      <td>11934.0</td>\n",
       "    </tr>\n",
       "    <tr>\n",
       "      <th>1</th>\n",
       "      <td>50884</td>\n",
       "      <td>C4</td>\n",
       "      <td>7</td>\n",
       "      <td>Owned</td>\n",
       "      <td>Joint</td>\n",
       "      <td>69</td>\n",
       "      <td>68</td>\n",
       "      <td>Yes</td>\n",
       "      <td>X1</td>\n",
       "      <td>3.0</td>\n",
       "      <td>3.0</td>\n",
       "      <td>18</td>\n",
       "      <td>32204.8</td>\n",
       "    </tr>\n",
       "    <tr>\n",
       "      <th>2</th>\n",
       "      <td>50885</td>\n",
       "      <td>C1</td>\n",
       "      <td>564</td>\n",
       "      <td>Rented</td>\n",
       "      <td>Individual</td>\n",
       "      <td>28</td>\n",
       "      <td>28</td>\n",
       "      <td>No</td>\n",
       "      <td>X3</td>\n",
       "      <td>2.0</td>\n",
       "      <td>4.0</td>\n",
       "      <td>17</td>\n",
       "      <td>9240.0</td>\n",
       "    </tr>\n",
       "    <tr>\n",
       "      <th>3</th>\n",
       "      <td>50886</td>\n",
       "      <td>C3</td>\n",
       "      <td>1177</td>\n",
       "      <td>Rented</td>\n",
       "      <td>Individual</td>\n",
       "      <td>23</td>\n",
       "      <td>23</td>\n",
       "      <td>No</td>\n",
       "      <td>X3</td>\n",
       "      <td>3.0</td>\n",
       "      <td>3.0</td>\n",
       "      <td>18</td>\n",
       "      <td>9086.0</td>\n",
       "    </tr>\n",
       "    <tr>\n",
       "      <th>4</th>\n",
       "      <td>50887</td>\n",
       "      <td>C1</td>\n",
       "      <td>951</td>\n",
       "      <td>Owned</td>\n",
       "      <td>Individual</td>\n",
       "      <td>75</td>\n",
       "      <td>75</td>\n",
       "      <td>No</td>\n",
       "      <td>X3</td>\n",
       "      <td>NaN</td>\n",
       "      <td>NaN</td>\n",
       "      <td>5</td>\n",
       "      <td>22534.0</td>\n",
       "    </tr>\n",
       "  </tbody>\n",
       "</table>\n",
       "</div>"
      ],
      "text/plain": [
       "      ID City_Code  Region_Code Accomodation_Type Reco_Insurance_Type  \\\n",
       "0  50883        C1          156             Owned          Individual   \n",
       "1  50884        C4            7             Owned               Joint   \n",
       "2  50885        C1          564            Rented          Individual   \n",
       "3  50886        C3         1177            Rented          Individual   \n",
       "4  50887        C1          951             Owned          Individual   \n",
       "\n",
       "   Upper_Age  Lower_Age Is_Spouse Health Indicator Holding_Policy_Duration  \\\n",
       "0         30         30        No              NaN                     6.0   \n",
       "1         69         68       Yes               X1                     3.0   \n",
       "2         28         28        No               X3                     2.0   \n",
       "3         23         23        No               X3                     3.0   \n",
       "4         75         75        No               X3                     NaN   \n",
       "\n",
       "   Holding_Policy_Type  Reco_Policy_Cat  Reco_Policy_Premium  \n",
       "0                  3.0                5              11934.0  \n",
       "1                  3.0               18              32204.8  \n",
       "2                  4.0               17               9240.0  \n",
       "3                  3.0               18               9086.0  \n",
       "4                  NaN                5              22534.0  "
      ]
     },
     "execution_count": 153,
     "metadata": {},
     "output_type": "execute_result"
    }
   ],
   "source": [
    "testdata = pd.read_csv(r\"E:\\Nikhil\\Job-A-Thon\\test.csv\")\n",
    "testdata.head()"
   ]
  },
  {
   "cell_type": "code",
   "execution_count": 154,
   "metadata": {},
   "outputs": [],
   "source": [
    "testdata1 = testdata.copy()"
   ]
  },
  {
   "cell_type": "code",
   "execution_count": 155,
   "metadata": {},
   "outputs": [],
   "source": [
    "testdata = testdata.drop({'ID'},axis=1)"
   ]
  },
  {
   "cell_type": "markdown",
   "metadata": {},
   "source": [
    "## Impute Null Values"
   ]
  },
  {
   "cell_type": "code",
   "execution_count": 156,
   "metadata": {},
   "outputs": [],
   "source": [
    "testdata.Holding_Policy_Duration.replace({'14+':14},inplace=True)\n",
    "\n",
    "testdata.Holding_Policy_Duration.replace({14:14.0},inplace=True)"
   ]
  },
  {
   "cell_type": "code",
   "execution_count": 157,
   "metadata": {},
   "outputs": [
    {
     "data": {
      "text/plain": [
       "14.0    2103\n",
       "1.0     1891\n",
       "2.0     1772\n",
       "3.0     1606\n",
       "4.0     1205\n",
       "5.0      992\n",
       "6.0      903\n",
       "7.0      664\n",
       "8.0      569\n",
       "9.0      493\n",
       "10.0     333\n",
       "11.0     254\n",
       "13.0     221\n",
       "12.0     196\n",
       "Name: Holding_Policy_Duration, dtype: int64"
      ]
     },
     "execution_count": 157,
     "metadata": {},
     "output_type": "execute_result"
    }
   ],
   "source": [
    "testdata.Holding_Policy_Duration.value_counts()"
   ]
  },
  {
   "cell_type": "markdown",
   "metadata": {},
   "source": [
    "### Replace the Values of Health Indicator"
   ]
  },
  {
   "cell_type": "code",
   "execution_count": 158,
   "metadata": {},
   "outputs": [],
   "source": [
    "testdata['Health Indicator'] = testdata['Health Indicator'].replace({\"X1\":1,\"X2\":2,\"X3\":3,\"X4\":4,\"X5\":5,\"X6\":6,\"X7\":7,\"X8\":8,\"X9\":9})"
   ]
  },
  {
   "cell_type": "markdown",
   "metadata": {},
   "source": [
    "### Impute the Nulls Using KNN Imputer"
   ]
  },
  {
   "cell_type": "code",
   "execution_count": 159,
   "metadata": {},
   "outputs": [],
   "source": [
    "from sklearn.impute import KNNImputer"
   ]
  },
  {
   "cell_type": "code",
   "execution_count": 160,
   "metadata": {},
   "outputs": [],
   "source": [
    "imputer = KNNImputer(n_neighbors=1)"
   ]
  },
  {
   "cell_type": "code",
   "execution_count": 161,
   "metadata": {},
   "outputs": [],
   "source": [
    "data = imputer.fit_transform(testdata[['Holding_Policy_Duration','Holding_Policy_Type','Health Indicator']])"
   ]
  },
  {
   "cell_type": "code",
   "execution_count": 162,
   "metadata": {},
   "outputs": [
    {
     "data": {
      "text/plain": [
       "array([ 6.,  3.,  2., ..., 14.,  2.,  2.])"
      ]
     },
     "execution_count": 162,
     "metadata": {},
     "output_type": "execute_result"
    }
   ],
   "source": [
    "data.ravel()"
   ]
  },
  {
   "cell_type": "code",
   "execution_count": 163,
   "metadata": {},
   "outputs": [],
   "source": [
    "data = pd.DataFrame(data, columns=['Holding_Policy_Dur','Holding_Policy_Ty','Health Indi'])"
   ]
  },
  {
   "cell_type": "code",
   "execution_count": 164,
   "metadata": {},
   "outputs": [],
   "source": [
    "testdata = pd.concat([testdata,data],axis=1)"
   ]
  },
  {
   "cell_type": "code",
   "execution_count": 165,
   "metadata": {},
   "outputs": [
    {
     "data": {
      "text/html": [
       "<div>\n",
       "<style scoped>\n",
       "    .dataframe tbody tr th:only-of-type {\n",
       "        vertical-align: middle;\n",
       "    }\n",
       "\n",
       "    .dataframe tbody tr th {\n",
       "        vertical-align: top;\n",
       "    }\n",
       "\n",
       "    .dataframe thead th {\n",
       "        text-align: right;\n",
       "    }\n",
       "</style>\n",
       "<table border=\"1\" class=\"dataframe\">\n",
       "  <thead>\n",
       "    <tr style=\"text-align: right;\">\n",
       "      <th></th>\n",
       "      <th>City_Code</th>\n",
       "      <th>Region_Code</th>\n",
       "      <th>Accomodation_Type</th>\n",
       "      <th>Reco_Insurance_Type</th>\n",
       "      <th>Upper_Age</th>\n",
       "      <th>Lower_Age</th>\n",
       "      <th>Is_Spouse</th>\n",
       "      <th>Health Indicator</th>\n",
       "      <th>Holding_Policy_Duration</th>\n",
       "      <th>Holding_Policy_Type</th>\n",
       "      <th>Reco_Policy_Cat</th>\n",
       "      <th>Reco_Policy_Premium</th>\n",
       "      <th>Holding_Policy_Dur</th>\n",
       "      <th>Holding_Policy_Ty</th>\n",
       "      <th>Health Indi</th>\n",
       "    </tr>\n",
       "  </thead>\n",
       "  <tbody>\n",
       "    <tr>\n",
       "      <th>0</th>\n",
       "      <td>C1</td>\n",
       "      <td>156</td>\n",
       "      <td>Owned</td>\n",
       "      <td>Individual</td>\n",
       "      <td>30</td>\n",
       "      <td>30</td>\n",
       "      <td>No</td>\n",
       "      <td>NaN</td>\n",
       "      <td>6.0</td>\n",
       "      <td>3.0</td>\n",
       "      <td>5</td>\n",
       "      <td>11934.0</td>\n",
       "      <td>6.0</td>\n",
       "      <td>3.0</td>\n",
       "      <td>2.0</td>\n",
       "    </tr>\n",
       "    <tr>\n",
       "      <th>1</th>\n",
       "      <td>C4</td>\n",
       "      <td>7</td>\n",
       "      <td>Owned</td>\n",
       "      <td>Joint</td>\n",
       "      <td>69</td>\n",
       "      <td>68</td>\n",
       "      <td>Yes</td>\n",
       "      <td>1.0</td>\n",
       "      <td>3.0</td>\n",
       "      <td>3.0</td>\n",
       "      <td>18</td>\n",
       "      <td>32204.8</td>\n",
       "      <td>3.0</td>\n",
       "      <td>3.0</td>\n",
       "      <td>1.0</td>\n",
       "    </tr>\n",
       "    <tr>\n",
       "      <th>2</th>\n",
       "      <td>C1</td>\n",
       "      <td>564</td>\n",
       "      <td>Rented</td>\n",
       "      <td>Individual</td>\n",
       "      <td>28</td>\n",
       "      <td>28</td>\n",
       "      <td>No</td>\n",
       "      <td>3.0</td>\n",
       "      <td>2.0</td>\n",
       "      <td>4.0</td>\n",
       "      <td>17</td>\n",
       "      <td>9240.0</td>\n",
       "      <td>2.0</td>\n",
       "      <td>4.0</td>\n",
       "      <td>3.0</td>\n",
       "    </tr>\n",
       "    <tr>\n",
       "      <th>3</th>\n",
       "      <td>C3</td>\n",
       "      <td>1177</td>\n",
       "      <td>Rented</td>\n",
       "      <td>Individual</td>\n",
       "      <td>23</td>\n",
       "      <td>23</td>\n",
       "      <td>No</td>\n",
       "      <td>3.0</td>\n",
       "      <td>3.0</td>\n",
       "      <td>3.0</td>\n",
       "      <td>18</td>\n",
       "      <td>9086.0</td>\n",
       "      <td>3.0</td>\n",
       "      <td>3.0</td>\n",
       "      <td>3.0</td>\n",
       "    </tr>\n",
       "    <tr>\n",
       "      <th>4</th>\n",
       "      <td>C1</td>\n",
       "      <td>951</td>\n",
       "      <td>Owned</td>\n",
       "      <td>Individual</td>\n",
       "      <td>75</td>\n",
       "      <td>75</td>\n",
       "      <td>No</td>\n",
       "      <td>3.0</td>\n",
       "      <td>NaN</td>\n",
       "      <td>NaN</td>\n",
       "      <td>5</td>\n",
       "      <td>22534.0</td>\n",
       "      <td>2.0</td>\n",
       "      <td>4.0</td>\n",
       "      <td>3.0</td>\n",
       "    </tr>\n",
       "  </tbody>\n",
       "</table>\n",
       "</div>"
      ],
      "text/plain": [
       "  City_Code  Region_Code Accomodation_Type Reco_Insurance_Type  Upper_Age  \\\n",
       "0        C1          156             Owned          Individual         30   \n",
       "1        C4            7             Owned               Joint         69   \n",
       "2        C1          564            Rented          Individual         28   \n",
       "3        C3         1177            Rented          Individual         23   \n",
       "4        C1          951             Owned          Individual         75   \n",
       "\n",
       "   Lower_Age Is_Spouse  Health Indicator  Holding_Policy_Duration  \\\n",
       "0         30        No               NaN                      6.0   \n",
       "1         68       Yes               1.0                      3.0   \n",
       "2         28        No               3.0                      2.0   \n",
       "3         23        No               3.0                      3.0   \n",
       "4         75        No               3.0                      NaN   \n",
       "\n",
       "   Holding_Policy_Type  Reco_Policy_Cat  Reco_Policy_Premium  \\\n",
       "0                  3.0                5              11934.0   \n",
       "1                  3.0               18              32204.8   \n",
       "2                  4.0               17               9240.0   \n",
       "3                  3.0               18               9086.0   \n",
       "4                  NaN                5              22534.0   \n",
       "\n",
       "   Holding_Policy_Dur  Holding_Policy_Ty  Health Indi  \n",
       "0                 6.0                3.0          2.0  \n",
       "1                 3.0                3.0          1.0  \n",
       "2                 2.0                4.0          3.0  \n",
       "3                 3.0                3.0          3.0  \n",
       "4                 2.0                4.0          3.0  "
      ]
     },
     "execution_count": 165,
     "metadata": {},
     "output_type": "execute_result"
    }
   ],
   "source": [
    "testdata.head(5)"
   ]
  },
  {
   "cell_type": "markdown",
   "metadata": {},
   "source": [
    "### Drop Duplicate Columns"
   ]
  },
  {
   "cell_type": "code",
   "execution_count": 166,
   "metadata": {},
   "outputs": [],
   "source": [
    "testdata = testdata.drop({'Holding_Policy_Duration','Holding_Policy_Type','Health Indicator'},axis=1)"
   ]
  },
  {
   "cell_type": "markdown",
   "metadata": {},
   "source": [
    "### Rename The Columns"
   ]
  },
  {
   "cell_type": "code",
   "execution_count": 167,
   "metadata": {},
   "outputs": [],
   "source": [
    "testdata = testdata.rename(columns={\"Holding_Policy_Dur\": \"Holding_Policy_Duration\", \"Holding_Policy_Ty\": \"Holding_Policy_Type\",\"Health Indi\":\"Health Indicator\"})"
   ]
  },
  {
   "cell_type": "code",
   "execution_count": 168,
   "metadata": {},
   "outputs": [
    {
     "data": {
      "text/html": [
       "<div>\n",
       "<style scoped>\n",
       "    .dataframe tbody tr th:only-of-type {\n",
       "        vertical-align: middle;\n",
       "    }\n",
       "\n",
       "    .dataframe tbody tr th {\n",
       "        vertical-align: top;\n",
       "    }\n",
       "\n",
       "    .dataframe thead th {\n",
       "        text-align: right;\n",
       "    }\n",
       "</style>\n",
       "<table border=\"1\" class=\"dataframe\">\n",
       "  <thead>\n",
       "    <tr style=\"text-align: right;\">\n",
       "      <th></th>\n",
       "      <th>City_Code</th>\n",
       "      <th>Region_Code</th>\n",
       "      <th>Accomodation_Type</th>\n",
       "      <th>Reco_Insurance_Type</th>\n",
       "      <th>Upper_Age</th>\n",
       "      <th>Lower_Age</th>\n",
       "      <th>Is_Spouse</th>\n",
       "      <th>Reco_Policy_Cat</th>\n",
       "      <th>Reco_Policy_Premium</th>\n",
       "      <th>Holding_Policy_Duration</th>\n",
       "      <th>Holding_Policy_Type</th>\n",
       "      <th>Health Indicator</th>\n",
       "    </tr>\n",
       "  </thead>\n",
       "  <tbody>\n",
       "    <tr>\n",
       "      <th>0</th>\n",
       "      <td>C1</td>\n",
       "      <td>156</td>\n",
       "      <td>Owned</td>\n",
       "      <td>Individual</td>\n",
       "      <td>30</td>\n",
       "      <td>30</td>\n",
       "      <td>No</td>\n",
       "      <td>5</td>\n",
       "      <td>11934.0</td>\n",
       "      <td>6.0</td>\n",
       "      <td>3.0</td>\n",
       "      <td>2.0</td>\n",
       "    </tr>\n",
       "    <tr>\n",
       "      <th>1</th>\n",
       "      <td>C4</td>\n",
       "      <td>7</td>\n",
       "      <td>Owned</td>\n",
       "      <td>Joint</td>\n",
       "      <td>69</td>\n",
       "      <td>68</td>\n",
       "      <td>Yes</td>\n",
       "      <td>18</td>\n",
       "      <td>32204.8</td>\n",
       "      <td>3.0</td>\n",
       "      <td>3.0</td>\n",
       "      <td>1.0</td>\n",
       "    </tr>\n",
       "    <tr>\n",
       "      <th>2</th>\n",
       "      <td>C1</td>\n",
       "      <td>564</td>\n",
       "      <td>Rented</td>\n",
       "      <td>Individual</td>\n",
       "      <td>28</td>\n",
       "      <td>28</td>\n",
       "      <td>No</td>\n",
       "      <td>17</td>\n",
       "      <td>9240.0</td>\n",
       "      <td>2.0</td>\n",
       "      <td>4.0</td>\n",
       "      <td>3.0</td>\n",
       "    </tr>\n",
       "    <tr>\n",
       "      <th>3</th>\n",
       "      <td>C3</td>\n",
       "      <td>1177</td>\n",
       "      <td>Rented</td>\n",
       "      <td>Individual</td>\n",
       "      <td>23</td>\n",
       "      <td>23</td>\n",
       "      <td>No</td>\n",
       "      <td>18</td>\n",
       "      <td>9086.0</td>\n",
       "      <td>3.0</td>\n",
       "      <td>3.0</td>\n",
       "      <td>3.0</td>\n",
       "    </tr>\n",
       "    <tr>\n",
       "      <th>4</th>\n",
       "      <td>C1</td>\n",
       "      <td>951</td>\n",
       "      <td>Owned</td>\n",
       "      <td>Individual</td>\n",
       "      <td>75</td>\n",
       "      <td>75</td>\n",
       "      <td>No</td>\n",
       "      <td>5</td>\n",
       "      <td>22534.0</td>\n",
       "      <td>2.0</td>\n",
       "      <td>4.0</td>\n",
       "      <td>3.0</td>\n",
       "    </tr>\n",
       "  </tbody>\n",
       "</table>\n",
       "</div>"
      ],
      "text/plain": [
       "  City_Code  Region_Code Accomodation_Type Reco_Insurance_Type  Upper_Age  \\\n",
       "0        C1          156             Owned          Individual         30   \n",
       "1        C4            7             Owned               Joint         69   \n",
       "2        C1          564            Rented          Individual         28   \n",
       "3        C3         1177            Rented          Individual         23   \n",
       "4        C1          951             Owned          Individual         75   \n",
       "\n",
       "   Lower_Age Is_Spouse  Reco_Policy_Cat  Reco_Policy_Premium  \\\n",
       "0         30        No                5              11934.0   \n",
       "1         68       Yes               18              32204.8   \n",
       "2         28        No               17               9240.0   \n",
       "3         23        No               18               9086.0   \n",
       "4         75        No                5              22534.0   \n",
       "\n",
       "   Holding_Policy_Duration  Holding_Policy_Type  Health Indicator  \n",
       "0                      6.0                  3.0               2.0  \n",
       "1                      3.0                  3.0               1.0  \n",
       "2                      2.0                  4.0               3.0  \n",
       "3                      3.0                  3.0               3.0  \n",
       "4                      2.0                  4.0               3.0  "
      ]
     },
     "execution_count": 168,
     "metadata": {},
     "output_type": "execute_result"
    }
   ],
   "source": [
    "testdata.head()"
   ]
  },
  {
   "cell_type": "markdown",
   "metadata": {},
   "source": [
    "### Apply One Hot EnCoding\n"
   ]
  },
  {
   "cell_type": "code",
   "execution_count": 169,
   "metadata": {},
   "outputs": [],
   "source": [
    "Accomodation_dummy = pd.get_dummies(testdata['Accomodation_Type'])\n",
    "Insurance_type_dummy = pd.get_dummies(testdata['Reco_Insurance_Type'])\n",
    "Is_spouse_dummy = pd.get_dummies(testdata['Is_Spouse'])"
   ]
  },
  {
   "cell_type": "code",
   "execution_count": 170,
   "metadata": {},
   "outputs": [],
   "source": [
    "testdata.drop(['Accomodation_Type','Reco_Insurance_Type','Is_Spouse'],inplace = True,axis=1)\n"
   ]
  },
  {
   "cell_type": "code",
   "execution_count": 171,
   "metadata": {},
   "outputs": [],
   "source": [
    "testdata = pd.concat([testdata,Accomodation_dummy,Insurance_type_dummy,Is_spouse_dummy],axis=1)\n"
   ]
  },
  {
   "cell_type": "code",
   "execution_count": 172,
   "metadata": {},
   "outputs": [
    {
     "data": {
      "text/html": [
       "<div>\n",
       "<style scoped>\n",
       "    .dataframe tbody tr th:only-of-type {\n",
       "        vertical-align: middle;\n",
       "    }\n",
       "\n",
       "    .dataframe tbody tr th {\n",
       "        vertical-align: top;\n",
       "    }\n",
       "\n",
       "    .dataframe thead th {\n",
       "        text-align: right;\n",
       "    }\n",
       "</style>\n",
       "<table border=\"1\" class=\"dataframe\">\n",
       "  <thead>\n",
       "    <tr style=\"text-align: right;\">\n",
       "      <th></th>\n",
       "      <th>City_Code</th>\n",
       "      <th>Region_Code</th>\n",
       "      <th>Upper_Age</th>\n",
       "      <th>Lower_Age</th>\n",
       "      <th>Reco_Policy_Cat</th>\n",
       "      <th>Reco_Policy_Premium</th>\n",
       "      <th>Holding_Policy_Duration</th>\n",
       "      <th>Holding_Policy_Type</th>\n",
       "      <th>Health Indicator</th>\n",
       "      <th>Owned</th>\n",
       "      <th>Rented</th>\n",
       "      <th>Individual</th>\n",
       "      <th>Joint</th>\n",
       "      <th>No</th>\n",
       "      <th>Yes</th>\n",
       "    </tr>\n",
       "  </thead>\n",
       "  <tbody>\n",
       "    <tr>\n",
       "      <th>0</th>\n",
       "      <td>C1</td>\n",
       "      <td>156</td>\n",
       "      <td>30</td>\n",
       "      <td>30</td>\n",
       "      <td>5</td>\n",
       "      <td>11934.0</td>\n",
       "      <td>6.0</td>\n",
       "      <td>3.0</td>\n",
       "      <td>2.0</td>\n",
       "      <td>1</td>\n",
       "      <td>0</td>\n",
       "      <td>1</td>\n",
       "      <td>0</td>\n",
       "      <td>1</td>\n",
       "      <td>0</td>\n",
       "    </tr>\n",
       "    <tr>\n",
       "      <th>1</th>\n",
       "      <td>C4</td>\n",
       "      <td>7</td>\n",
       "      <td>69</td>\n",
       "      <td>68</td>\n",
       "      <td>18</td>\n",
       "      <td>32204.8</td>\n",
       "      <td>3.0</td>\n",
       "      <td>3.0</td>\n",
       "      <td>1.0</td>\n",
       "      <td>1</td>\n",
       "      <td>0</td>\n",
       "      <td>0</td>\n",
       "      <td>1</td>\n",
       "      <td>0</td>\n",
       "      <td>1</td>\n",
       "    </tr>\n",
       "    <tr>\n",
       "      <th>2</th>\n",
       "      <td>C1</td>\n",
       "      <td>564</td>\n",
       "      <td>28</td>\n",
       "      <td>28</td>\n",
       "      <td>17</td>\n",
       "      <td>9240.0</td>\n",
       "      <td>2.0</td>\n",
       "      <td>4.0</td>\n",
       "      <td>3.0</td>\n",
       "      <td>0</td>\n",
       "      <td>1</td>\n",
       "      <td>1</td>\n",
       "      <td>0</td>\n",
       "      <td>1</td>\n",
       "      <td>0</td>\n",
       "    </tr>\n",
       "    <tr>\n",
       "      <th>3</th>\n",
       "      <td>C3</td>\n",
       "      <td>1177</td>\n",
       "      <td>23</td>\n",
       "      <td>23</td>\n",
       "      <td>18</td>\n",
       "      <td>9086.0</td>\n",
       "      <td>3.0</td>\n",
       "      <td>3.0</td>\n",
       "      <td>3.0</td>\n",
       "      <td>0</td>\n",
       "      <td>1</td>\n",
       "      <td>1</td>\n",
       "      <td>0</td>\n",
       "      <td>1</td>\n",
       "      <td>0</td>\n",
       "    </tr>\n",
       "    <tr>\n",
       "      <th>4</th>\n",
       "      <td>C1</td>\n",
       "      <td>951</td>\n",
       "      <td>75</td>\n",
       "      <td>75</td>\n",
       "      <td>5</td>\n",
       "      <td>22534.0</td>\n",
       "      <td>2.0</td>\n",
       "      <td>4.0</td>\n",
       "      <td>3.0</td>\n",
       "      <td>1</td>\n",
       "      <td>0</td>\n",
       "      <td>1</td>\n",
       "      <td>0</td>\n",
       "      <td>1</td>\n",
       "      <td>0</td>\n",
       "    </tr>\n",
       "  </tbody>\n",
       "</table>\n",
       "</div>"
      ],
      "text/plain": [
       "  City_Code  Region_Code  Upper_Age  Lower_Age  Reco_Policy_Cat  \\\n",
       "0        C1          156         30         30                5   \n",
       "1        C4            7         69         68               18   \n",
       "2        C1          564         28         28               17   \n",
       "3        C3         1177         23         23               18   \n",
       "4        C1          951         75         75                5   \n",
       "\n",
       "   Reco_Policy_Premium  Holding_Policy_Duration  Holding_Policy_Type  \\\n",
       "0              11934.0                      6.0                  3.0   \n",
       "1              32204.8                      3.0                  3.0   \n",
       "2               9240.0                      2.0                  4.0   \n",
       "3               9086.0                      3.0                  3.0   \n",
       "4              22534.0                      2.0                  4.0   \n",
       "\n",
       "   Health Indicator  Owned  Rented  Individual  Joint  No  Yes  \n",
       "0               2.0      1       0           1      0   1    0  \n",
       "1               1.0      1       0           0      1   0    1  \n",
       "2               3.0      0       1           1      0   1    0  \n",
       "3               3.0      0       1           1      0   1    0  \n",
       "4               3.0      1       0           1      0   1    0  "
      ]
     },
     "execution_count": 172,
     "metadata": {},
     "output_type": "execute_result"
    }
   ],
   "source": [
    "testdata.head()"
   ]
  },
  {
   "cell_type": "markdown",
   "metadata": {},
   "source": [
    "### Apply Label EnCoding"
   ]
  },
  {
   "cell_type": "code",
   "execution_count": 173,
   "metadata": {},
   "outputs": [],
   "source": [
    "from sklearn.preprocessing import LabelEncoder\n",
    "le = LabelEncoder()"
   ]
  },
  {
   "cell_type": "code",
   "execution_count": 174,
   "metadata": {},
   "outputs": [],
   "source": [
    "testdata[testdata.select_dtypes(include=['object']).columns] = testdata[testdata.select_dtypes(include=['object']).columns].apply(le.fit_transform)"
   ]
  },
  {
   "cell_type": "code",
   "execution_count": 180,
   "metadata": {},
   "outputs": [
    {
     "name": "stdout",
     "output_type": "stream",
     "text": [
      "<class 'pandas.core.frame.DataFrame'>\n",
      "RangeIndex: 21805 entries, 0 to 21804\n",
      "Data columns (total 14 columns):\n",
      " #   Column                   Non-Null Count  Dtype  \n",
      "---  ------                   --------------  -----  \n",
      " 0   City_Code                21805 non-null  int32  \n",
      " 1   Region_Code              21805 non-null  int64  \n",
      " 2   Upper_Age                21805 non-null  int64  \n",
      " 3   Reco_Policy_Cat          21805 non-null  int64  \n",
      " 4   Reco_Policy_Premium      21805 non-null  float64\n",
      " 5   Holding_Policy_Duration  21805 non-null  float64\n",
      " 6   Holding_Policy_Type      21805 non-null  float64\n",
      " 7   Health Indicator         21805 non-null  float64\n",
      " 8   Owned                    21805 non-null  uint8  \n",
      " 9   Rented                   21805 non-null  uint8  \n",
      " 10  Individual               21805 non-null  uint8  \n",
      " 11  Joint                    21805 non-null  uint8  \n",
      " 12  No                       21805 non-null  uint8  \n",
      " 13  Yes                      21805 non-null  uint8  \n",
      "dtypes: float64(4), int32(1), int64(3), uint8(6)\n",
      "memory usage: 1.4 MB\n"
     ]
    }
   ],
   "source": [
    "testdata.info()"
   ]
  },
  {
   "cell_type": "code",
   "execution_count": 176,
   "metadata": {},
   "outputs": [],
   "source": [
    "testdata.drop({'Lower_Age'},axis=1,inplace=True)"
   ]
  },
  {
   "cell_type": "code",
   "execution_count": 241,
   "metadata": {},
   "outputs": [],
   "source": [
    "pred_test = model3.predict(testdata)"
   ]
  },
  {
   "cell_type": "code",
   "execution_count": 242,
   "metadata": {},
   "outputs": [
    {
     "data": {
      "text/plain": [
       "(21805,)"
      ]
     },
     "execution_count": 242,
     "metadata": {},
     "output_type": "execute_result"
    }
   ],
   "source": [
    "pred_test.shape"
   ]
  },
  {
   "cell_type": "code",
   "execution_count": 243,
   "metadata": {},
   "outputs": [],
   "source": [
    "pred_test=pd.DataFrame({\"ID\":testdata1.ID,\"Response\":pred_test})"
   ]
  },
  {
   "cell_type": "code",
   "execution_count": 244,
   "metadata": {},
   "outputs": [
    {
     "name": "stdout",
     "output_type": "stream",
     "text": [
      "          ID  Response\n",
      "0      50883         0\n",
      "1      50884         0\n",
      "2      50885         0\n",
      "3      50886         0\n",
      "4      50887         0\n",
      "...      ...       ...\n",
      "21800  72683         1\n",
      "21801  72684         0\n",
      "21802  72685         0\n",
      "21803  72686         0\n",
      "21804  72687         0\n",
      "\n",
      "[21805 rows x 2 columns]\n"
     ]
    }
   ],
   "source": [
    "print(pred_test)"
   ]
  },
  {
   "cell_type": "code",
   "execution_count": 245,
   "metadata": {},
   "outputs": [],
   "source": [
    "pred_test.to_csv(\"E:/Nikhil/Job-A-Thon/sub4.csv\",index = False)"
   ]
  },
  {
   "cell_type": "code",
   "execution_count": null,
   "metadata": {},
   "outputs": [],
   "source": []
  }
 ],
 "metadata": {
  "kernelspec": {
   "display_name": "Python 3",
   "language": "python",
   "name": "python3"
  },
  "language_info": {
   "codemirror_mode": {
    "name": "ipython",
    "version": 3
   },
   "file_extension": ".py",
   "mimetype": "text/x-python",
   "name": "python",
   "nbconvert_exporter": "python",
   "pygments_lexer": "ipython3",
   "version": "3.8.3"
  },
  "toc": {
   "base_numbering": 1,
   "nav_menu": {},
   "number_sections": true,
   "sideBar": true,
   "skip_h1_title": false,
   "title_cell": "Table of Contents",
   "title_sidebar": "Contents",
   "toc_cell": false,
   "toc_position": {},
   "toc_section_display": true,
   "toc_window_display": true
  }
 },
 "nbformat": 4,
 "nbformat_minor": 4
}
