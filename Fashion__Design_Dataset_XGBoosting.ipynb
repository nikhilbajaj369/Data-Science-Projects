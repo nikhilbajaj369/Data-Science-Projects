{
 "cells": [
  {
   "cell_type": "code",
   "execution_count": 2,
   "metadata": {
    "colab": {
     "base_uri": "https://localhost:8080/"
    },
    "id": "KPYGyuPxgdHS",
    "outputId": "4c5be80b-1877-4562-d0f0-642022f70cb5"
   },
   "outputs": [
    {
     "name": "stdout",
     "output_type": "stream",
     "text": [
      "Mounted at /content/drive\n"
     ]
    }
   ],
   "source": [
    "# from google.colab import drive\n",
    "# drive.mount('/content/drive')"
   ]
  },
  {
   "cell_type": "code",
   "execution_count": 3,
   "metadata": {
    "id": "tVpjM9Bligft"
   },
   "outputs": [],
   "source": [
    "import pandas as pd\n",
    "import numpy as np \n",
    "import matplotlib.pyplot as plt\n",
    "import seaborn as sns\n",
    "%matplotlib inline\n",
    "import warnings"
   ]
  },
  {
   "cell_type": "code",
   "execution_count": 4,
   "metadata": {
    "id": "FaOy8O-Vix9K"
   },
   "outputs": [],
   "source": [
    "dataset = pd.read_csv(r\"/content/drive/MyDrive/Hackthon Dataset/train_fashion.csv\")"
   ]
  },
  {
   "cell_type": "code",
   "execution_count": 5,
   "metadata": {
    "colab": {
     "base_uri": "https://localhost:8080/",
     "height": 241
    },
    "id": "t8EsYfNli1hZ",
    "outputId": "011e2dd3-49d9-4e56-d8e7-75bfbe472f6e"
   },
   "outputs": [
    {
     "data": {
      "text/html": [
       "<div>\n",
       "<style scoped>\n",
       "    .dataframe tbody tr th:only-of-type {\n",
       "        vertical-align: middle;\n",
       "    }\n",
       "\n",
       "    .dataframe tbody tr th {\n",
       "        vertical-align: top;\n",
       "    }\n",
       "\n",
       "    .dataframe thead th {\n",
       "        text-align: right;\n",
       "    }\n",
       "</style>\n",
       "<table border=\"1\" class=\"dataframe\">\n",
       "  <thead>\n",
       "    <tr style=\"text-align: right;\">\n",
       "      <th></th>\n",
       "      <th>Order_Ref_Number</th>\n",
       "      <th>Order_Placed_AT</th>\n",
       "      <th>Order_Delivered_Date</th>\n",
       "      <th>Product_Ref_ID</th>\n",
       "      <th>Size</th>\n",
       "      <th>Color_Code</th>\n",
       "      <th>Product_Category_Reference</th>\n",
       "      <th>Cost_to_Customer(USD)</th>\n",
       "      <th>Customer_ID</th>\n",
       "      <th>Gender</th>\n",
       "      <th>Customer_BirthDate</th>\n",
       "      <th>Customer_Location</th>\n",
       "      <th>Customer_Joining_Date</th>\n",
       "      <th>Order_Repeat_Chance</th>\n",
       "    </tr>\n",
       "  </thead>\n",
       "  <tbody>\n",
       "    <tr>\n",
       "      <th>0</th>\n",
       "      <td>98981</td>\n",
       "      <td>2016-09-10</td>\n",
       "      <td>2016-09-11</td>\n",
       "      <td>897</td>\n",
       "      <td>l</td>\n",
       "      <td>grey</td>\n",
       "      <td>33</td>\n",
       "      <td>19.9</td>\n",
       "      <td>48040</td>\n",
       "      <td>Mrs</td>\n",
       "      <td>1960-05-30</td>\n",
       "      <td>Hamburg</td>\n",
       "      <td>2015-02-17</td>\n",
       "      <td>0</td>\n",
       "    </tr>\n",
       "    <tr>\n",
       "      <th>1</th>\n",
       "      <td>69825</td>\n",
       "      <td>2016-08-15</td>\n",
       "      <td>2016-08-20</td>\n",
       "      <td>1557</td>\n",
       "      <td>xl</td>\n",
       "      <td>petrol</td>\n",
       "      <td>31</td>\n",
       "      <td>89.9</td>\n",
       "      <td>42892</td>\n",
       "      <td>Mrs</td>\n",
       "      <td>1958-09-23</td>\n",
       "      <td>Lower Saxony</td>\n",
       "      <td>2015-11-14</td>\n",
       "      <td>1</td>\n",
       "    </tr>\n",
       "    <tr>\n",
       "      <th>2</th>\n",
       "      <td>9929</td>\n",
       "      <td>2016-06-27</td>\n",
       "      <td>2016-07-02</td>\n",
       "      <td>292</td>\n",
       "      <td>4+</td>\n",
       "      <td>grey</td>\n",
       "      <td>4</td>\n",
       "      <td>64.9</td>\n",
       "      <td>32479</td>\n",
       "      <td>Mrs</td>\n",
       "      <td>1961-09-19</td>\n",
       "      <td>Hesse</td>\n",
       "      <td>2016-06-28</td>\n",
       "      <td>0</td>\n",
       "    </tr>\n",
       "    <tr>\n",
       "      <th>3</th>\n",
       "      <td>75600</td>\n",
       "      <td>2016-08-21</td>\n",
       "      <td>2016-08-22</td>\n",
       "      <td>1445</td>\n",
       "      <td>xxl</td>\n",
       "      <td>grey</td>\n",
       "      <td>29</td>\n",
       "      <td>59.9</td>\n",
       "      <td>4216</td>\n",
       "      <td>Mrs</td>\n",
       "      <td>1952-10-01</td>\n",
       "      <td>Lower Saxony</td>\n",
       "      <td>2015-02-17</td>\n",
       "      <td>0</td>\n",
       "    </tr>\n",
       "    <tr>\n",
       "      <th>4</th>\n",
       "      <td>95622</td>\n",
       "      <td>2016-09-06</td>\n",
       "      <td>2016-09-07</td>\n",
       "      <td>1415</td>\n",
       "      <td>m</td>\n",
       "      <td>mahagoni</td>\n",
       "      <td>3</td>\n",
       "      <td>21.9</td>\n",
       "      <td>39571</td>\n",
       "      <td>Mrs</td>\n",
       "      <td>1963-10-30</td>\n",
       "      <td>North Rhine-Westphalia</td>\n",
       "      <td>2015-10-02</td>\n",
       "      <td>0</td>\n",
       "    </tr>\n",
       "  </tbody>\n",
       "</table>\n",
       "</div>"
      ],
      "text/plain": [
       "   Order_Ref_Number Order_Placed_AT  ... Customer_Joining_Date  Order_Repeat_Chance\n",
       "0             98981      2016-09-10  ...            2015-02-17                    0\n",
       "1             69825      2016-08-15  ...            2015-11-14                    1\n",
       "2              9929      2016-06-27  ...            2016-06-28                    0\n",
       "3             75600      2016-08-21  ...            2015-02-17                    0\n",
       "4             95622      2016-09-06  ...            2015-10-02                    0\n",
       "\n",
       "[5 rows x 14 columns]"
      ]
     },
     "execution_count": 5,
     "metadata": {
      "tags": []
     },
     "output_type": "execute_result"
    }
   ],
   "source": [
    "dataset.head()"
   ]
  },
  {
   "cell_type": "code",
   "execution_count": 6,
   "metadata": {
    "colab": {
     "base_uri": "https://localhost:8080/"
    },
    "id": "cCzjeMyBmUn8",
    "outputId": "c1b0b32e-3e58-44f7-80eb-e089050e22c3"
   },
   "outputs": [
    {
     "data": {
      "text/plain": [
       "(75000, 14)"
      ]
     },
     "execution_count": 6,
     "metadata": {
      "tags": []
     },
     "output_type": "execute_result"
    }
   ],
   "source": [
    "dataset.shape"
   ]
  },
  {
   "cell_type": "code",
   "execution_count": 7,
   "metadata": {
    "colab": {
     "base_uri": "https://localhost:8080/",
     "height": 297
    },
    "id": "v8-ljoFemUp0",
    "outputId": "8f573cf0-4a0a-431d-ad6f-3eb582b46f27"
   },
   "outputs": [
    {
     "data": {
      "text/html": [
       "<div>\n",
       "<style scoped>\n",
       "    .dataframe tbody tr th:only-of-type {\n",
       "        vertical-align: middle;\n",
       "    }\n",
       "\n",
       "    .dataframe tbody tr th {\n",
       "        vertical-align: top;\n",
       "    }\n",
       "\n",
       "    .dataframe thead th {\n",
       "        text-align: right;\n",
       "    }\n",
       "</style>\n",
       "<table border=\"1\" class=\"dataframe\">\n",
       "  <thead>\n",
       "    <tr style=\"text-align: right;\">\n",
       "      <th></th>\n",
       "      <th>Order_Ref_Number</th>\n",
       "      <th>Product_Ref_ID</th>\n",
       "      <th>Product_Category_Reference</th>\n",
       "      <th>Cost_to_Customer(USD)</th>\n",
       "      <th>Customer_ID</th>\n",
       "      <th>Order_Repeat_Chance</th>\n",
       "    </tr>\n",
       "  </thead>\n",
       "  <tbody>\n",
       "    <tr>\n",
       "      <th>count</th>\n",
       "      <td>75000.000000</td>\n",
       "      <td>75000.000000</td>\n",
       "      <td>75000.000000</td>\n",
       "      <td>75000.000000</td>\n",
       "      <td>75000.000000</td>\n",
       "      <td>75000.000000</td>\n",
       "    </tr>\n",
       "    <tr>\n",
       "      <th>mean</th>\n",
       "      <td>50002.922613</td>\n",
       "      <td>924.275213</td>\n",
       "      <td>30.173093</td>\n",
       "      <td>65.232934</td>\n",
       "      <td>27164.660547</td>\n",
       "      <td>0.459933</td>\n",
       "    </tr>\n",
       "    <tr>\n",
       "      <th>std</th>\n",
       "      <td>28883.591717</td>\n",
       "      <td>702.739285</td>\n",
       "      <td>28.190524</td>\n",
       "      <td>48.291431</td>\n",
       "      <td>14043.973668</td>\n",
       "      <td>0.498395</td>\n",
       "    </tr>\n",
       "    <tr>\n",
       "      <th>min</th>\n",
       "      <td>1.000000</td>\n",
       "      <td>1.000000</td>\n",
       "      <td>1.000000</td>\n",
       "      <td>0.000000</td>\n",
       "      <td>9.000000</td>\n",
       "      <td>0.000000</td>\n",
       "    </tr>\n",
       "    <tr>\n",
       "      <th>25%</th>\n",
       "      <td>24976.750000</td>\n",
       "      <td>214.000000</td>\n",
       "      <td>5.000000</td>\n",
       "      <td>29.900000</td>\n",
       "      <td>14943.000000</td>\n",
       "      <td>0.000000</td>\n",
       "    </tr>\n",
       "    <tr>\n",
       "      <th>50%</th>\n",
       "      <td>50042.500000</td>\n",
       "      <td>812.000000</td>\n",
       "      <td>25.000000</td>\n",
       "      <td>49.900000</td>\n",
       "      <td>31185.000000</td>\n",
       "      <td>0.000000</td>\n",
       "    </tr>\n",
       "    <tr>\n",
       "      <th>75%</th>\n",
       "      <td>75038.250000</td>\n",
       "      <td>1582.000000</td>\n",
       "      <td>44.000000</td>\n",
       "      <td>79.900000</td>\n",
       "      <td>38924.000000</td>\n",
       "      <td>1.000000</td>\n",
       "    </tr>\n",
       "    <tr>\n",
       "      <th>max</th>\n",
       "      <td>99999.000000</td>\n",
       "      <td>2241.000000</td>\n",
       "      <td>138.000000</td>\n",
       "      <td>999.000000</td>\n",
       "      <td>48241.000000</td>\n",
       "      <td>1.000000</td>\n",
       "    </tr>\n",
       "  </tbody>\n",
       "</table>\n",
       "</div>"
      ],
      "text/plain": [
       "       Order_Ref_Number  Product_Ref_ID  ...   Customer_ID  Order_Repeat_Chance\n",
       "count      75000.000000    75000.000000  ...  75000.000000         75000.000000\n",
       "mean       50002.922613      924.275213  ...  27164.660547             0.459933\n",
       "std        28883.591717      702.739285  ...  14043.973668             0.498395\n",
       "min            1.000000        1.000000  ...      9.000000             0.000000\n",
       "25%        24976.750000      214.000000  ...  14943.000000             0.000000\n",
       "50%        50042.500000      812.000000  ...  31185.000000             0.000000\n",
       "75%        75038.250000     1582.000000  ...  38924.000000             1.000000\n",
       "max        99999.000000     2241.000000  ...  48241.000000             1.000000\n",
       "\n",
       "[8 rows x 6 columns]"
      ]
     },
     "execution_count": 7,
     "metadata": {
      "tags": []
     },
     "output_type": "execute_result"
    }
   ],
   "source": [
    "dataset.describe()"
   ]
  },
  {
   "cell_type": "code",
   "execution_count": 8,
   "metadata": {
    "colab": {
     "base_uri": "https://localhost:8080/"
    },
    "id": "SP88JkQmmUtJ",
    "outputId": "c65d69d8-4977-46e4-94c0-04e52d80228f"
   },
   "outputs": [
    {
     "data": {
      "text/plain": [
       "0    40505\n",
       "1    34495\n",
       "Name: Order_Repeat_Chance, dtype: int64"
      ]
     },
     "execution_count": 8,
     "metadata": {
      "tags": []
     },
     "output_type": "execute_result"
    }
   ],
   "source": [
    "dataset.Order_Repeat_Chance.value_counts()"
   ]
  },
  {
   "cell_type": "code",
   "execution_count": 9,
   "metadata": {
    "colab": {
     "base_uri": "https://localhost:8080/"
    },
    "id": "sbsiJr8kkJfW",
    "outputId": "2a2a4d5a-7a3b-4e9e-a38f-23f79c928b56"
   },
   "outputs": [
    {
     "data": {
      "text/plain": [
       "Order_Ref_Number                 0\n",
       "Order_Placed_AT                  0\n",
       "Order_Delivered_Date          7021\n",
       "Product_Ref_ID                   0\n",
       "Size                             0\n",
       "Color_Code                       0\n",
       "Product_Category_Reference       0\n",
       "Cost_to_Customer(USD)            0\n",
       "Customer_ID                      0\n",
       "Gender                           0\n",
       "Customer_BirthDate            6555\n",
       "Customer_Location                0\n",
       "Customer_Joining_Date            0\n",
       "Order_Repeat_Chance              0\n",
       "dtype: int64"
      ]
     },
     "execution_count": 9,
     "metadata": {
      "tags": []
     },
     "output_type": "execute_result"
    }
   ],
   "source": [
    "dataset.isnull().sum()"
   ]
  },
  {
   "cell_type": "code",
   "execution_count": 10,
   "metadata": {
    "id": "EyBzuwDZkOLY"
   },
   "outputs": [],
   "source": [
    "dataset = dataset.replace('?' , np.nan)"
   ]
  },
  {
   "cell_type": "code",
   "execution_count": 11,
   "metadata": {
    "id": "kZl8iS4hFeQ5"
   },
   "outputs": [],
   "source": [
    "dataset1 = dataset.copy()"
   ]
  },
  {
   "cell_type": "code",
   "execution_count": 12,
   "metadata": {
    "id": "p2FRo0KKFKuA"
   },
   "outputs": [],
   "source": [
    "#dataset.dropna(inplace=True)"
   ]
  },
  {
   "cell_type": "code",
   "execution_count": 13,
   "metadata": {
    "id": "lTvJuw0ZDgG6"
   },
   "outputs": [],
   "source": [
    "dataset = dataset.drop([\"Order_Ref_Number\",\"Customer_ID\"],axis=1)"
   ]
  },
  {
   "cell_type": "code",
   "execution_count": 14,
   "metadata": {
    "colab": {
     "base_uri": "https://localhost:8080/"
    },
    "id": "h-dt98CLl87_",
    "outputId": "c636dc88-aa29-434f-d84d-10b3e613e40a"
   },
   "outputs": [
    {
     "data": {
      "text/plain": [
       "(75000, 12)"
      ]
     },
     "execution_count": 14,
     "metadata": {
      "tags": []
     },
     "output_type": "execute_result"
    }
   ],
   "source": [
    "dataset.shape"
   ]
  },
  {
   "cell_type": "code",
   "execution_count": 15,
   "metadata": {
    "id": "n-d92qEPSJGo"
   },
   "outputs": [],
   "source": [
    "dataset.Order_Placed_AT = pd.to_datetime(dataset.Order_Placed_AT)\n",
    "\n",
    "dataset['order_placed_day'] = dataset['Order_Placed_AT'].dt.day\n",
    "dataset['order_placed_month'] = dataset['Order_Placed_AT'].dt.month\n",
    "dataset['order_placed_year'] = dataset['Order_Placed_AT'].dt.year"
   ]
  },
  {
   "cell_type": "code",
   "execution_count": 16,
   "metadata": {
    "id": "fliDLAv3SXq8"
   },
   "outputs": [],
   "source": [
    "dataset.Order_Delivered_Date = pd.to_datetime(dataset.Order_Delivered_Date)\n",
    "\n",
    "dataset['order_delivered_day'] = dataset['Order_Delivered_Date'].dt.day\n",
    "dataset['order_delivered_month'] = dataset['Order_Delivered_Date'].dt.month\n",
    "dataset['order_delivered_year'] = dataset['Order_Delivered_Date'].dt.year"
   ]
  },
  {
   "cell_type": "code",
   "execution_count": 17,
   "metadata": {
    "id": "PtbsehVDk7M4"
   },
   "outputs": [],
   "source": [
    "dataset.Customer_Joining_Date = pd.to_datetime(dataset.Customer_Joining_Date)\n",
    "\n",
    "dataset['customer_j_day'] = dataset['Customer_Joining_Date'].dt.day\n",
    "dataset['customer_j_month'] = dataset['Customer_Joining_Date'].dt.month\n",
    "dataset['customer_j_year'] = dataset['Customer_Joining_Date'].dt.year"
   ]
  },
  {
   "cell_type": "code",
   "execution_count": 18,
   "metadata": {
    "id": "pjq7LdczlS-t"
   },
   "outputs": [],
   "source": [
    "dataset.Customer_BirthDate = pd.to_datetime(dataset.Customer_BirthDate)\n",
    "\n",
    "dataset['customer_B_day'] = dataset['Customer_BirthDate'].dt.day\n",
    "dataset['customer_B_month'] = dataset['Customer_BirthDate'].dt.month\n",
    "dataset['customer_B_year'] = dataset['Customer_BirthDate'].dt.year"
   ]
  },
  {
   "cell_type": "code",
   "execution_count": 19,
   "metadata": {
    "colab": {
     "base_uri": "https://localhost:8080/",
     "height": 241
    },
    "id": "wtFXIjETS1Wj",
    "outputId": "301e0e90-278d-4286-adcc-c15f77db5ecb"
   },
   "outputs": [
    {
     "data": {
      "text/html": [
       "<div>\n",
       "<style scoped>\n",
       "    .dataframe tbody tr th:only-of-type {\n",
       "        vertical-align: middle;\n",
       "    }\n",
       "\n",
       "    .dataframe tbody tr th {\n",
       "        vertical-align: top;\n",
       "    }\n",
       "\n",
       "    .dataframe thead th {\n",
       "        text-align: right;\n",
       "    }\n",
       "</style>\n",
       "<table border=\"1\" class=\"dataframe\">\n",
       "  <thead>\n",
       "    <tr style=\"text-align: right;\">\n",
       "      <th></th>\n",
       "      <th>Order_Placed_AT</th>\n",
       "      <th>Order_Delivered_Date</th>\n",
       "      <th>Product_Ref_ID</th>\n",
       "      <th>Size</th>\n",
       "      <th>Color_Code</th>\n",
       "      <th>Product_Category_Reference</th>\n",
       "      <th>Cost_to_Customer(USD)</th>\n",
       "      <th>Gender</th>\n",
       "      <th>Customer_BirthDate</th>\n",
       "      <th>Customer_Location</th>\n",
       "      <th>Customer_Joining_Date</th>\n",
       "      <th>Order_Repeat_Chance</th>\n",
       "      <th>order_placed_day</th>\n",
       "      <th>order_placed_month</th>\n",
       "      <th>order_placed_year</th>\n",
       "      <th>order_delivered_day</th>\n",
       "      <th>order_delivered_month</th>\n",
       "      <th>order_delivered_year</th>\n",
       "      <th>customer_j_day</th>\n",
       "      <th>customer_j_month</th>\n",
       "      <th>customer_j_year</th>\n",
       "      <th>customer_B_day</th>\n",
       "      <th>customer_B_month</th>\n",
       "      <th>customer_B_year</th>\n",
       "    </tr>\n",
       "  </thead>\n",
       "  <tbody>\n",
       "    <tr>\n",
       "      <th>0</th>\n",
       "      <td>2016-09-10</td>\n",
       "      <td>2016-09-11</td>\n",
       "      <td>897</td>\n",
       "      <td>l</td>\n",
       "      <td>grey</td>\n",
       "      <td>33</td>\n",
       "      <td>19.9</td>\n",
       "      <td>Mrs</td>\n",
       "      <td>1960-05-30</td>\n",
       "      <td>Hamburg</td>\n",
       "      <td>2015-02-17</td>\n",
       "      <td>0</td>\n",
       "      <td>10</td>\n",
       "      <td>9</td>\n",
       "      <td>2016</td>\n",
       "      <td>11.0</td>\n",
       "      <td>9.0</td>\n",
       "      <td>2016.0</td>\n",
       "      <td>17</td>\n",
       "      <td>2</td>\n",
       "      <td>2015</td>\n",
       "      <td>30.0</td>\n",
       "      <td>5.0</td>\n",
       "      <td>1960.0</td>\n",
       "    </tr>\n",
       "    <tr>\n",
       "      <th>1</th>\n",
       "      <td>2016-08-15</td>\n",
       "      <td>2016-08-20</td>\n",
       "      <td>1557</td>\n",
       "      <td>xl</td>\n",
       "      <td>petrol</td>\n",
       "      <td>31</td>\n",
       "      <td>89.9</td>\n",
       "      <td>Mrs</td>\n",
       "      <td>1958-09-23</td>\n",
       "      <td>Lower Saxony</td>\n",
       "      <td>2015-11-14</td>\n",
       "      <td>1</td>\n",
       "      <td>15</td>\n",
       "      <td>8</td>\n",
       "      <td>2016</td>\n",
       "      <td>20.0</td>\n",
       "      <td>8.0</td>\n",
       "      <td>2016.0</td>\n",
       "      <td>14</td>\n",
       "      <td>11</td>\n",
       "      <td>2015</td>\n",
       "      <td>23.0</td>\n",
       "      <td>9.0</td>\n",
       "      <td>1958.0</td>\n",
       "    </tr>\n",
       "    <tr>\n",
       "      <th>2</th>\n",
       "      <td>2016-06-27</td>\n",
       "      <td>2016-07-02</td>\n",
       "      <td>292</td>\n",
       "      <td>4+</td>\n",
       "      <td>grey</td>\n",
       "      <td>4</td>\n",
       "      <td>64.9</td>\n",
       "      <td>Mrs</td>\n",
       "      <td>1961-09-19</td>\n",
       "      <td>Hesse</td>\n",
       "      <td>2016-06-28</td>\n",
       "      <td>0</td>\n",
       "      <td>27</td>\n",
       "      <td>6</td>\n",
       "      <td>2016</td>\n",
       "      <td>2.0</td>\n",
       "      <td>7.0</td>\n",
       "      <td>2016.0</td>\n",
       "      <td>28</td>\n",
       "      <td>6</td>\n",
       "      <td>2016</td>\n",
       "      <td>19.0</td>\n",
       "      <td>9.0</td>\n",
       "      <td>1961.0</td>\n",
       "    </tr>\n",
       "    <tr>\n",
       "      <th>3</th>\n",
       "      <td>2016-08-21</td>\n",
       "      <td>2016-08-22</td>\n",
       "      <td>1445</td>\n",
       "      <td>xxl</td>\n",
       "      <td>grey</td>\n",
       "      <td>29</td>\n",
       "      <td>59.9</td>\n",
       "      <td>Mrs</td>\n",
       "      <td>1952-10-01</td>\n",
       "      <td>Lower Saxony</td>\n",
       "      <td>2015-02-17</td>\n",
       "      <td>0</td>\n",
       "      <td>21</td>\n",
       "      <td>8</td>\n",
       "      <td>2016</td>\n",
       "      <td>22.0</td>\n",
       "      <td>8.0</td>\n",
       "      <td>2016.0</td>\n",
       "      <td>17</td>\n",
       "      <td>2</td>\n",
       "      <td>2015</td>\n",
       "      <td>1.0</td>\n",
       "      <td>10.0</td>\n",
       "      <td>1952.0</td>\n",
       "    </tr>\n",
       "    <tr>\n",
       "      <th>4</th>\n",
       "      <td>2016-09-06</td>\n",
       "      <td>2016-09-07</td>\n",
       "      <td>1415</td>\n",
       "      <td>m</td>\n",
       "      <td>mahagoni</td>\n",
       "      <td>3</td>\n",
       "      <td>21.9</td>\n",
       "      <td>Mrs</td>\n",
       "      <td>1963-10-30</td>\n",
       "      <td>North Rhine-Westphalia</td>\n",
       "      <td>2015-10-02</td>\n",
       "      <td>0</td>\n",
       "      <td>6</td>\n",
       "      <td>9</td>\n",
       "      <td>2016</td>\n",
       "      <td>7.0</td>\n",
       "      <td>9.0</td>\n",
       "      <td>2016.0</td>\n",
       "      <td>2</td>\n",
       "      <td>10</td>\n",
       "      <td>2015</td>\n",
       "      <td>30.0</td>\n",
       "      <td>10.0</td>\n",
       "      <td>1963.0</td>\n",
       "    </tr>\n",
       "  </tbody>\n",
       "</table>\n",
       "</div>"
      ],
      "text/plain": [
       "  Order_Placed_AT Order_Delivered_Date  ...  customer_B_month customer_B_year\n",
       "0      2016-09-10           2016-09-11  ...               5.0          1960.0\n",
       "1      2016-08-15           2016-08-20  ...               9.0          1958.0\n",
       "2      2016-06-27           2016-07-02  ...               9.0          1961.0\n",
       "3      2016-08-21           2016-08-22  ...              10.0          1952.0\n",
       "4      2016-09-06           2016-09-07  ...              10.0          1963.0\n",
       "\n",
       "[5 rows x 24 columns]"
      ]
     },
     "execution_count": 19,
     "metadata": {
      "tags": []
     },
     "output_type": "execute_result"
    }
   ],
   "source": [
    "dataset.head()"
   ]
  },
  {
   "cell_type": "code",
   "execution_count": 20,
   "metadata": {
    "id": "ufI6-5f6S_kD"
   },
   "outputs": [],
   "source": [
    "dataset = dataset.drop([\"Order_Placed_AT\",\"Order_Delivered_Date\",\"Customer_BirthDate\",\"Customer_Joining_Date\"],axis=1)"
   ]
  },
  {
   "cell_type": "code",
   "execution_count": 21,
   "metadata": {
    "colab": {
     "base_uri": "https://localhost:8080/"
    },
    "id": "KrPZ6eZGTpHm",
    "outputId": "a0640145-cd2f-441b-d9a8-c50a40d0d645"
   },
   "outputs": [
    {
     "data": {
      "text/plain": [
       "Product_Ref_ID                   0\n",
       "Size                             0\n",
       "Color_Code                      48\n",
       "Product_Category_Reference       0\n",
       "Cost_to_Customer(USD)            0\n",
       "Gender                           0\n",
       "Customer_Location                0\n",
       "Order_Repeat_Chance              0\n",
       "order_placed_day                 0\n",
       "order_placed_month               0\n",
       "order_placed_year                0\n",
       "order_delivered_day           7021\n",
       "order_delivered_month         7021\n",
       "order_delivered_year          7021\n",
       "customer_j_day                   0\n",
       "customer_j_month                 0\n",
       "customer_j_year                  0\n",
       "customer_B_day                6555\n",
       "customer_B_month              6555\n",
       "customer_B_year               6555\n",
       "dtype: int64"
      ]
     },
     "execution_count": 21,
     "metadata": {
      "tags": []
     },
     "output_type": "execute_result"
    }
   ],
   "source": [
    "dataset.isnull().sum()"
   ]
  },
  {
   "cell_type": "code",
   "execution_count": 22,
   "metadata": {
    "id": "c302z1NuTv5Y"
   },
   "outputs": [],
   "source": [
    "dataset.Color_Code = dataset.Color_Code.fillna(\"black\")"
   ]
  },
  {
   "cell_type": "code",
   "execution_count": 23,
   "metadata": {
    "id": "hR3m4wt0RMd1"
   },
   "outputs": [],
   "source": [
    "dataset.order_delivered_day = dataset.order_delivered_day.fillna(dataset.order_delivered_day.median())\n",
    "dataset.order_delivered_month = dataset.order_delivered_month.fillna(dataset.order_delivered_month.median())\n",
    "dataset.order_delivered_year = dataset.order_delivered_year.fillna(dataset.order_delivered_year.median())"
   ]
  },
  {
   "cell_type": "code",
   "execution_count": 24,
   "metadata": {
    "id": "HmmbgusUmt4H"
   },
   "outputs": [],
   "source": [
    "dataset.customer_B_day = dataset.customer_B_day.fillna(dataset.customer_B_day.median())\n",
    "dataset.customer_B_month = dataset.customer_B_month.fillna(dataset.customer_B_month.median())\n",
    "dataset.customer_B_year = dataset.customer_B_year.fillna(dataset.customer_B_year.median())"
   ]
  },
  {
   "cell_type": "markdown",
   "metadata": {
    "id": "pyru-6vLVCOx"
   },
   "source": [
    "##Change The column Levels For Gender"
   ]
  },
  {
   "cell_type": "code",
   "execution_count": 25,
   "metadata": {
    "id": "3dzVTHiKVBOU"
   },
   "outputs": [],
   "source": [
    "dataset.Gender=dataset.Gender.replace('Family','Mrs')\n",
    "dataset.Gender = dataset.Gender.replace('Company','Mr')\n",
    "dataset.Gender = dataset.Gender.replace('not reported','Mr')"
   ]
  },
  {
   "cell_type": "code",
   "execution_count": 26,
   "metadata": {
    "id": "ix1Si2-aVVv_"
   },
   "outputs": [],
   "source": [
    "# index = dataset[(dataset['Gender']== \"not reported\")].index\n",
    "# dataset.drop(index, inplace=True)"
   ]
  },
  {
   "cell_type": "markdown",
   "metadata": {
    "id": "MeAVIRagV46v"
   },
   "source": [
    "## Change The Columns level for Size "
   ]
  },
  {
   "cell_type": "code",
   "execution_count": 27,
   "metadata": {
    "id": "xDIsBpvdV37y"
   },
   "outputs": [],
   "source": [
    "dataset.Size = dataset.Size.str.replace(\"+\",\"\")"
   ]
  },
  {
   "cell_type": "code",
   "execution_count": 28,
   "metadata": {
    "id": "WzNMxHePWaKU"
   },
   "outputs": [],
   "source": [
    "dataset.Size = dataset.Size.replace({\"xs\":38})\n",
    "dataset.Size = dataset.Size.replace({\"s\":39})\n",
    "dataset.Size = dataset.Size.replace({\"m\":41})\n",
    "dataset.Size = dataset.Size.replace({\"l\":42})\n",
    "dataset.Size = dataset.Size.replace({\"xl\":44})\n",
    "dataset.Size = dataset.Size.replace({\"xxl\":46})\n",
    "dataset.Size = dataset.Size.replace({\"xxxl\":48})\n",
    "dataset.Size = dataset.Size.replace({\"unsized\":42})"
   ]
  },
  {
   "cell_type": "code",
   "execution_count": 29,
   "metadata": {
    "id": "BmbzKrTPalt1"
   },
   "outputs": [],
   "source": [
    "dataset.Size = dataset.Size.astype(\"int\")"
   ]
  },
  {
   "cell_type": "code",
   "execution_count": 30,
   "metadata": {
    "colab": {
     "base_uri": "https://localhost:8080/",
     "height": 317
    },
    "id": "WDedarrlntQY",
    "outputId": "7e16c650-97fc-4705-970e-c47ae6c30bf1"
   },
   "outputs": [
    {
     "data": {
      "text/html": [
       "<div>\n",
       "<style scoped>\n",
       "    .dataframe tbody tr th:only-of-type {\n",
       "        vertical-align: middle;\n",
       "    }\n",
       "\n",
       "    .dataframe tbody tr th {\n",
       "        vertical-align: top;\n",
       "    }\n",
       "\n",
       "    .dataframe thead th {\n",
       "        text-align: right;\n",
       "    }\n",
       "</style>\n",
       "<table border=\"1\" class=\"dataframe\">\n",
       "  <thead>\n",
       "    <tr style=\"text-align: right;\">\n",
       "      <th></th>\n",
       "      <th>Product_Ref_ID</th>\n",
       "      <th>Size</th>\n",
       "      <th>Product_Category_Reference</th>\n",
       "      <th>Cost_to_Customer(USD)</th>\n",
       "      <th>Order_Repeat_Chance</th>\n",
       "      <th>order_placed_day</th>\n",
       "      <th>order_placed_month</th>\n",
       "      <th>order_placed_year</th>\n",
       "      <th>order_delivered_day</th>\n",
       "      <th>order_delivered_month</th>\n",
       "      <th>order_delivered_year</th>\n",
       "      <th>customer_j_day</th>\n",
       "      <th>customer_j_month</th>\n",
       "      <th>customer_j_year</th>\n",
       "      <th>customer_B_day</th>\n",
       "      <th>customer_B_month</th>\n",
       "      <th>customer_B_year</th>\n",
       "    </tr>\n",
       "  </thead>\n",
       "  <tbody>\n",
       "    <tr>\n",
       "      <th>count</th>\n",
       "      <td>75000.000000</td>\n",
       "      <td>75000.00000</td>\n",
       "      <td>75000.000000</td>\n",
       "      <td>75000.000000</td>\n",
       "      <td>75000.000000</td>\n",
       "      <td>75000.000000</td>\n",
       "      <td>75000.000000</td>\n",
       "      <td>75000.0</td>\n",
       "      <td>75000.000000</td>\n",
       "      <td>75000.000000</td>\n",
       "      <td>75000.000000</td>\n",
       "      <td>75000.000000</td>\n",
       "      <td>75000.000000</td>\n",
       "      <td>75000.000000</td>\n",
       "      <td>75000.000000</td>\n",
       "      <td>75000.000000</td>\n",
       "      <td>75000.000000</td>\n",
       "    </tr>\n",
       "    <tr>\n",
       "      <th>mean</th>\n",
       "      <td>924.275213</td>\n",
       "      <td>43.41912</td>\n",
       "      <td>30.173093</td>\n",
       "      <td>65.232934</td>\n",
       "      <td>0.459933</td>\n",
       "      <td>15.911907</td>\n",
       "      <td>7.434173</td>\n",
       "      <td>2016.0</td>\n",
       "      <td>15.432453</td>\n",
       "      <td>7.811587</td>\n",
       "      <td>2015.765347</td>\n",
       "      <td>16.332613</td>\n",
       "      <td>4.762680</td>\n",
       "      <td>2015.472187</td>\n",
       "      <td>15.845307</td>\n",
       "      <td>6.587013</td>\n",
       "      <td>1963.840813</td>\n",
       "    </tr>\n",
       "    <tr>\n",
       "      <th>std</th>\n",
       "      <td>702.739285</td>\n",
       "      <td>105.80735</td>\n",
       "      <td>28.190524</td>\n",
       "      <td>48.291431</td>\n",
       "      <td>0.498395</td>\n",
       "      <td>10.084099</td>\n",
       "      <td>0.939957</td>\n",
       "      <td>0.0</td>\n",
       "      <td>9.158815</td>\n",
       "      <td>1.026045</td>\n",
       "      <td>2.260019</td>\n",
       "      <td>7.467216</td>\n",
       "      <td>2.956506</td>\n",
       "      <td>0.499229</td>\n",
       "      <td>8.352586</td>\n",
       "      <td>3.375752</td>\n",
       "      <td>10.892247</td>\n",
       "    </tr>\n",
       "    <tr>\n",
       "      <th>min</th>\n",
       "      <td>1.000000</td>\n",
       "      <td>1.00000</td>\n",
       "      <td>1.000000</td>\n",
       "      <td>0.000000</td>\n",
       "      <td>0.000000</td>\n",
       "      <td>1.000000</td>\n",
       "      <td>6.000000</td>\n",
       "      <td>2016.0</td>\n",
       "      <td>1.000000</td>\n",
       "      <td>1.000000</td>\n",
       "      <td>1994.000000</td>\n",
       "      <td>1.000000</td>\n",
       "      <td>1.000000</td>\n",
       "      <td>2015.000000</td>\n",
       "      <td>1.000000</td>\n",
       "      <td>1.000000</td>\n",
       "      <td>1900.000000</td>\n",
       "    </tr>\n",
       "    <tr>\n",
       "      <th>25%</th>\n",
       "      <td>214.000000</td>\n",
       "      <td>39.00000</td>\n",
       "      <td>5.000000</td>\n",
       "      <td>29.900000</td>\n",
       "      <td>0.000000</td>\n",
       "      <td>6.000000</td>\n",
       "      <td>7.000000</td>\n",
       "      <td>2016.0</td>\n",
       "      <td>7.000000</td>\n",
       "      <td>7.000000</td>\n",
       "      <td>2016.000000</td>\n",
       "      <td>12.000000</td>\n",
       "      <td>2.000000</td>\n",
       "      <td>2015.000000</td>\n",
       "      <td>9.000000</td>\n",
       "      <td>4.000000</td>\n",
       "      <td>1959.000000</td>\n",
       "    </tr>\n",
       "    <tr>\n",
       "      <th>50%</th>\n",
       "      <td>812.000000</td>\n",
       "      <td>41.00000</td>\n",
       "      <td>25.000000</td>\n",
       "      <td>49.900000</td>\n",
       "      <td>0.000000</td>\n",
       "      <td>15.000000</td>\n",
       "      <td>8.000000</td>\n",
       "      <td>2016.0</td>\n",
       "      <td>15.000000</td>\n",
       "      <td>8.000000</td>\n",
       "      <td>2016.000000</td>\n",
       "      <td>17.000000</td>\n",
       "      <td>4.000000</td>\n",
       "      <td>2015.000000</td>\n",
       "      <td>16.000000</td>\n",
       "      <td>7.000000</td>\n",
       "      <td>1965.000000</td>\n",
       "    </tr>\n",
       "    <tr>\n",
       "      <th>75%</th>\n",
       "      <td>1582.000000</td>\n",
       "      <td>44.00000</td>\n",
       "      <td>44.000000</td>\n",
       "      <td>79.900000</td>\n",
       "      <td>1.000000</td>\n",
       "      <td>27.000000</td>\n",
       "      <td>8.000000</td>\n",
       "      <td>2016.0</td>\n",
       "      <td>24.000000</td>\n",
       "      <td>8.000000</td>\n",
       "      <td>2016.000000</td>\n",
       "      <td>20.000000</td>\n",
       "      <td>7.000000</td>\n",
       "      <td>2016.000000</td>\n",
       "      <td>22.000000</td>\n",
       "      <td>9.000000</td>\n",
       "      <td>1969.000000</td>\n",
       "    </tr>\n",
       "    <tr>\n",
       "      <th>max</th>\n",
       "      <td>2241.000000</td>\n",
       "      <td>4034.00000</td>\n",
       "      <td>138.000000</td>\n",
       "      <td>999.000000</td>\n",
       "      <td>1.000000</td>\n",
       "      <td>31.000000</td>\n",
       "      <td>9.000000</td>\n",
       "      <td>2016.0</td>\n",
       "      <td>31.000000</td>\n",
       "      <td>12.000000</td>\n",
       "      <td>2017.000000</td>\n",
       "      <td>31.000000</td>\n",
       "      <td>12.000000</td>\n",
       "      <td>2016.000000</td>\n",
       "      <td>31.000000</td>\n",
       "      <td>12.000000</td>\n",
       "      <td>2011.000000</td>\n",
       "    </tr>\n",
       "  </tbody>\n",
       "</table>\n",
       "</div>"
      ],
      "text/plain": [
       "       Product_Ref_ID         Size  ...  customer_B_month  customer_B_year\n",
       "count    75000.000000  75000.00000  ...      75000.000000     75000.000000\n",
       "mean       924.275213     43.41912  ...          6.587013      1963.840813\n",
       "std        702.739285    105.80735  ...          3.375752        10.892247\n",
       "min          1.000000      1.00000  ...          1.000000      1900.000000\n",
       "25%        214.000000     39.00000  ...          4.000000      1959.000000\n",
       "50%        812.000000     41.00000  ...          7.000000      1965.000000\n",
       "75%       1582.000000     44.00000  ...          9.000000      1969.000000\n",
       "max       2241.000000   4034.00000  ...         12.000000      2011.000000\n",
       "\n",
       "[8 rows x 17 columns]"
      ]
     },
     "execution_count": 30,
     "metadata": {
      "tags": []
     },
     "output_type": "execute_result"
    }
   ],
   "source": [
    "dataset.describe()"
   ]
  },
  {
   "cell_type": "code",
   "execution_count": 31,
   "metadata": {
    "colab": {
     "base_uri": "https://localhost:8080/"
    },
    "id": "C2nWD890n5An",
    "outputId": "80ab2556-7d48-4131-fbb9-e5fce4acef86"
   },
   "outputs": [
    {
     "name": "stdout",
     "output_type": "stream",
     "text": [
      "<class 'pandas.core.frame.DataFrame'>\n",
      "RangeIndex: 75000 entries, 0 to 74999\n",
      "Data columns (total 20 columns):\n",
      " #   Column                      Non-Null Count  Dtype  \n",
      "---  ------                      --------------  -----  \n",
      " 0   Product_Ref_ID              75000 non-null  int64  \n",
      " 1   Size                        75000 non-null  int64  \n",
      " 2   Color_Code                  75000 non-null  object \n",
      " 3   Product_Category_Reference  75000 non-null  int64  \n",
      " 4   Cost_to_Customer(USD)       75000 non-null  float64\n",
      " 5   Gender                      75000 non-null  object \n",
      " 6   Customer_Location           75000 non-null  object \n",
      " 7   Order_Repeat_Chance         75000 non-null  int64  \n",
      " 8   order_placed_day            75000 non-null  int64  \n",
      " 9   order_placed_month          75000 non-null  int64  \n",
      " 10  order_placed_year           75000 non-null  int64  \n",
      " 11  order_delivered_day         75000 non-null  float64\n",
      " 12  order_delivered_month       75000 non-null  float64\n",
      " 13  order_delivered_year        75000 non-null  float64\n",
      " 14  customer_j_day              75000 non-null  int64  \n",
      " 15  customer_j_month            75000 non-null  int64  \n",
      " 16  customer_j_year             75000 non-null  int64  \n",
      " 17  customer_B_day              75000 non-null  float64\n",
      " 18  customer_B_month            75000 non-null  float64\n",
      " 19  customer_B_year             75000 non-null  float64\n",
      "dtypes: float64(7), int64(10), object(3)\n",
      "memory usage: 11.4+ MB\n"
     ]
    }
   ],
   "source": [
    "dataset.info()"
   ]
  },
  {
   "cell_type": "code",
   "execution_count": 32,
   "metadata": {
    "id": "8iWGUu37njNs"
   },
   "outputs": [],
   "source": [
    "dataset.order_delivered_year=dataset.order_delivered_year.replace(1994,2016)\n",
    "dataset.order_delivered_year=dataset.order_delivered_year.replace(2017,2016)"
   ]
  },
  {
   "cell_type": "code",
   "execution_count": 33,
   "metadata": {
    "id": "gKwyvMiknjRk"
   },
   "outputs": [],
   "source": [
    "dataset.order_delivered_day = dataset.order_delivered_day.astype('int')\n",
    "dataset.order_delivered_month = dataset.order_delivered_month.astype('int')\n",
    "dataset.order_delivered_year = dataset.order_delivered_year.astype('int')\n",
    "\n",
    "dataset.customer_B_day = dataset.customer_B_day.astype('int')\n",
    "dataset.customer_B_month = dataset.customer_B_month.astype('int')\n",
    "dataset.customer_B_year = dataset.customer_B_year.astype('int')"
   ]
  },
  {
   "cell_type": "markdown",
   "metadata": {
    "id": "41i5XGmUq_aP"
   },
   "source": [
    "## Lets Understand the Data "
   ]
  },
  {
   "cell_type": "code",
   "execution_count": 34,
   "metadata": {
    "colab": {
     "base_uri": "https://localhost:8080/"
    },
    "id": "ITBAH0oSrZ53",
    "outputId": "f20a7710-2ee5-4cc5-aefe-24d38d626291"
   },
   "outputs": [
    {
     "data": {
      "text/plain": [
       "0    54.006667\n",
       "1    45.993333\n",
       "Name: Order_Repeat_Chance, dtype: float64"
      ]
     },
     "execution_count": 34,
     "metadata": {
      "tags": []
     },
     "output_type": "execute_result"
    }
   ],
   "source": [
    "# Normalize can be set to True to print proportions instead of number \n",
    "dataset[\"Order_Repeat_Chance\"].value_counts(normalize=True)*100"
   ]
  },
  {
   "cell_type": "code",
   "execution_count": 35,
   "metadata": {
    "colab": {
     "base_uri": "https://localhost:8080/",
     "height": 295
    },
    "id": "GQjujJUjqOC-",
    "outputId": "a3c9f4b9-3b5b-43a2-e7b8-5122a56da255"
   },
   "outputs": [
    {
     "data": {
      "text/plain": [
       "<matplotlib.axes._subplots.AxesSubplot at 0x7f81865e2c88>"
      ]
     },
     "execution_count": 35,
     "metadata": {
      "tags": []
     },
     "output_type": "execute_result"
    },
    {
     "data": {
      "image/png": "[encoded data removed]",
      "text/plain": [
       "<Figure size 432x288 with 1 Axes>"
      ]
     },
     "metadata": {
      "needs_background": "light",
      "tags": []
     },
     "output_type": "display_data"
    }
   ],
   "source": [
    "dataset[\"Order_Repeat_Chance\"].value_counts(normalize=True).plot.bar(title = 'Order_Repeat_Chance')\n"
   ]
  },
  {
   "cell_type": "markdown",
   "metadata": {
    "id": "gtGbRp7or0YX"
   },
   "source": [
    "##Independent Variable (Categorical)"
   ]
  },
  {
   "cell_type": "code",
   "execution_count": 36,
   "metadata": {
    "colab": {
     "base_uri": "https://localhost:8080/"
    },
    "id": "JjyeG5UPrKtB",
    "outputId": "57feaee1-feb9-4bb7-de6d-8fb465ca9709"
   },
   "outputs": [
    {
     "data": {
      "text/plain": [
       "42      22.574667\n",
       "41      15.189333\n",
       "44      13.162667\n",
       "39      10.682667\n",
       "46      10.314667\n",
       "          ...    \n",
       "4034     0.001333\n",
       "80       0.001333\n",
       "105      0.001333\n",
       "3834     0.001333\n",
       "3132     0.001333\n",
       "Name: Size, Length: 70, dtype: float64"
      ]
     },
     "execution_count": 36,
     "metadata": {
      "tags": []
     },
     "output_type": "execute_result"
    }
   ],
   "source": [
    "dataset['Size'].value_counts(normalize = True)*100"
   ]
  },
  {
   "cell_type": "code",
   "execution_count": 37,
   "metadata": {
    "colab": {
     "base_uri": "https://localhost:8080/"
    },
    "id": "v2UgKeQhsXtm",
    "outputId": "4ea9c6d3-0d99-4ada-c829-e1bb3d589a73"
   },
   "outputs": [
    {
     "data": {
      "text/plain": [
       "black          18.804000\n",
       "blue           10.661333\n",
       "brown           8.724000\n",
       "grey            8.697333\n",
       "red             7.248000\n",
       "                 ...    \n",
       "copper coin     0.006667\n",
       "creme           0.004000\n",
       "opal            0.002667\n",
       "avocado         0.002667\n",
       "amethyst        0.002667\n",
       "Name: Color_Code, Length: 76, dtype: float64"
      ]
     },
     "execution_count": 37,
     "metadata": {
      "tags": []
     },
     "output_type": "execute_result"
    }
   ],
   "source": [
    "dataset['Color_Code'].value_counts(normalize=True)*100"
   ]
  },
  {
   "cell_type": "code",
   "execution_count": 38,
   "metadata": {
    "colab": {
     "base_uri": "https://localhost:8080/"
    },
    "id": "E8ZiIrwdwb2w",
    "outputId": "a0841648-cb27-43d5-bb24-c9974e15514a"
   },
   "outputs": [
    {
     "data": {
      "text/plain": [
       "Mrs    95.894667\n",
       "Mr      4.105333\n",
       "Name: Gender, dtype: float64"
      ]
     },
     "execution_count": 38,
     "metadata": {
      "tags": []
     },
     "output_type": "execute_result"
    }
   ],
   "source": [
    "dataset[\"Gender\"].value_counts(normalize=True)*100"
   ]
  },
  {
   "cell_type": "code",
   "execution_count": 39,
   "metadata": {
    "colab": {
     "base_uri": "https://localhost:8080/",
     "height": 350
    },
    "id": "XrDk5oOjzKpF",
    "outputId": "4517c558-58d1-4564-bfed-4b3629e0190d"
   },
   "outputs": [
    {
     "data": {
      "text/plain": [
       "<matplotlib.axes._subplots.AxesSubplot at 0x7f8186520ba8>"
      ]
     },
     "execution_count": 39,
     "metadata": {
      "tags": []
     },
     "output_type": "execute_result"
    },
    {
     "data": {
      "image/png": "[encoded data removed]",
      "text/plain": [
       "<Figure size 432x288 with 1 Axes>"
      ]
     },
     "metadata": {
      "needs_background": "light",
      "tags": []
     },
     "output_type": "display_data"
    }
   ],
   "source": [
    "dataset1[\"Gender\"].value_counts(normalize=True).plot.bar(title= \"Gender\")"
   ]
  },
  {
   "cell_type": "markdown",
   "metadata": {
    "id": "H-IG1aMivcjq"
   },
   "source": [
    "## Check the Data Distribution for Numeric Values"
   ]
  },
  {
   "cell_type": "code",
   "execution_count": 40,
   "metadata": {
    "colab": {
     "base_uri": "https://localhost:8080/",
     "height": 390
    },
    "id": "BP3dd4LSuqYL",
    "outputId": "622e9b6e-64f5-46cb-985a-bf58a83034c4"
   },
   "outputs": [
    {
     "name": "stderr",
     "output_type": "stream",
     "text": [
      "/usr/local/lib/python3.6/dist-packages/seaborn/distributions.py:2557: FutureWarning: `distplot` is a deprecated function and will be removed in a future version. Please adapt your code to use either `displot` (a figure-level function with similar flexibility) or `histplot` (an axes-level function for histograms).\n",
      "  warnings.warn(msg, FutureWarning)\n"
     ]
    },
    {
     "data": {
      "image/png": "[encoded data removed]",
      "text/plain": [
       "<Figure size 1152x360 with 2 Axes>"
      ]
     },
     "metadata": {
      "needs_background": "light",
      "tags": []
     },
     "output_type": "display_data"
    }
   ],
   "source": [
    "plt.figure(1)\n",
    "plt.subplot(121)\n",
    "sns.distplot(dataset[\"Cost_to_Customer(USD)\"]);\n",
    "\n",
    "plt.subplot(122)\n",
    "dataset[\"Cost_to_Customer(USD)\"].plot.box(figsize=(16,5))\n",
    "plt.show()"
   ]
  },
  {
   "cell_type": "code",
   "execution_count": 41,
   "metadata": {
    "colab": {
     "base_uri": "https://localhost:8080/",
     "height": 390
    },
    "id": "dfQQ9a2D8QqQ",
    "outputId": "dd4721d5-a87a-4632-edc4-b435c1ef6796"
   },
   "outputs": [
    {
     "name": "stderr",
     "output_type": "stream",
     "text": [
      "/usr/local/lib/python3.6/dist-packages/seaborn/distributions.py:2557: FutureWarning: `distplot` is a deprecated function and will be removed in a future version. Please adapt your code to use either `displot` (a figure-level function with similar flexibility) or `histplot` (an axes-level function for histograms).\n",
      "  warnings.warn(msg, FutureWarning)\n"
     ]
    },
    {
     "data": {
      "image/png": "[encoded data removed]",
      "text/plain": [
       "<Figure size 1152x360 with 2 Axes>"
      ]
     },
     "metadata": {
      "needs_background": "light",
      "tags": []
     },
     "output_type": "display_data"
    }
   ],
   "source": [
    "plt.figure(1)\n",
    "plt.subplot(121)\n",
    "sns.distplot(dataset['Product_Ref_ID']);\n",
    "\n",
    "plt.subplot(122)\n",
    "dataset['Product_Ref_ID'].plot.box(figsize=(16,5))\n",
    "\n",
    "plt.show()\n"
   ]
  },
  {
   "cell_type": "code",
   "execution_count": 42,
   "metadata": {
    "colab": {
     "base_uri": "https://localhost:8080/",
     "height": 389
    },
    "id": "bonpG2Tvvzld",
    "outputId": "c911f238-b6b0-4dc9-8176-5ef4e48f0e7a"
   },
   "outputs": [
    {
     "name": "stderr",
     "output_type": "stream",
     "text": [
      "/usr/local/lib/python3.6/dist-packages/seaborn/distributions.py:2557: FutureWarning: `distplot` is a deprecated function and will be removed in a future version. Please adapt your code to use either `displot` (a figure-level function with similar flexibility) or `histplot` (an axes-level function for histograms).\n",
      "  warnings.warn(msg, FutureWarning)\n"
     ]
    },
    {
     "data": {
      "image/png": "[encoded data removed]",
      "text/plain": [
       "<Figure size 1152x360 with 2 Axes>"
      ]
     },
     "metadata": {
      "needs_background": "light",
      "tags": []
     },
     "output_type": "display_data"
    }
   ],
   "source": [
    "plt.figure(1)\n",
    "plt.subplot(121)\n",
    "sns.distplot(dataset['Product_Category_Reference']);\n",
    "\n",
    "plt.subplot(122)\n",
    "dataset['Product_Category_Reference'].plot.box(figsize=(16,5))\n",
    "\n",
    "plt.show()"
   ]
  },
  {
   "cell_type": "code",
   "execution_count": 43,
   "metadata": {
    "colab": {
     "base_uri": "https://localhost:8080/",
     "height": 388
    },
    "id": "xrA7O9x1ayry",
    "outputId": "1c5e335c-fa26-40f5-bc0a-816c89e111af"
   },
   "outputs": [
    {
     "name": "stderr",
     "output_type": "stream",
     "text": [
      "/usr/local/lib/python3.6/dist-packages/seaborn/distributions.py:2557: FutureWarning: `distplot` is a deprecated function and will be removed in a future version. Please adapt your code to use either `displot` (a figure-level function with similar flexibility) or `histplot` (an axes-level function for histograms).\n",
      "  warnings.warn(msg, FutureWarning)\n"
     ]
    },
    {
     "data": {
      "image/png": "[encoded data removed]",
      "text/plain": [
       "<Figure size 1152x360 with 2 Axes>"
      ]
     },
     "metadata": {
      "needs_background": "light",
      "tags": []
     },
     "output_type": "display_data"
    }
   ],
   "source": [
    "plt.figure(1)\n",
    "plt.subplot(121)\n",
    "sns.distplot(dataset['Size']);\n",
    "\n",
    "plt.subplot(122)\n",
    "dataset['Size'].plot.box(figsize=(16,5))\n",
    "\n",
    "plt.show()"
   ]
  },
  {
   "cell_type": "code",
   "execution_count": 44,
   "metadata": {
    "colab": {
     "base_uri": "https://localhost:8080/",
     "height": 265
    },
    "id": "X5qyXBt1ZwDJ",
    "outputId": "0f3d4440-9c8e-40e1-ae7a-fb1ed4c71b2c"
   },
   "outputs": [
    {
     "data": {
      "image/png": "[encoded data removed]",
      "text/plain": [
       "<Figure size 432x288 with 1 Axes>"
      ]
     },
     "metadata": {
      "needs_background": "light",
      "tags": []
     },
     "output_type": "display_data"
    }
   ],
   "source": [
    "plt.boxplot(dataset[\"Size\"])\n",
    "plt.show()"
   ]
  },
  {
   "cell_type": "markdown",
   "metadata": {
    "id": "hvRbTR__cWJc"
   },
   "source": [
    "## Treat With Skewness"
   ]
  },
  {
   "cell_type": "code",
   "execution_count": 45,
   "metadata": {
    "colab": {
     "base_uri": "https://localhost:8080/",
     "height": 472
    },
    "id": "OwmT6T-VbXNs",
    "outputId": "e9be3773-c29b-4adb-e721-64b6d346c156"
   },
   "outputs": [
    {
     "name": "stdout",
     "output_type": "stream",
     "text": [
      "\n",
      "Skew in numerical features: \n",
      "\n"
     ]
    },
    {
     "data": {
      "text/html": [
       "<div>\n",
       "<style scoped>\n",
       "    .dataframe tbody tr th:only-of-type {\n",
       "        vertical-align: middle;\n",
       "    }\n",
       "\n",
       "    .dataframe tbody tr th {\n",
       "        vertical-align: top;\n",
       "    }\n",
       "\n",
       "    .dataframe thead th {\n",
       "        text-align: right;\n",
       "    }\n",
       "</style>\n",
       "<table border=\"1\" class=\"dataframe\">\n",
       "  <thead>\n",
       "    <tr style=\"text-align: right;\">\n",
       "      <th></th>\n",
       "      <th>Skew</th>\n",
       "    </tr>\n",
       "  </thead>\n",
       "  <tbody>\n",
       "    <tr>\n",
       "      <th>Size</th>\n",
       "      <td>33.224</td>\n",
       "    </tr>\n",
       "    <tr>\n",
       "      <th>Cost_to_Customer(USD)</th>\n",
       "      <td>2.064</td>\n",
       "    </tr>\n",
       "    <tr>\n",
       "      <th>Product_Category_Reference</th>\n",
       "      <td>1.250</td>\n",
       "    </tr>\n",
       "    <tr>\n",
       "      <th>order_delivered_month</th>\n",
       "      <td>0.932</td>\n",
       "    </tr>\n",
       "    <tr>\n",
       "      <th>customer_j_month</th>\n",
       "      <td>0.529</td>\n",
       "    </tr>\n",
       "    <tr>\n",
       "      <th>Order_Repeat_Chance</th>\n",
       "      <td>0.161</td>\n",
       "    </tr>\n",
       "    <tr>\n",
       "      <th>order_delivered_day</th>\n",
       "      <td>0.141</td>\n",
       "    </tr>\n",
       "    <tr>\n",
       "      <th>customer_j_year</th>\n",
       "      <td>0.111</td>\n",
       "    </tr>\n",
       "    <tr>\n",
       "      <th>Product_Ref_ID</th>\n",
       "      <td>0.076</td>\n",
       "    </tr>\n",
       "    <tr>\n",
       "      <th>order_placed_day</th>\n",
       "      <td>0.012</td>\n",
       "    </tr>\n",
       "    <tr>\n",
       "      <th>order_placed_year</th>\n",
       "      <td>0.000</td>\n",
       "    </tr>\n",
       "    <tr>\n",
       "      <th>order_delivered_year</th>\n",
       "      <td>0.000</td>\n",
       "    </tr>\n",
       "  </tbody>\n",
       "</table>\n",
       "</div>"
      ],
      "text/plain": [
       "                             Skew\n",
       "Size                       33.224\n",
       "Cost_to_Customer(USD)       2.064\n",
       "Product_Category_Reference  1.250\n",
       "order_delivered_month       0.932\n",
       "customer_j_month            0.529\n",
       "Order_Repeat_Chance         0.161\n",
       "order_delivered_day         0.141\n",
       "customer_j_year             0.111\n",
       "Product_Ref_ID              0.076\n",
       "order_placed_day            0.012\n",
       "order_placed_year           0.000\n",
       "order_delivered_year        0.000"
      ]
     },
     "execution_count": 45,
     "metadata": {
      "tags": []
     },
     "output_type": "execute_result"
    }
   ],
   "source": [
    "from scipy import stats\n",
    "from scipy.stats import norm, skew #for some statistics\n",
    "pd.set_option('display.float_format', lambda x: '{:.3f}'.format(x)) #Limiting floats output to 3 decimal points\n",
    "\n",
    "\n",
    "numeric_feats = dataset.dtypes[dataset.dtypes != \"object\"].index\n",
    "\n",
    "# Check the skew of all numerical features\n",
    "skewed_feats = dataset[numeric_feats].apply(lambda x: skew(x.dropna())).sort_values(ascending=False)\n",
    "print(\"\\nSkew in numerical features: \\n\")\n",
    "skewness = pd.DataFrame({'Skew' :skewed_feats}) \n",
    "skewness.head(12)"
   ]
  },
  {
   "cell_type": "code",
   "execution_count": 46,
   "metadata": {
    "id": "FScKW_WydFlL"
   },
   "outputs": [],
   "source": [
    "dataset2 = dataset.copy()"
   ]
  },
  {
   "cell_type": "markdown",
   "metadata": {
    "id": "pv_styVIobU2"
   },
   "source": [
    "## Remove Outliers"
   ]
  },
  {
   "cell_type": "markdown",
   "metadata": {
    "id": "DratLL0bpqPj"
   },
   "source": [
    "For Size Column"
   ]
  },
  {
   "cell_type": "code",
   "execution_count": 47,
   "metadata": {
    "colab": {
     "base_uri": "https://localhost:8080/"
    },
    "id": "lgPHFoL7oZ7-",
    "outputId": "a28d533f-b564-4618-8fc9-55881185e9d1"
   },
   "outputs": [
    {
     "name": "stdout",
     "output_type": "stream",
     "text": [
      "37.0\n",
      "46.0\n"
     ]
    }
   ],
   "source": [
    "print(dataset['Size'].quantile(0.10))\n",
    "print(dataset['Size'].quantile(0.90))"
   ]
  },
  {
   "cell_type": "code",
   "execution_count": 48,
   "metadata": {
    "id": "f_s_WJDpo_L4"
   },
   "outputs": [],
   "source": [
    "dataset[\"Size\"] = np.where(dataset[\"Size\"] <37.0, 37.0,dataset['Size'])\n",
    "dataset[\"Size\"] = np.where(dataset[\"Size\"] >46.0, 46.0,dataset['Size'])"
   ]
  },
  {
   "cell_type": "markdown",
   "metadata": {
    "id": "I96nu2NXpv-e"
   },
   "source": [
    "For Cost column"
   ]
  },
  {
   "cell_type": "code",
   "execution_count": 49,
   "metadata": {
    "colab": {
     "base_uri": "https://localhost:8080/"
    },
    "id": "71z6atPjo_O0",
    "outputId": "8cef721d-9b58-4e7d-fd7d-af99a617c6c3"
   },
   "outputs": [
    {
     "name": "stdout",
     "output_type": "stream",
     "text": [
      "19.9\n",
      "134.9\n"
     ]
    }
   ],
   "source": [
    "print(dataset['Cost_to_Customer(USD)'].quantile(0.10))\n",
    "print(dataset['Cost_to_Customer(USD)'].quantile(0.90))"
   ]
  },
  {
   "cell_type": "code",
   "execution_count": 50,
   "metadata": {
    "id": "_WjRkcvWo_Rw"
   },
   "outputs": [],
   "source": [
    "dataset[\"Cost_to_Customer(USD)\"] = np.where(dataset[\"Cost_to_Customer(USD)\"] < 19.9, 19.9,dataset['Cost_to_Customer(USD)'])\n",
    "dataset[\"Cost_to_Customer(USD)\"] = np.where(dataset[\"Cost_to_Customer(USD)\"] > 134.9, 134.9,dataset['Cost_to_Customer(USD)'])"
   ]
  },
  {
   "cell_type": "markdown",
   "metadata": {
    "id": "ndP4rfxQqnf7"
   },
   "source": [
    "##For Product_Category_Reference column"
   ]
  },
  {
   "cell_type": "code",
   "execution_count": 51,
   "metadata": {
    "colab": {
     "base_uri": "https://localhost:8080/"
    },
    "id": "DEWAHLSSqmoF",
    "outputId": "1fef9b4f-5128-4b5b-f865-91f9b2db2650"
   },
   "outputs": [
    {
     "name": "stdout",
     "output_type": "stream",
     "text": [
      "3.0\n",
      "69.0\n"
     ]
    }
   ],
   "source": [
    "print(dataset['Product_Category_Reference'].quantile(0.10))\n",
    "print(dataset['Product_Category_Reference'].quantile(0.90))"
   ]
  },
  {
   "cell_type": "code",
   "execution_count": 52,
   "metadata": {
    "id": "b-kLPzYGqmqd"
   },
   "outputs": [],
   "source": [
    "dataset[\"Product_Category_Reference\"] = np.where(dataset[\"Product_Category_Reference\"] < 3.0, 3.0,dataset['Product_Category_Reference'])\n",
    "dataset[\"Product_Category_Reference\"] = np.where(dataset[\"Product_Category_Reference\"] > 69.0, 69.0,dataset['Product_Category_Reference'])"
   ]
  },
  {
   "cell_type": "code",
   "execution_count": 53,
   "metadata": {
    "id": "mxsWTN5Dcc67"
   },
   "outputs": [],
   "source": [
    "#We use the numpy fuction log1p which  applies log(1+x) to all elements of the column\n",
    "# dataset[\"Size\"] = np.cbrt(dataset[\"Size\"])\n",
    "# dataset[\"Size\"] = np.sqrt(dataset[\"Size\"])\n",
    "# dataset[\"Size\"] = np.sqrt(dataset[\"Size\"])\n"
   ]
  },
  {
   "cell_type": "code",
   "execution_count": 54,
   "metadata": {
    "id": "vcGGkBIEeLSg"
   },
   "outputs": [],
   "source": [
    "#dataset[\"Cost_to_Customer(USD)\"] = np.sqrt(dataset[\"Cost_to_Customer(USD)\"])"
   ]
  },
  {
   "cell_type": "code",
   "execution_count": 55,
   "metadata": {
    "id": "elElX_TXe_Hg"
   },
   "outputs": [],
   "source": [
    "#dataset[\"Product_Category_Reference\"] = np.sqrt(dataset[\"Product_Category_Reference\"])"
   ]
  },
  {
   "cell_type": "markdown",
   "metadata": {
    "id": "SRhithTO0DIw"
   },
   "source": [
    "## Check the Relation With Target VAriable"
   ]
  },
  {
   "cell_type": "code",
   "execution_count": 56,
   "metadata": {
    "colab": {
     "base_uri": "https://localhost:8080/",
     "height": 355
    },
    "id": "ZXdMvKWMzniq",
    "outputId": "a0b75457-d3e3-4fd5-dc4b-11418c0b961d"
   },
   "outputs": [
    {
     "name": "stdout",
     "output_type": "stream",
     "text": [
      "Order_Repeat_Chance      0      1\n",
      "Gender                           \n",
      "Mr                    1769   1310\n",
      "Mrs                  38736  33185\n"
     ]
    },
    {
     "data": {
      "image/png": "[encoded data removed]",
      "text/plain": [
       "<Figure size 288x288 with 1 Axes>"
      ]
     },
     "metadata": {
      "needs_background": "light",
      "tags": []
     },
     "output_type": "display_data"
    }
   ],
   "source": [
    "print(pd.crosstab(dataset[\"Gender\"],dataset[\"Order_Repeat_Chance\"]))\n",
    "Gender = pd.crosstab(dataset[\"Gender\"],dataset[\"Order_Repeat_Chance\"])\n",
    "Gender.div(Gender.sum(1).astype(float),axis=0).plot(kind=\"bar\",stacked=True,figsize=(4,4))\n",
    "plt.xlabel(\"Gender\")\n",
    "plt.ylabel(\"Percentage\")\n",
    "plt.show()"
   ]
  },
  {
   "cell_type": "code",
   "execution_count": 57,
   "metadata": {
    "colab": {
     "base_uri": "https://localhost:8080/",
     "height": 482
    },
    "id": "WeCwazdK0c3N",
    "outputId": "0e54eb47-68a5-4c97-9907-1936a2b2806d"
   },
   "outputs": [
    {
     "name": "stdout",
     "output_type": "stream",
     "text": [
      "Order_Repeat_Chance     0     1\n",
      "Size                           \n",
      "37.000               4208  3803\n",
      "38.000               2344  2006\n",
      "39.000               4201  3811\n",
      "40.000               2939  2983\n",
      "41.000               6002  5390\n",
      "42.000               9720  7211\n",
      "43.000                584   554\n",
      "44.000               5338  4534\n",
      "45.000                110    53\n",
      "46.000               5059  4150\n"
     ]
    },
    {
     "data": {
      "image/png": "[encoded data removed]",
      "text/plain": [
       "<Figure size 2160x360 with 1 Axes>"
      ]
     },
     "metadata": {
      "needs_background": "light",
      "tags": []
     },
     "output_type": "display_data"
    }
   ],
   "source": [
    "print(pd.crosstab(dataset[\"Size\"],dataset[\"Order_Repeat_Chance\"]))\n",
    "Gender = pd.crosstab(dataset[\"Size\"],dataset[\"Order_Repeat_Chance\"])\n",
    "Gender.div(Gender.sum(1).astype(float),axis=0).plot(kind=\"bar\",stacked=True,figsize=(30,5))\n",
    "plt.xlabel(\"Size\")\n",
    "plt.ylabel(\"Percentage\")\n",
    "plt.show()"
   ]
  },
  {
   "cell_type": "code",
   "execution_count": 58,
   "metadata": {
    "colab": {
     "base_uri": "https://localhost:8080/",
     "height": 573
    },
    "id": "T477sGfM1Wde",
    "outputId": "71df05a5-256f-44b6-e93c-10282e2d684d"
   },
   "outputs": [
    {
     "name": "stdout",
     "output_type": "stream",
     "text": [
      "Order_Repeat_Chance     0     1\n",
      "Color_Code                     \n",
      "almond                  8     2\n",
      "amethyst                2     0\n",
      "ancient                79    56\n",
      "anthracite           1081   984\n",
      "antique pink            5     5\n",
      "...                   ...   ...\n",
      "striped                51    56\n",
      "terracotta              3     4\n",
      "turquoise             399   313\n",
      "white                1376  1021\n",
      "yellow                170    86\n",
      "\n",
      "[76 rows x 2 columns]\n"
     ]
    },
    {
     "data": {
      "image/png": "[encoded data removed]",
      "text/plain": [
       "<Figure size 2160x360 with 1 Axes>"
      ]
     },
     "metadata": {
      "needs_background": "light",
      "tags": []
     },
     "output_type": "display_data"
    }
   ],
   "source": [
    "print(pd.crosstab(dataset[\"Color_Code\"],dataset[\"Order_Repeat_Chance\"]))\n",
    "Gender = pd.crosstab(dataset[\"Color_Code\"],dataset[\"Order_Repeat_Chance\"])\n",
    "Gender.div(Gender.sum(1).astype(float),axis=0).plot(kind=\"bar\",stacked=True,figsize=(30,5))\n",
    "plt.xlabel(\"Color\")\n",
    "plt.ylabel(\"Percentage\")\n",
    "plt.show()"
   ]
  },
  {
   "cell_type": "code",
   "execution_count": 59,
   "metadata": {
    "id": "KNc8OzQrW3pj"
   },
   "outputs": [],
   "source": [
    "from sklearn.preprocessing import LabelEncoder\n",
    "le = LabelEncoder()"
   ]
  },
  {
   "cell_type": "code",
   "execution_count": 60,
   "metadata": {
    "id": "827IDbDGXYdu"
   },
   "outputs": [],
   "source": [
    "dataset[dataset.select_dtypes(include=['object']).columns]=dataset[dataset.select_dtypes(include=['object']).columns].apply(le.fit_transform)"
   ]
  },
  {
   "cell_type": "code",
   "execution_count": 61,
   "metadata": {
    "colab": {
     "base_uri": "https://localhost:8080/",
     "height": 224
    },
    "id": "WfYwe8kbYCAC",
    "outputId": "faa47be7-1923-4916-e357-757fcb2d266d"
   },
   "outputs": [
    {
     "data": {
      "text/html": [
       "<div>\n",
       "<style scoped>\n",
       "    .dataframe tbody tr th:only-of-type {\n",
       "        vertical-align: middle;\n",
       "    }\n",
       "\n",
       "    .dataframe tbody tr th {\n",
       "        vertical-align: top;\n",
       "    }\n",
       "\n",
       "    .dataframe thead th {\n",
       "        text-align: right;\n",
       "    }\n",
       "</style>\n",
       "<table border=\"1\" class=\"dataframe\">\n",
       "  <thead>\n",
       "    <tr style=\"text-align: right;\">\n",
       "      <th></th>\n",
       "      <th>Product_Ref_ID</th>\n",
       "      <th>Size</th>\n",
       "      <th>Color_Code</th>\n",
       "      <th>Product_Category_Reference</th>\n",
       "      <th>Cost_to_Customer(USD)</th>\n",
       "      <th>Gender</th>\n",
       "      <th>Customer_Location</th>\n",
       "      <th>Order_Repeat_Chance</th>\n",
       "      <th>order_placed_day</th>\n",
       "      <th>order_placed_month</th>\n",
       "      <th>order_placed_year</th>\n",
       "      <th>order_delivered_day</th>\n",
       "      <th>order_delivered_month</th>\n",
       "      <th>order_delivered_year</th>\n",
       "      <th>customer_j_day</th>\n",
       "      <th>customer_j_month</th>\n",
       "      <th>customer_j_year</th>\n",
       "      <th>customer_B_day</th>\n",
       "      <th>customer_B_month</th>\n",
       "      <th>customer_B_year</th>\n",
       "    </tr>\n",
       "  </thead>\n",
       "  <tbody>\n",
       "    <tr>\n",
       "      <th>0</th>\n",
       "      <td>897</td>\n",
       "      <td>42.000</td>\n",
       "      <td>46</td>\n",
       "      <td>33.000</td>\n",
       "      <td>19.900</td>\n",
       "      <td>1</td>\n",
       "      <td>5</td>\n",
       "      <td>0</td>\n",
       "      <td>10</td>\n",
       "      <td>9</td>\n",
       "      <td>2016</td>\n",
       "      <td>11</td>\n",
       "      <td>9</td>\n",
       "      <td>2016</td>\n",
       "      <td>17</td>\n",
       "      <td>2</td>\n",
       "      <td>2015</td>\n",
       "      <td>30</td>\n",
       "      <td>5</td>\n",
       "      <td>1960</td>\n",
       "    </tr>\n",
       "    <tr>\n",
       "      <th>1</th>\n",
       "      <td>1557</td>\n",
       "      <td>44.000</td>\n",
       "      <td>65</td>\n",
       "      <td>31.000</td>\n",
       "      <td>89.900</td>\n",
       "      <td>1</td>\n",
       "      <td>7</td>\n",
       "      <td>1</td>\n",
       "      <td>15</td>\n",
       "      <td>8</td>\n",
       "      <td>2016</td>\n",
       "      <td>20</td>\n",
       "      <td>8</td>\n",
       "      <td>2016</td>\n",
       "      <td>14</td>\n",
       "      <td>11</td>\n",
       "      <td>2015</td>\n",
       "      <td>23</td>\n",
       "      <td>9</td>\n",
       "      <td>1958</td>\n",
       "    </tr>\n",
       "    <tr>\n",
       "      <th>2</th>\n",
       "      <td>292</td>\n",
       "      <td>37.000</td>\n",
       "      <td>46</td>\n",
       "      <td>4.000</td>\n",
       "      <td>64.900</td>\n",
       "      <td>1</td>\n",
       "      <td>6</td>\n",
       "      <td>0</td>\n",
       "      <td>27</td>\n",
       "      <td>6</td>\n",
       "      <td>2016</td>\n",
       "      <td>2</td>\n",
       "      <td>7</td>\n",
       "      <td>2016</td>\n",
       "      <td>28</td>\n",
       "      <td>6</td>\n",
       "      <td>2016</td>\n",
       "      <td>19</td>\n",
       "      <td>9</td>\n",
       "      <td>1961</td>\n",
       "    </tr>\n",
       "    <tr>\n",
       "      <th>3</th>\n",
       "      <td>1445</td>\n",
       "      <td>46.000</td>\n",
       "      <td>46</td>\n",
       "      <td>29.000</td>\n",
       "      <td>59.900</td>\n",
       "      <td>1</td>\n",
       "      <td>7</td>\n",
       "      <td>0</td>\n",
       "      <td>21</td>\n",
       "      <td>8</td>\n",
       "      <td>2016</td>\n",
       "      <td>22</td>\n",
       "      <td>8</td>\n",
       "      <td>2016</td>\n",
       "      <td>17</td>\n",
       "      <td>2</td>\n",
       "      <td>2015</td>\n",
       "      <td>1</td>\n",
       "      <td>10</td>\n",
       "      <td>1952</td>\n",
       "    </tr>\n",
       "    <tr>\n",
       "      <th>4</th>\n",
       "      <td>1415</td>\n",
       "      <td>41.000</td>\n",
       "      <td>54</td>\n",
       "      <td>3.000</td>\n",
       "      <td>21.900</td>\n",
       "      <td>1</td>\n",
       "      <td>9</td>\n",
       "      <td>0</td>\n",
       "      <td>6</td>\n",
       "      <td>9</td>\n",
       "      <td>2016</td>\n",
       "      <td>7</td>\n",
       "      <td>9</td>\n",
       "      <td>2016</td>\n",
       "      <td>2</td>\n",
       "      <td>10</td>\n",
       "      <td>2015</td>\n",
       "      <td>30</td>\n",
       "      <td>10</td>\n",
       "      <td>1963</td>\n",
       "    </tr>\n",
       "  </tbody>\n",
       "</table>\n",
       "</div>"
      ],
      "text/plain": [
       "   Product_Ref_ID   Size  ...  customer_B_month  customer_B_year\n",
       "0             897 42.000  ...                 5             1960\n",
       "1            1557 44.000  ...                 9             1958\n",
       "2             292 37.000  ...                 9             1961\n",
       "3            1445 46.000  ...                10             1952\n",
       "4            1415 41.000  ...                10             1963\n",
       "\n",
       "[5 rows x 20 columns]"
      ]
     },
     "execution_count": 61,
     "metadata": {
      "tags": []
     },
     "output_type": "execute_result"
    }
   ],
   "source": [
    "dataset.head()"
   ]
  },
  {
   "cell_type": "code",
   "execution_count": 424,
   "metadata": {
    "colab": {
     "base_uri": "https://localhost:8080/",
     "height": 439
    },
    "id": "PGdlEozkbYW2",
    "outputId": "970c5c11-31ef-4e61-e8ba-03b3662b0ced"
   },
   "outputs": [
    {
     "data": {
      "text/html": [
       "<div>\n",
       "<style scoped>\n",
       "    .dataframe tbody tr th:only-of-type {\n",
       "        vertical-align: middle;\n",
       "    }\n",
       "\n",
       "    .dataframe tbody tr th {\n",
       "        vertical-align: top;\n",
       "    }\n",
       "\n",
       "    .dataframe thead th {\n",
       "        text-align: right;\n",
       "    }\n",
       "</style>\n",
       "<table border=\"1\" class=\"dataframe\">\n",
       "  <thead>\n",
       "    <tr style=\"text-align: right;\">\n",
       "      <th></th>\n",
       "      <th>Size</th>\n",
       "      <th>Color_Code</th>\n",
       "      <th>Product_Category_Reference</th>\n",
       "      <th>Cost_to_Customer(USD)</th>\n",
       "      <th>Gender</th>\n",
       "      <th>Customer_Location</th>\n",
       "      <th>order_placed_day</th>\n",
       "      <th>order_placed_month</th>\n",
       "      <th>order_placed_year</th>\n",
       "      <th>order_delivered_day</th>\n",
       "      <th>order_delivered_month</th>\n",
       "      <th>order_delivered_year</th>\n",
       "      <th>customer_j_day</th>\n",
       "      <th>customer_j_month</th>\n",
       "      <th>customer_j_year</th>\n",
       "      <th>customer_B_day</th>\n",
       "      <th>customer_B_month</th>\n",
       "      <th>customer_B_year</th>\n",
       "    </tr>\n",
       "  </thead>\n",
       "  <tbody>\n",
       "    <tr>\n",
       "      <th>0</th>\n",
       "      <td>42.000</td>\n",
       "      <td>46</td>\n",
       "      <td>33.000</td>\n",
       "      <td>19.900</td>\n",
       "      <td>1</td>\n",
       "      <td>5</td>\n",
       "      <td>10</td>\n",
       "      <td>9</td>\n",
       "      <td>2016</td>\n",
       "      <td>11</td>\n",
       "      <td>9</td>\n",
       "      <td>2016</td>\n",
       "      <td>17</td>\n",
       "      <td>2</td>\n",
       "      <td>2015</td>\n",
       "      <td>30</td>\n",
       "      <td>5</td>\n",
       "      <td>1960</td>\n",
       "    </tr>\n",
       "    <tr>\n",
       "      <th>1</th>\n",
       "      <td>44.000</td>\n",
       "      <td>65</td>\n",
       "      <td>31.000</td>\n",
       "      <td>89.900</td>\n",
       "      <td>1</td>\n",
       "      <td>7</td>\n",
       "      <td>15</td>\n",
       "      <td>8</td>\n",
       "      <td>2016</td>\n",
       "      <td>20</td>\n",
       "      <td>8</td>\n",
       "      <td>2016</td>\n",
       "      <td>14</td>\n",
       "      <td>11</td>\n",
       "      <td>2015</td>\n",
       "      <td>23</td>\n",
       "      <td>9</td>\n",
       "      <td>1958</td>\n",
       "    </tr>\n",
       "    <tr>\n",
       "      <th>2</th>\n",
       "      <td>37.000</td>\n",
       "      <td>46</td>\n",
       "      <td>4.000</td>\n",
       "      <td>64.900</td>\n",
       "      <td>1</td>\n",
       "      <td>6</td>\n",
       "      <td>27</td>\n",
       "      <td>6</td>\n",
       "      <td>2016</td>\n",
       "      <td>2</td>\n",
       "      <td>7</td>\n",
       "      <td>2016</td>\n",
       "      <td>28</td>\n",
       "      <td>6</td>\n",
       "      <td>2016</td>\n",
       "      <td>19</td>\n",
       "      <td>9</td>\n",
       "      <td>1961</td>\n",
       "    </tr>\n",
       "    <tr>\n",
       "      <th>3</th>\n",
       "      <td>46.000</td>\n",
       "      <td>46</td>\n",
       "      <td>29.000</td>\n",
       "      <td>59.900</td>\n",
       "      <td>1</td>\n",
       "      <td>7</td>\n",
       "      <td>21</td>\n",
       "      <td>8</td>\n",
       "      <td>2016</td>\n",
       "      <td>22</td>\n",
       "      <td>8</td>\n",
       "      <td>2016</td>\n",
       "      <td>17</td>\n",
       "      <td>2</td>\n",
       "      <td>2015</td>\n",
       "      <td>1</td>\n",
       "      <td>10</td>\n",
       "      <td>1952</td>\n",
       "    </tr>\n",
       "    <tr>\n",
       "      <th>4</th>\n",
       "      <td>41.000</td>\n",
       "      <td>54</td>\n",
       "      <td>3.000</td>\n",
       "      <td>21.900</td>\n",
       "      <td>1</td>\n",
       "      <td>9</td>\n",
       "      <td>6</td>\n",
       "      <td>9</td>\n",
       "      <td>2016</td>\n",
       "      <td>7</td>\n",
       "      <td>9</td>\n",
       "      <td>2016</td>\n",
       "      <td>2</td>\n",
       "      <td>10</td>\n",
       "      <td>2015</td>\n",
       "      <td>30</td>\n",
       "      <td>10</td>\n",
       "      <td>1963</td>\n",
       "    </tr>\n",
       "    <tr>\n",
       "      <th>...</th>\n",
       "      <td>...</td>\n",
       "      <td>...</td>\n",
       "      <td>...</td>\n",
       "      <td>...</td>\n",
       "      <td>...</td>\n",
       "      <td>...</td>\n",
       "      <td>...</td>\n",
       "      <td>...</td>\n",
       "      <td>...</td>\n",
       "      <td>...</td>\n",
       "      <td>...</td>\n",
       "      <td>...</td>\n",
       "      <td>...</td>\n",
       "      <td>...</td>\n",
       "      <td>...</td>\n",
       "      <td>...</td>\n",
       "      <td>...</td>\n",
       "      <td>...</td>\n",
       "    </tr>\n",
       "    <tr>\n",
       "      <th>74995</th>\n",
       "      <td>39.000</td>\n",
       "      <td>63</td>\n",
       "      <td>28.000</td>\n",
       "      <td>59.900</td>\n",
       "      <td>1</td>\n",
       "      <td>7</td>\n",
       "      <td>27</td>\n",
       "      <td>6</td>\n",
       "      <td>2016</td>\n",
       "      <td>28</td>\n",
       "      <td>6</td>\n",
       "      <td>2016</td>\n",
       "      <td>17</td>\n",
       "      <td>2</td>\n",
       "      <td>2015</td>\n",
       "      <td>30</td>\n",
       "      <td>3</td>\n",
       "      <td>1965</td>\n",
       "    </tr>\n",
       "    <tr>\n",
       "      <th>74996</th>\n",
       "      <td>37.000</td>\n",
       "      <td>17</td>\n",
       "      <td>64.000</td>\n",
       "      <td>90.000</td>\n",
       "      <td>1</td>\n",
       "      <td>1</td>\n",
       "      <td>5</td>\n",
       "      <td>8</td>\n",
       "      <td>2016</td>\n",
       "      <td>8</td>\n",
       "      <td>8</td>\n",
       "      <td>2016</td>\n",
       "      <td>27</td>\n",
       "      <td>10</td>\n",
       "      <td>2015</td>\n",
       "      <td>16</td>\n",
       "      <td>6</td>\n",
       "      <td>1988</td>\n",
       "    </tr>\n",
       "    <tr>\n",
       "      <th>74997</th>\n",
       "      <td>46.000</td>\n",
       "      <td>21</td>\n",
       "      <td>3.000</td>\n",
       "      <td>134.900</td>\n",
       "      <td>1</td>\n",
       "      <td>9</td>\n",
       "      <td>21</td>\n",
       "      <td>8</td>\n",
       "      <td>2016</td>\n",
       "      <td>23</td>\n",
       "      <td>8</td>\n",
       "      <td>2016</td>\n",
       "      <td>26</td>\n",
       "      <td>2</td>\n",
       "      <td>2016</td>\n",
       "      <td>6</td>\n",
       "      <td>9</td>\n",
       "      <td>1965</td>\n",
       "    </tr>\n",
       "    <tr>\n",
       "      <th>74998</th>\n",
       "      <td>42.000</td>\n",
       "      <td>53</td>\n",
       "      <td>3.000</td>\n",
       "      <td>119.900</td>\n",
       "      <td>1</td>\n",
       "      <td>6</td>\n",
       "      <td>24</td>\n",
       "      <td>6</td>\n",
       "      <td>2016</td>\n",
       "      <td>27</td>\n",
       "      <td>6</td>\n",
       "      <td>2016</td>\n",
       "      <td>25</td>\n",
       "      <td>6</td>\n",
       "      <td>2016</td>\n",
       "      <td>11</td>\n",
       "      <td>7</td>\n",
       "      <td>1970</td>\n",
       "    </tr>\n",
       "    <tr>\n",
       "      <th>74999</th>\n",
       "      <td>42.000</td>\n",
       "      <td>45</td>\n",
       "      <td>3.000</td>\n",
       "      <td>19.900</td>\n",
       "      <td>1</td>\n",
       "      <td>0</td>\n",
       "      <td>29</td>\n",
       "      <td>6</td>\n",
       "      <td>2016</td>\n",
       "      <td>15</td>\n",
       "      <td>8</td>\n",
       "      <td>2016</td>\n",
       "      <td>17</td>\n",
       "      <td>2</td>\n",
       "      <td>2015</td>\n",
       "      <td>6</td>\n",
       "      <td>2</td>\n",
       "      <td>1955</td>\n",
       "    </tr>\n",
       "  </tbody>\n",
       "</table>\n",
       "<p>75000 rows × 18 columns</p>\n",
       "</div>"
      ],
      "text/plain": [
       "        Size  Color_Code  ...  customer_B_month  customer_B_year\n",
       "0     42.000          46  ...                 5             1960\n",
       "1     44.000          65  ...                 9             1958\n",
       "2     37.000          46  ...                 9             1961\n",
       "3     46.000          46  ...                10             1952\n",
       "4     41.000          54  ...                10             1963\n",
       "...      ...         ...  ...               ...              ...\n",
       "74995 39.000          63  ...                 3             1965\n",
       "74996 37.000          17  ...                 6             1988\n",
       "74997 46.000          21  ...                 9             1965\n",
       "74998 42.000          53  ...                 7             1970\n",
       "74999 42.000          45  ...                 2             1955\n",
       "\n",
       "[75000 rows x 18 columns]"
      ]
     },
     "execution_count": 424,
     "metadata": {
      "tags": []
     },
     "output_type": "execute_result"
    }
   ],
   "source": [
    "X = dataset.drop(['Product_Ref_ID','Order_Repeat_Chance'],axis=1)\n",
    "X"
   ]
  },
  {
   "cell_type": "code",
   "execution_count": 425,
   "metadata": {
    "colab": {
     "base_uri": "https://localhost:8080/"
    },
    "id": "4nIUTIrz5e3b",
    "outputId": "ee35e75b-5040-43ae-9ebd-8d03dc77e9aa"
   },
   "outputs": [
    {
     "data": {
      "text/plain": [
       "(75000, 18)"
      ]
     },
     "execution_count": 425,
     "metadata": {
      "tags": []
     },
     "output_type": "execute_result"
    }
   ],
   "source": [
    "X.shape"
   ]
  },
  {
   "cell_type": "code",
   "execution_count": 426,
   "metadata": {
    "colab": {
     "base_uri": "https://localhost:8080/"
    },
    "id": "98JwLrKCbxjc",
    "outputId": "62ceea76-7516-4429-83b5-14619e6692ba"
   },
   "outputs": [
    {
     "data": {
      "text/plain": [
       "0        0\n",
       "1        1\n",
       "2        0\n",
       "3        0\n",
       "4        0\n",
       "        ..\n",
       "74995    1\n",
       "74996    1\n",
       "74997    1\n",
       "74998    1\n",
       "74999    0\n",
       "Name: Order_Repeat_Chance, Length: 75000, dtype: int64"
      ]
     },
     "execution_count": 426,
     "metadata": {
      "tags": []
     },
     "output_type": "execute_result"
    }
   ],
   "source": [
    "y = dataset.loc[: , \"Order_Repeat_Chance\"]\n",
    "y"
   ]
  },
  {
   "cell_type": "code",
   "execution_count": 427,
   "metadata": {
    "id": "wDc3hYW_b4Nh"
   },
   "outputs": [],
   "source": [
    "from sklearn.model_selection import train_test_split"
   ]
  },
  {
   "cell_type": "code",
   "execution_count": 429,
   "metadata": {
    "id": "i30Sj5Kvb5OZ"
   },
   "outputs": [],
   "source": [
    "X_train,X_test,y_train,y_test = train_test_split(X,y , test_size = .2 ,random_state = 30)"
   ]
  },
  {
   "cell_type": "markdown",
   "metadata": {
    "id": "zQ9Uz0tVgh2J"
   },
   "source": [
    "## Logistics Regression"
   ]
  },
  {
   "cell_type": "code",
   "execution_count": 369,
   "metadata": {
    "id": "Qo-Bl9AglOMi"
   },
   "outputs": [],
   "source": []
  },
  {
   "cell_type": "code",
   "execution_count": 430,
   "metadata": {
    "id": "edWrsnMBcVSQ"
   },
   "outputs": [],
   "source": [
    "from sklearn.linear_model import LogisticRegression\n",
    "lg = LogisticRegression()"
   ]
  },
  {
   "cell_type": "code",
   "execution_count": 431,
   "metadata": {
    "colab": {
     "base_uri": "https://localhost:8080/"
    },
    "id": "JxaZ94CpdAE8",
    "outputId": "803108e2-e5ef-49fa-e5e5-cf0e106d5ae4"
   },
   "outputs": [
    {
     "name": "stdout",
     "output_type": "stream",
     "text": [
      "(60000, 18)\n",
      "(15000, 18)\n",
      "(60000,)\n",
      "(15000,)\n"
     ]
    }
   ],
   "source": [
    "print(X_train.shape)\n",
    "print(X_test.shape)\n",
    "print(y_train.shape)\n",
    "print(y_test.shape)"
   ]
  },
  {
   "cell_type": "code",
   "execution_count": 432,
   "metadata": {
    "colab": {
     "base_uri": "https://localhost:8080/"
    },
    "id": "8rVKDHIecgh1",
    "outputId": "00cb4dc2-2002-4365-e502-d958d1463335"
   },
   "outputs": [
    {
     "name": "stderr",
     "output_type": "stream",
     "text": [
      "/usr/local/lib/python3.6/dist-packages/sklearn/linear_model/_logistic.py:940: ConvergenceWarning: lbfgs failed to converge (status=1):\n",
      "STOP: TOTAL NO. of ITERATIONS REACHED LIMIT.\n",
      "\n",
      "Increase the number of iterations (max_iter) or scale the data as shown in:\n",
      "    https://scikit-learn.org/stable/modules/preprocessing.html\n",
      "Please also refer to the documentation for alternative solver options:\n",
      "    https://scikit-learn.org/stable/modules/linear_model.html#logistic-regression\n",
      "  extra_warning_msg=_LOGISTIC_SOLVER_CONVERGENCE_MSG)\n"
     ]
    }
   ],
   "source": [
    "model = lg.fit(X_train,y_train)"
   ]
  },
  {
   "cell_type": "code",
   "execution_count": 433,
   "metadata": {
    "id": "cWIO_XJDcpqa"
   },
   "outputs": [],
   "source": [
    "pred = lg.predict(X_test)"
   ]
  },
  {
   "cell_type": "code",
   "execution_count": 434,
   "metadata": {
    "id": "CDb1hW4Ic-yJ"
   },
   "outputs": [],
   "source": [
    "\n",
    "from sklearn.metrics import confusion_matrix\n",
    "from sklearn.metrics import accuracy_score\n",
    "from sklearn.metrics import classification_report"
   ]
  },
  {
   "cell_type": "code",
   "execution_count": 435,
   "metadata": {
    "colab": {
     "base_uri": "https://localhost:8080/"
    },
    "id": "0Rc6YxhgjWlW",
    "outputId": "609e661f-a2bd-4f0d-86f3-79c7e8f278f7"
   },
   "outputs": [
    {
     "name": "stdout",
     "output_type": "stream",
     "text": [
      "Confusion Matrix:\n",
      " [[6292 4692]\n",
      " [1736 2280]]\n",
      "\n",
      "Accuracy: 57.15%\n",
      "\n",
      "              precision    recall  f1-score   support\n",
      "\n",
      "           0       0.57      0.78      0.66      8028\n",
      "           1       0.57      0.33      0.41      6972\n",
      "\n",
      "    accuracy                           0.57     15000\n",
      "   macro avg       0.57      0.56      0.54     15000\n",
      "weighted avg       0.57      0.57      0.55     15000\n",
      "\n"
     ]
    }
   ],
   "source": [
    "tab = confusion_matrix(pred,y_test)\n",
    "print(\"Confusion Matrix:\\n\",tab)\n",
    "# evaluate predictions\n",
    "acc = (accuracy_score(y_test, pred))*100\n",
    "print(\"\\nAccuracy: %.2f%%\\n\" % acc)\n",
    "print(classification_report(y_test,pred))"
   ]
  },
  {
   "cell_type": "markdown",
   "metadata": {
    "id": "-LiX8dg9gnF6"
   },
   "source": [
    "##Random Forest Regressor"
   ]
  },
  {
   "cell_type": "code",
   "execution_count": 436,
   "metadata": {
    "id": "vhcgcEPQjcH6"
   },
   "outputs": [],
   "source": [
    "from sklearn.ensemble import RandomForestClassifier\n",
    "rf = RandomForestClassifier(bootstrap=True, class_weight=None, criterion='gini',\n",
    "            max_depth=None, max_features=6, max_leaf_nodes=None,\n",
    "            min_impurity_decrease=0.0, min_impurity_split=None,\n",
    "            min_samples_leaf=1, min_samples_split=4,\n",
    "            min_weight_fraction_leaf=0.0, n_estimators=50, n_jobs=None,\n",
    "            oob_score=False, random_state=None, verbose=0,\n",
    "            warm_start=False)"
   ]
  },
  {
   "cell_type": "code",
   "execution_count": 437,
   "metadata": {
    "id": "_axtw4qhgxcG"
   },
   "outputs": [],
   "source": [
    "model2 = rf.fit(X_train,y_train)"
   ]
  },
  {
   "cell_type": "code",
   "execution_count": 438,
   "metadata": {
    "id": "wThXvCklg22F"
   },
   "outputs": [],
   "source": [
    "pred2 = model2.predict(X_test)"
   ]
  },
  {
   "cell_type": "code",
   "execution_count": 439,
   "metadata": {
    "colab": {
     "base_uri": "https://localhost:8080/"
    },
    "id": "EoDOVPHPhCoI",
    "outputId": "62e4b1e4-5bb6-4413-c902-6dd4bc63c922"
   },
   "outputs": [
    {
     "name": "stdout",
     "output_type": "stream",
     "text": [
      "Confusion matrix:\n",
      " [[5360 2554]\n",
      " [2668 4418]]\n",
      "\n",
      "Accuracy: 65.19%\n",
      "\n",
      "              precision    recall  f1-score   support\n",
      "\n",
      "           0       0.68      0.67      0.67      8028\n",
      "           1       0.62      0.63      0.63      6972\n",
      "\n",
      "    accuracy                           0.65     15000\n",
      "   macro avg       0.65      0.65      0.65     15000\n",
      "weighted avg       0.65      0.65      0.65     15000\n",
      "\n"
     ]
    }
   ],
   "source": [
    "tab2 = confusion_matrix(pred2,y_test)\n",
    "print(\"Confusion matrix:\\n\",tab2)\n",
    "# Evaluate Predictions\n",
    "acc2 = (accuracy_score(y_test,pred2))*100\n",
    "print(\"\\nAccuracy: %.2f%%\\n\" % acc2)\n",
    "print(classification_report(y_test,pred2))"
   ]
  },
  {
   "cell_type": "markdown",
   "metadata": {
    "id": "EBYF5afDtN_I"
   },
   "source": [
    "\n",
    "##Random Forest Regressor"
   ]
  },
  {
   "cell_type": "code",
   "execution_count": 440,
   "metadata": {
    "id": "WdSKBofTtN_J"
   },
   "outputs": [],
   "source": [
    "from sklearn.ensemble import RandomForestClassifier\n",
    "rf = RandomForestClassifier(n_estimators= 500,\n",
    " min_samples_split = 100,\n",
    " min_samples_leaf = 5,\n",
    " max_features = 'auto',\n",
    " max_depth = 30)"
   ]
  },
  {
   "cell_type": "code",
   "execution_count": 441,
   "metadata": {
    "id": "StkCMn8yL5dw"
   },
   "outputs": [],
   "source": [
    "# bootstrap=True, class_weight=None, criterion='gini',\n",
    "#             max_depth=None, max_features=6, max_leaf_nodes=None,\n",
    "#             min_impurity_decrease=0.0, min_impurity_split=None,\n",
    "#             min_samples_leaf=1, min_samples_split=2,\n",
    "#             min_weight_fraction_leaf=0.0, n_estimators=100, n_jobs=None,\n",
    "#             oob_score=False, random_state=None, verbose=0,\n",
    "#             warm_start=False\n",
    "\n",
    "# n_estimators= 300,\n",
    "#  min_samples_split = 100,\n",
    "#  min_samples_leaf = 5,\n",
    "#  max_features = 'auto',\n",
    "#  max_depth = 15"
   ]
  },
  {
   "cell_type": "code",
   "execution_count": 442,
   "metadata": {
    "id": "2KH59JlztN_L"
   },
   "outputs": [],
   "source": [
    "\n",
    "model2 = rf.fit(X_train,y_train)"
   ]
  },
  {
   "cell_type": "code",
   "execution_count": 443,
   "metadata": {
    "id": "hvlyfGjDtN_M"
   },
   "outputs": [],
   "source": [
    "pred2 = model2.predict(X_test)"
   ]
  },
  {
   "cell_type": "code",
   "execution_count": 444,
   "metadata": {
    "colab": {
     "base_uri": "https://localhost:8080/"
    },
    "id": "bDLGQF75tN_O",
    "outputId": "a5d69401-0b04-4db6-cecb-b90d4a217319"
   },
   "outputs": [
    {
     "name": "stdout",
     "output_type": "stream",
     "text": [
      "Confusion matrix:\n",
      " [[5038 2351]\n",
      " [2990 4621]]\n",
      "\n",
      "Accuracy: 64.39%\n",
      "\n",
      "              precision    recall  f1-score   support\n",
      "\n",
      "           0       0.68      0.63      0.65      8028\n",
      "           1       0.61      0.66      0.63      6972\n",
      "\n",
      "    accuracy                           0.64     15000\n",
      "   macro avg       0.64      0.65      0.64     15000\n",
      "weighted avg       0.65      0.64      0.64     15000\n",
      "\n"
     ]
    }
   ],
   "source": [
    "tab2 = confusion_matrix(pred2,y_test)\n",
    "print(\"Confusion matrix:\\n\",tab2)\n",
    "# Evaluate Predictions\n",
    "acc2 = (accuracy_score(y_test,pred2))*100\n",
    "print(\"\\nAccuracy: %.2f%%\\n\" % acc2)\n",
    "print(classification_report(y_test,pred2))"
   ]
  },
  {
   "cell_type": "markdown",
   "metadata": {
    "id": "ias47bIwjaPz"
   },
   "source": [
    "## Ada Boosting"
   ]
  },
  {
   "cell_type": "code",
   "execution_count": 445,
   "metadata": {
    "id": "4QOkCwZRiIrb"
   },
   "outputs": [],
   "source": [
    "from sklearn.ensemble import AdaBoostClassifier\n",
    "abc = AdaBoostClassifier(base_estimator=None,\n",
    "                              learning_rate=1.0,\n",
    "                              n_estimators=100)"
   ]
  },
  {
   "cell_type": "code",
   "execution_count": 446,
   "metadata": {
    "colab": {
     "base_uri": "https://localhost:8080/"
    },
    "id": "Q2_jGBhsjcRs",
    "outputId": "35cd17fb-387b-4c0c-a24d-33ad6190df14"
   },
   "outputs": [
    {
     "name": "stdout",
     "output_type": "stream",
     "text": [
      "Model3 Fitted Successfully\n"
     ]
    }
   ],
   "source": [
    "# lets fit the model\n",
    "model3 = abc.fit(X_train,y_train)\n",
    "print(\"Model3 Fitted Successfully\")"
   ]
  },
  {
   "cell_type": "code",
   "execution_count": 447,
   "metadata": {
    "id": "9nEXfwNajucF"
   },
   "outputs": [],
   "source": [
    "pred3 = model3.predict(X_test)"
   ]
  },
  {
   "cell_type": "code",
   "execution_count": 448,
   "metadata": {
    "colab": {
     "base_uri": "https://localhost:8080/"
    },
    "id": "CZ5jF8xRjj6l",
    "outputId": "d09a965a-d4b9-40f9-ab4a-19dee71ac0dc"
   },
   "outputs": [
    {
     "name": "stdout",
     "output_type": "stream",
     "text": [
      "Confusion matrix:\n",
      " [[4893 2581]\n",
      " [3135 4391]]\n",
      "\n",
      "Accuracy: 61.89%\n",
      "\n",
      "              precision    recall  f1-score   support\n",
      "\n",
      "           0       0.65      0.61      0.63      8028\n",
      "           1       0.58      0.63      0.61      6972\n",
      "\n",
      "    accuracy                           0.62     15000\n",
      "   macro avg       0.62      0.62      0.62     15000\n",
      "weighted avg       0.62      0.62      0.62     15000\n",
      "\n"
     ]
    }
   ],
   "source": [
    "tab3 = confusion_matrix(pred3,y_test)\n",
    "print(\"Confusion matrix:\\n\",tab3)\n",
    "# Evaluate Predictions\n",
    "acc3 = (accuracy_score(y_test,pred3))*100\n",
    "print(\"\\nAccuracy: %.2f%%\\n\" % acc3)\n",
    "print(classification_report(y_test,pred3))"
   ]
  },
  {
   "cell_type": "markdown",
   "metadata": {
    "id": "a_OCuPpFn3Om"
   },
   "source": [
    "## Model ON XGBoosting"
   ]
  },
  {
   "cell_type": "code",
   "execution_count": 449,
   "metadata": {
    "id": "7FBo2UqtntiQ"
   },
   "outputs": [],
   "source": [
    "from xgboost import XGBClassifier\n",
    "xgb = XGBClassifier(learning_rate =0.1,\n",
    " n_estimators=1000,\n",
    " max_depth=5,\n",
    " min_child_weight=1,\n",
    " gamma=0,\n",
    " subsample=0.8,\n",
    " colsample_bytree=0.8,\n",
    " objective= 'binary:logistic',\n",
    " nthread=4,\n",
    " scale_pos_weight=1,\n",
    " seed=27)"
   ]
  },
  {
   "cell_type": "code",
   "execution_count": 450,
   "metadata": {
    "id": "D23JYSBkn6ln"
   },
   "outputs": [],
   "source": [
    "model4 = xgb.fit(X_train,y_train)"
   ]
  },
  {
   "cell_type": "code",
   "execution_count": 451,
   "metadata": {
    "id": "xu9zmnujoc6n"
   },
   "outputs": [],
   "source": [
    "pred4 = model4.predict(X_test)"
   ]
  },
  {
   "cell_type": "code",
   "execution_count": 452,
   "metadata": {
    "colab": {
     "base_uri": "https://localhost:8080/"
    },
    "id": "vjlRik1bohtX",
    "outputId": "220e6bbe-5efb-43f0-9556-c1dca71dde18"
   },
   "outputs": [
    {
     "name": "stdout",
     "output_type": "stream",
     "text": [
      "Confusion matrix:\n",
      " [[5346 2430]\n",
      " [2682 4542]]\n",
      "\n",
      "Accuracy: 65.92%\n",
      "\n",
      "              precision    recall  f1-score   support\n",
      "\n",
      "           0       0.69      0.67      0.68      8028\n",
      "           1       0.63      0.65      0.64      6972\n",
      "\n",
      "    accuracy                           0.66     15000\n",
      "   macro avg       0.66      0.66      0.66     15000\n",
      "weighted avg       0.66      0.66      0.66     15000\n",
      "\n"
     ]
    }
   ],
   "source": [
    "tab4 = confusion_matrix(pred4,y_test)\n",
    "print(\"Confusion matrix:\\n\",tab4)\n",
    "# Evaluate Predictions\n",
    "acc4 = (accuracy_score(y_test,pred4))*100\n",
    "print(\"\\nAccuracy: %.2f%%\\n\" % acc4)\n",
    "print(classification_report(y_test,pred4))"
   ]
  },
  {
   "cell_type": "markdown",
   "metadata": {
    "id": "GUmYru-Zo7hR"
   },
   "source": [
    "## Model On Decision Tree"
   ]
  },
  {
   "cell_type": "code",
   "execution_count": 453,
   "metadata": {
    "id": "-VtV37NsorSw"
   },
   "outputs": [],
   "source": [
    "from sklearn.tree import DecisionTreeClassifier\n",
    "dtree = DecisionTreeClassifier(max_depth = 15)"
   ]
  },
  {
   "cell_type": "code",
   "execution_count": 454,
   "metadata": {
    "id": "FVfhf4Qho_OX"
   },
   "outputs": [],
   "source": [
    "model5 = dtree.fit(X_train,y_train)"
   ]
  },
  {
   "cell_type": "code",
   "execution_count": 455,
   "metadata": {
    "id": "O5GdNRYGpHWo"
   },
   "outputs": [],
   "source": [
    "pred5 = model5.predict(X_test)"
   ]
  },
  {
   "cell_type": "code",
   "execution_count": 456,
   "metadata": {
    "colab": {
     "base_uri": "https://localhost:8080/"
    },
    "id": "QFr9evsNpMDO",
    "outputId": "98836879-1d04-4e77-cabf-c734286a80b2"
   },
   "outputs": [
    {
     "name": "stdout",
     "output_type": "stream",
     "text": [
      "Confusion matrix:\n",
      " [[4693 2492]\n",
      " [3335 4480]]\n",
      "\n",
      "Accuracy: 61.15%\n",
      "\n",
      "              precision    recall  f1-score   support\n",
      "\n",
      "           0       0.65      0.58      0.62      8028\n",
      "           1       0.57      0.64      0.61      6972\n",
      "\n",
      "    accuracy                           0.61     15000\n",
      "   macro avg       0.61      0.61      0.61     15000\n",
      "weighted avg       0.62      0.61      0.61     15000\n",
      "\n"
     ]
    }
   ],
   "source": [
    "tab5 = confusion_matrix(pred5,y_test)\n",
    "print(\"Confusion matrix:\\n\",tab5)\n",
    "# Evaluate Predictions\n",
    "acc5 = (accuracy_score(y_test,pred5))*100\n",
    "print(\"\\nAccuracy: %.2f%%\\n\" % acc5)\n",
    "print(classification_report(y_test,pred5))"
   ]
  },
  {
   "cell_type": "markdown",
   "metadata": {
    "id": "9XmvTWLbprtM"
   },
   "source": [
    "## Model on Gradient Boosting"
   ]
  },
  {
   "cell_type": "code",
   "execution_count": 457,
   "metadata": {
    "id": "Qc7ucnV5pUam"
   },
   "outputs": [],
   "source": [
    "from sklearn.ensemble import GradientBoostingClassifier\n",
    "gbc = GradientBoostingClassifier(learning_rate=0.1, n_estimators=60,max_depth=9,max_features='sqrt', subsample=0.8, random_state=10)"
   ]
  },
  {
   "cell_type": "code",
   "execution_count": 458,
   "metadata": {
    "id": "8M9JvDZLpvgW"
   },
   "outputs": [],
   "source": [
    "model6 = gbc.fit(X_train,y_train)"
   ]
  },
  {
   "cell_type": "code",
   "execution_count": 459,
   "metadata": {
    "id": "APi51Nk9p3pE"
   },
   "outputs": [],
   "source": [
    "pred6 = model6.predict(X_test)"
   ]
  },
  {
   "cell_type": "code",
   "execution_count": 460,
   "metadata": {
    "colab": {
     "base_uri": "https://localhost:8080/"
    },
    "id": "x0rkVdanp79b",
    "outputId": "1244878f-b3f0-46e5-9053-6df66a6d9bfd"
   },
   "outputs": [
    {
     "name": "stdout",
     "output_type": "stream",
     "text": [
      "Confusion matrix:\n",
      " [[5157 2376]\n",
      " [2871 4596]]\n",
      "\n",
      "Accuracy: 65.02%\n",
      "\n",
      "              precision    recall  f1-score   support\n",
      "\n",
      "           0       0.68      0.64      0.66      8028\n",
      "           1       0.62      0.66      0.64      6972\n",
      "\n",
      "    accuracy                           0.65     15000\n",
      "   macro avg       0.65      0.65      0.65     15000\n",
      "weighted avg       0.65      0.65      0.65     15000\n",
      "\n"
     ]
    }
   ],
   "source": [
    "tab6 = confusion_matrix(pred6,y_test)\n",
    "print(\"Confusion matrix:\\n\",tab6)\n",
    "# Evaluate Predictions\n",
    "acc6 = (accuracy_score(y_test,pred6))*100\n",
    "print(\"\\nAccuracy: %.2f%%\\n\" % acc6)\n",
    "print(classification_report(y_test,pred6))"
   ]
  },
  {
   "cell_type": "markdown",
   "metadata": {
    "id": "o4Xt-JOOqQwr"
   },
   "source": [
    "## Model on KNN"
   ]
  },
  {
   "cell_type": "code",
   "execution_count": 461,
   "metadata": {
    "id": "VEeSP60nqFHK"
   },
   "outputs": [],
   "source": [
    "from sklearn.neighbors import KNeighborsClassifier\n",
    "knn = KNeighborsClassifier(n_neighbors=35)"
   ]
  },
  {
   "cell_type": "code",
   "execution_count": 462,
   "metadata": {
    "id": "4rwCfg96qTzB"
   },
   "outputs": [],
   "source": [
    "model7 = knn.fit(X_train,y_train)"
   ]
  },
  {
   "cell_type": "code",
   "execution_count": 463,
   "metadata": {
    "id": "wFUciecKqjvs"
   },
   "outputs": [],
   "source": [
    "pred7 = model7.predict(X_test)"
   ]
  },
  {
   "cell_type": "code",
   "execution_count": 464,
   "metadata": {
    "colab": {
     "base_uri": "https://localhost:8080/"
    },
    "id": "IGbWzKSUqpNW",
    "outputId": "819a9b5d-fc32-469e-f70b-910bbf0e0c3d"
   },
   "outputs": [
    {
     "name": "stdout",
     "output_type": "stream",
     "text": [
      "Confusion matrix:\n",
      " [[5155 3282]\n",
      " [2873 3690]]\n",
      "\n",
      "Accuracy: 58.97%\n",
      "\n",
      "              precision    recall  f1-score   support\n",
      "\n",
      "           0       0.61      0.64      0.63      8028\n",
      "           1       0.56      0.53      0.55      6972\n",
      "\n",
      "    accuracy                           0.59     15000\n",
      "   macro avg       0.59      0.59      0.59     15000\n",
      "weighted avg       0.59      0.59      0.59     15000\n",
      "\n"
     ]
    }
   ],
   "source": [
    "tab7 = confusion_matrix(pred7,y_test)\n",
    "print(\"Confusion matrix:\\n\",tab7)\n",
    "# Evaluate Predictions\n",
    "acc7 = (accuracy_score(y_test,pred7))*100\n",
    "print(\"\\nAccuracy: %.2f%%\\n\" % acc7)\n",
    "print(classification_report(y_test,pred7))"
   ]
  },
  {
   "cell_type": "code",
   "execution_count": 465,
   "metadata": {
    "colab": {
     "base_uri": "https://localhost:8080/",
     "height": 266
    },
    "id": "opaw8-B8qyAN",
    "outputId": "183b0d8a-1c42-4acf-f0da-e79d74cb8ad4"
   },
   "outputs": [
    {
     "data": {
      "text/html": [
       "<div>\n",
       "<style scoped>\n",
       "    .dataframe tbody tr th:only-of-type {\n",
       "        vertical-align: middle;\n",
       "    }\n",
       "\n",
       "    .dataframe tbody tr th {\n",
       "        vertical-align: top;\n",
       "    }\n",
       "\n",
       "    .dataframe thead th {\n",
       "        text-align: right;\n",
       "    }\n",
       "</style>\n",
       "<table border=\"1\" class=\"dataframe\">\n",
       "  <thead>\n",
       "    <tr style=\"text-align: right;\">\n",
       "      <th></th>\n",
       "      <th>Techniques</th>\n",
       "      <th>Accuracy</th>\n",
       "    </tr>\n",
       "  </thead>\n",
       "  <tbody>\n",
       "    <tr>\n",
       "      <th>3</th>\n",
       "      <td>XGBoosting</td>\n",
       "      <td>65.920</td>\n",
       "    </tr>\n",
       "    <tr>\n",
       "      <th>5</th>\n",
       "      <td>Gradient Boosting</td>\n",
       "      <td>65.020</td>\n",
       "    </tr>\n",
       "    <tr>\n",
       "      <th>1</th>\n",
       "      <td>RandForest</td>\n",
       "      <td>64.393</td>\n",
       "    </tr>\n",
       "    <tr>\n",
       "      <th>2</th>\n",
       "      <td>AdaBoosting</td>\n",
       "      <td>61.893</td>\n",
       "    </tr>\n",
       "    <tr>\n",
       "      <th>4</th>\n",
       "      <td>Decision tree</td>\n",
       "      <td>61.153</td>\n",
       "    </tr>\n",
       "    <tr>\n",
       "      <th>6</th>\n",
       "      <td>KNN</td>\n",
       "      <td>58.967</td>\n",
       "    </tr>\n",
       "    <tr>\n",
       "      <th>0</th>\n",
       "      <td>Logistic Regression</td>\n",
       "      <td>57.147</td>\n",
       "    </tr>\n",
       "  </tbody>\n",
       "</table>\n",
       "</div>"
      ],
      "text/plain": [
       "            Techniques  Accuracy\n",
       "3           XGBoosting    65.920\n",
       "5    Gradient Boosting    65.020\n",
       "1           RandForest    64.393\n",
       "2          AdaBoosting    61.893\n",
       "4        Decision tree    61.153\n",
       "6                  KNN    58.967\n",
       "0  Logistic Regression    57.147"
      ]
     },
     "execution_count": 465,
     "metadata": {
      "tags": []
     },
     "output_type": "execute_result"
    }
   ],
   "source": [
    "# all accuracy dataframe\n",
    "list1 = ['Logistic Regression','RandForest','AdaBoosting','XGBoosting','Decision tree','Gradient Boosting','KNN']\n",
    "list2= [acc,acc2,acc3,acc4,acc5,acc6,acc7]\n",
    "accu = pd.DataFrame({\"Techniques\":list1,\"Accuracy\":list2})\n",
    "accu.sort_values(\"Accuracy\",ascending = False)"
   ]
  },
  {
   "cell_type": "code",
   "execution_count": 465,
   "metadata": {
    "id": "NhDkU06nuIXf"
   },
   "outputs": [],
   "source": []
  },
  {
   "cell_type": "markdown",
   "metadata": {
    "id": "YnvJPBLD6Khg"
   },
   "source": [
    "## Lets Work With Test Data"
   ]
  },
  {
   "cell_type": "code",
   "execution_count": 104,
   "metadata": {
    "colab": {
     "base_uri": "https://localhost:8080/",
     "height": 241
    },
    "id": "ymm0mxjq6JqJ",
    "outputId": "11cc76f3-7eec-4025-aa7d-8843b062f4a7"
   },
   "outputs": [
    {
     "data": {
      "text/html": [
       "<div>\n",
       "<style scoped>\n",
       "    .dataframe tbody tr th:only-of-type {\n",
       "        vertical-align: middle;\n",
       "    }\n",
       "\n",
       "    .dataframe tbody tr th {\n",
       "        vertical-align: top;\n",
       "    }\n",
       "\n",
       "    .dataframe thead th {\n",
       "        text-align: right;\n",
       "    }\n",
       "</style>\n",
       "<table border=\"1\" class=\"dataframe\">\n",
       "  <thead>\n",
       "    <tr style=\"text-align: right;\">\n",
       "      <th></th>\n",
       "      <th>Order_Ref_Number</th>\n",
       "      <th>Order_Placed_AT</th>\n",
       "      <th>Order_Delivered_Date</th>\n",
       "      <th>Product_Ref_ID</th>\n",
       "      <th>Size</th>\n",
       "      <th>Color_Code</th>\n",
       "      <th>Product_Category_Reference</th>\n",
       "      <th>Cost_to_Customer(USD)</th>\n",
       "      <th>Customer_ID</th>\n",
       "      <th>Gender</th>\n",
       "      <th>Customer_BirthDate</th>\n",
       "      <th>Customer_Location</th>\n",
       "      <th>Customer_Joining_Date</th>\n",
       "    </tr>\n",
       "  </thead>\n",
       "  <tbody>\n",
       "    <tr>\n",
       "      <th>0</th>\n",
       "      <td>75722</td>\n",
       "      <td>2016-08-20</td>\n",
       "      <td>2016-08-23</td>\n",
       "      <td>1745</td>\n",
       "      <td>13</td>\n",
       "      <td>blue</td>\n",
       "      <td>64</td>\n",
       "      <td>75.000</td>\n",
       "      <td>43916</td>\n",
       "      <td>Mrs</td>\n",
       "      <td>1975-01-31</td>\n",
       "      <td>Bavaria</td>\n",
       "      <td>2016-08-21</td>\n",
       "    </tr>\n",
       "    <tr>\n",
       "      <th>1</th>\n",
       "      <td>80185</td>\n",
       "      <td>2016-08-24</td>\n",
       "      <td>2016-08-28</td>\n",
       "      <td>1806</td>\n",
       "      <td>unsized</td>\n",
       "      <td>black</td>\n",
       "      <td>110</td>\n",
       "      <td>16.900</td>\n",
       "      <td>44684</td>\n",
       "      <td>Mrs</td>\n",
       "      <td>1969-12-10</td>\n",
       "      <td>Bavaria</td>\n",
       "      <td>2015-02-17</td>\n",
       "    </tr>\n",
       "    <tr>\n",
       "      <th>2</th>\n",
       "      <td>19865</td>\n",
       "      <td>2016-06-30</td>\n",
       "      <td>2016-08-02</td>\n",
       "      <td>22</td>\n",
       "      <td>l</td>\n",
       "      <td>green</td>\n",
       "      <td>14</td>\n",
       "      <td>19.900</td>\n",
       "      <td>34106</td>\n",
       "      <td>Mrs</td>\n",
       "      <td>1968-01-18</td>\n",
       "      <td>Thuringia</td>\n",
       "      <td>2015-02-17</td>\n",
       "    </tr>\n",
       "    <tr>\n",
       "      <th>3</th>\n",
       "      <td>76700</td>\n",
       "      <td>2016-08-21</td>\n",
       "      <td>2016-08-24</td>\n",
       "      <td>1683</td>\n",
       "      <td>l</td>\n",
       "      <td>blue</td>\n",
       "      <td>97</td>\n",
       "      <td>39.900</td>\n",
       "      <td>34160</td>\n",
       "      <td>Mrs</td>\n",
       "      <td>1961-03-31</td>\n",
       "      <td>Hesse</td>\n",
       "      <td>2016-03-03</td>\n",
       "    </tr>\n",
       "    <tr>\n",
       "      <th>4</th>\n",
       "      <td>92992</td>\n",
       "      <td>2016-09-04</td>\n",
       "      <td>2016-09-06</td>\n",
       "      <td>1500</td>\n",
       "      <td>l</td>\n",
       "      <td>petrol</td>\n",
       "      <td>11</td>\n",
       "      <td>69.900</td>\n",
       "      <td>11929</td>\n",
       "      <td>Mrs</td>\n",
       "      <td>1962-06-02</td>\n",
       "      <td>Baden-Wuerttemberg</td>\n",
       "      <td>2016-04-23</td>\n",
       "    </tr>\n",
       "  </tbody>\n",
       "</table>\n",
       "</div>"
      ],
      "text/plain": [
       "   Order_Ref_Number Order_Placed_AT  ...   Customer_Location  Customer_Joining_Date\n",
       "0             75722      2016-08-20  ...             Bavaria             2016-08-21\n",
       "1             80185      2016-08-24  ...             Bavaria             2015-02-17\n",
       "2             19865      2016-06-30  ...           Thuringia             2015-02-17\n",
       "3             76700      2016-08-21  ...               Hesse             2016-03-03\n",
       "4             92992      2016-09-04  ...  Baden-Wuerttemberg             2016-04-23\n",
       "\n",
       "[5 rows x 13 columns]"
      ]
     },
     "execution_count": 104,
     "metadata": {
      "tags": []
     },
     "output_type": "execute_result"
    }
   ],
   "source": [
    "testdata = pd.read_csv(r\"/content/drive/MyDrive/Hackthon Dataset/test_fashion.csv\")\n",
    "testdata.head()"
   ]
  },
  {
   "cell_type": "code",
   "execution_count": 105,
   "metadata": {
    "colab": {
     "base_uri": "https://localhost:8080/"
    },
    "id": "V1gvkqfg6n5J",
    "outputId": "7eb3c041-7f6e-4c04-f0ad-addfedda7973"
   },
   "outputs": [
    {
     "data": {
      "text/plain": [
       "Order_Ref_Number                 0\n",
       "Order_Placed_AT                  0\n",
       "Order_Delivered_Date          2297\n",
       "Product_Ref_ID                   0\n",
       "Size                             0\n",
       "Color_Code                       0\n",
       "Product_Category_Reference       0\n",
       "Cost_to_Customer(USD)            0\n",
       "Customer_ID                      0\n",
       "Gender                           0\n",
       "Customer_BirthDate            2170\n",
       "Customer_Location                0\n",
       "Customer_Joining_Date            0\n",
       "dtype: int64"
      ]
     },
     "execution_count": 105,
     "metadata": {
      "tags": []
     },
     "output_type": "execute_result"
    }
   ],
   "source": [
    "testdata.isnull().sum()"
   ]
  },
  {
   "cell_type": "code",
   "execution_count": 106,
   "metadata": {
    "id": "_V6GdKFw640U"
   },
   "outputs": [],
   "source": [
    "testdata = testdata.drop([\"Customer_ID\"],axis=1)"
   ]
  },
  {
   "cell_type": "code",
   "execution_count": 107,
   "metadata": {
    "id": "BcSAXqtu7cCO"
   },
   "outputs": [],
   "source": [
    "testdata = testdata.replace('?' , np.nan)"
   ]
  },
  {
   "cell_type": "code",
   "execution_count": 108,
   "metadata": {
    "colab": {
     "base_uri": "https://localhost:8080/"
    },
    "id": "UzXIMf8m7suS",
    "outputId": "e1d7e1e6-64c5-49e3-a3bd-e37a39e97081"
   },
   "outputs": [
    {
     "data": {
      "text/plain": [
       "Order_Ref_Number                 0\n",
       "Order_Placed_AT                  0\n",
       "Order_Delivered_Date          2297\n",
       "Product_Ref_ID                   0\n",
       "Size                             0\n",
       "Color_Code                      13\n",
       "Product_Category_Reference       0\n",
       "Cost_to_Customer(USD)            0\n",
       "Gender                           0\n",
       "Customer_BirthDate            2170\n",
       "Customer_Location                0\n",
       "Customer_Joining_Date            0\n",
       "dtype: int64"
      ]
     },
     "execution_count": 108,
     "metadata": {
      "tags": []
     },
     "output_type": "execute_result"
    }
   ],
   "source": [
    "testdata.isnull().sum()"
   ]
  },
  {
   "cell_type": "code",
   "execution_count": 109,
   "metadata": {
    "id": "rxmSzl3F704y"
   },
   "outputs": [],
   "source": [
    "testdata.Order_Placed_AT = pd.to_datetime(testdata.Order_Placed_AT)\n",
    "\n",
    "testdata['order_placed_day'] = testdata['Order_Placed_AT'].dt.day\n",
    "testdata['order_placed_month'] = testdata['Order_Placed_AT'].dt.month\n",
    "testdata['order_placed_year'] = testdata['Order_Placed_AT'].dt.year"
   ]
  },
  {
   "cell_type": "code",
   "execution_count": 110,
   "metadata": {
    "id": "jXJjP-dG8JTa"
   },
   "outputs": [],
   "source": [
    "testdata.Order_Delivered_Date = pd.to_datetime(testdata.Order_Delivered_Date)\n",
    "\n",
    "testdata['order_delivered_day'] = testdata['Order_Delivered_Date'].dt.day\n",
    "testdata['order_delivered_month'] = testdata['Order_Delivered_Date'].dt.month\n",
    "testdata['order_delivered_year'] = testdata['Order_Delivered_Date'].dt.year"
   ]
  },
  {
   "cell_type": "code",
   "execution_count": 111,
   "metadata": {
    "id": "1z-0L0doVXgP"
   },
   "outputs": [],
   "source": [
    "testdata.Customer_Joining_Date = pd.to_datetime(testdata.Customer_Joining_Date)\n",
    "\n",
    "testdata['customer_j_day'] = testdata['Customer_Joining_Date'].dt.day\n",
    "testdata['customer_j_month'] = testdata['Customer_Joining_Date'].dt.month\n",
    "testdata['customer_j_year'] = testdata['Customer_Joining_Date'].dt.year"
   ]
  },
  {
   "cell_type": "code",
   "execution_count": 112,
   "metadata": {
    "id": "9i3xNj7cujsr"
   },
   "outputs": [],
   "source": [
    "testdata.Customer_BirthDate = pd.to_datetime(testdata.Customer_BirthDate)\n",
    "\n",
    "testdata['customer_B_day'] = testdata['Customer_BirthDate'].dt.day\n",
    "testdata['customer_B_month'] = testdata['Customer_BirthDate'].dt.month\n",
    "testdata['customer_B_year'] = testdata['Customer_BirthDate'].dt.year"
   ]
  },
  {
   "cell_type": "code",
   "execution_count": 113,
   "metadata": {
    "id": "F6SBBYCXVXlR"
   },
   "outputs": [],
   "source": [
    "testdata = testdata.drop([\"Order_Placed_AT\",\"Order_Delivered_Date\",\"Customer_BirthDate\",\"Customer_Joining_Date\"],axis=1)"
   ]
  },
  {
   "cell_type": "code",
   "execution_count": 114,
   "metadata": {
    "colab": {
     "base_uri": "https://localhost:8080/",
     "height": 241
    },
    "id": "qfX3o0o189kO",
    "outputId": "adaa8b99-776b-4fdf-b634-9e291442a340"
   },
   "outputs": [
    {
     "data": {
      "text/html": [
       "<div>\n",
       "<style scoped>\n",
       "    .dataframe tbody tr th:only-of-type {\n",
       "        vertical-align: middle;\n",
       "    }\n",
       "\n",
       "    .dataframe tbody tr th {\n",
       "        vertical-align: top;\n",
       "    }\n",
       "\n",
       "    .dataframe thead th {\n",
       "        text-align: right;\n",
       "    }\n",
       "</style>\n",
       "<table border=\"1\" class=\"dataframe\">\n",
       "  <thead>\n",
       "    <tr style=\"text-align: right;\">\n",
       "      <th></th>\n",
       "      <th>Order_Ref_Number</th>\n",
       "      <th>Product_Ref_ID</th>\n",
       "      <th>Size</th>\n",
       "      <th>Color_Code</th>\n",
       "      <th>Product_Category_Reference</th>\n",
       "      <th>Cost_to_Customer(USD)</th>\n",
       "      <th>Gender</th>\n",
       "      <th>Customer_Location</th>\n",
       "      <th>order_placed_day</th>\n",
       "      <th>order_placed_month</th>\n",
       "      <th>order_placed_year</th>\n",
       "      <th>order_delivered_day</th>\n",
       "      <th>order_delivered_month</th>\n",
       "      <th>order_delivered_year</th>\n",
       "      <th>customer_j_day</th>\n",
       "      <th>customer_j_month</th>\n",
       "      <th>customer_j_year</th>\n",
       "      <th>customer_B_day</th>\n",
       "      <th>customer_B_month</th>\n",
       "      <th>customer_B_year</th>\n",
       "    </tr>\n",
       "  </thead>\n",
       "  <tbody>\n",
       "    <tr>\n",
       "      <th>0</th>\n",
       "      <td>75722</td>\n",
       "      <td>1745</td>\n",
       "      <td>13</td>\n",
       "      <td>blue</td>\n",
       "      <td>64</td>\n",
       "      <td>75.000</td>\n",
       "      <td>Mrs</td>\n",
       "      <td>Bavaria</td>\n",
       "      <td>20</td>\n",
       "      <td>8</td>\n",
       "      <td>2016</td>\n",
       "      <td>23.000</td>\n",
       "      <td>8.000</td>\n",
       "      <td>2016.000</td>\n",
       "      <td>21</td>\n",
       "      <td>8</td>\n",
       "      <td>2016</td>\n",
       "      <td>31.000</td>\n",
       "      <td>1.000</td>\n",
       "      <td>1975.000</td>\n",
       "    </tr>\n",
       "    <tr>\n",
       "      <th>1</th>\n",
       "      <td>80185</td>\n",
       "      <td>1806</td>\n",
       "      <td>unsized</td>\n",
       "      <td>black</td>\n",
       "      <td>110</td>\n",
       "      <td>16.900</td>\n",
       "      <td>Mrs</td>\n",
       "      <td>Bavaria</td>\n",
       "      <td>24</td>\n",
       "      <td>8</td>\n",
       "      <td>2016</td>\n",
       "      <td>28.000</td>\n",
       "      <td>8.000</td>\n",
       "      <td>2016.000</td>\n",
       "      <td>17</td>\n",
       "      <td>2</td>\n",
       "      <td>2015</td>\n",
       "      <td>10.000</td>\n",
       "      <td>12.000</td>\n",
       "      <td>1969.000</td>\n",
       "    </tr>\n",
       "    <tr>\n",
       "      <th>2</th>\n",
       "      <td>19865</td>\n",
       "      <td>22</td>\n",
       "      <td>l</td>\n",
       "      <td>green</td>\n",
       "      <td>14</td>\n",
       "      <td>19.900</td>\n",
       "      <td>Mrs</td>\n",
       "      <td>Thuringia</td>\n",
       "      <td>30</td>\n",
       "      <td>6</td>\n",
       "      <td>2016</td>\n",
       "      <td>2.000</td>\n",
       "      <td>8.000</td>\n",
       "      <td>2016.000</td>\n",
       "      <td>17</td>\n",
       "      <td>2</td>\n",
       "      <td>2015</td>\n",
       "      <td>18.000</td>\n",
       "      <td>1.000</td>\n",
       "      <td>1968.000</td>\n",
       "    </tr>\n",
       "    <tr>\n",
       "      <th>3</th>\n",
       "      <td>76700</td>\n",
       "      <td>1683</td>\n",
       "      <td>l</td>\n",
       "      <td>blue</td>\n",
       "      <td>97</td>\n",
       "      <td>39.900</td>\n",
       "      <td>Mrs</td>\n",
       "      <td>Hesse</td>\n",
       "      <td>21</td>\n",
       "      <td>8</td>\n",
       "      <td>2016</td>\n",
       "      <td>24.000</td>\n",
       "      <td>8.000</td>\n",
       "      <td>2016.000</td>\n",
       "      <td>3</td>\n",
       "      <td>3</td>\n",
       "      <td>2016</td>\n",
       "      <td>31.000</td>\n",
       "      <td>3.000</td>\n",
       "      <td>1961.000</td>\n",
       "    </tr>\n",
       "    <tr>\n",
       "      <th>4</th>\n",
       "      <td>92992</td>\n",
       "      <td>1500</td>\n",
       "      <td>l</td>\n",
       "      <td>petrol</td>\n",
       "      <td>11</td>\n",
       "      <td>69.900</td>\n",
       "      <td>Mrs</td>\n",
       "      <td>Baden-Wuerttemberg</td>\n",
       "      <td>4</td>\n",
       "      <td>9</td>\n",
       "      <td>2016</td>\n",
       "      <td>6.000</td>\n",
       "      <td>9.000</td>\n",
       "      <td>2016.000</td>\n",
       "      <td>23</td>\n",
       "      <td>4</td>\n",
       "      <td>2016</td>\n",
       "      <td>2.000</td>\n",
       "      <td>6.000</td>\n",
       "      <td>1962.000</td>\n",
       "    </tr>\n",
       "  </tbody>\n",
       "</table>\n",
       "</div>"
      ],
      "text/plain": [
       "   Order_Ref_Number  Product_Ref_ID  ... customer_B_month customer_B_year\n",
       "0             75722            1745  ...            1.000        1975.000\n",
       "1             80185            1806  ...           12.000        1969.000\n",
       "2             19865              22  ...            1.000        1968.000\n",
       "3             76700            1683  ...            3.000        1961.000\n",
       "4             92992            1500  ...            6.000        1962.000\n",
       "\n",
       "[5 rows x 20 columns]"
      ]
     },
     "execution_count": 114,
     "metadata": {
      "tags": []
     },
     "output_type": "execute_result"
    }
   ],
   "source": [
    "testdata.head()"
   ]
  },
  {
   "cell_type": "code",
   "execution_count": 115,
   "metadata": {
    "colab": {
     "base_uri": "https://localhost:8080/"
    },
    "id": "2P5jLqndv-tY",
    "outputId": "32359020-f211-4984-ee71-c407f0b0de7d"
   },
   "outputs": [
    {
     "data": {
      "text/plain": [
       "Order_Ref_Number                 0\n",
       "Product_Ref_ID                   0\n",
       "Size                             0\n",
       "Color_Code                      13\n",
       "Product_Category_Reference       0\n",
       "Cost_to_Customer(USD)            0\n",
       "Gender                           0\n",
       "Customer_Location                0\n",
       "order_placed_day                 0\n",
       "order_placed_month               0\n",
       "order_placed_year                0\n",
       "order_delivered_day           2297\n",
       "order_delivered_month         2297\n",
       "order_delivered_year          2297\n",
       "customer_j_day                   0\n",
       "customer_j_month                 0\n",
       "customer_j_year                  0\n",
       "customer_B_day                2170\n",
       "customer_B_month              2170\n",
       "customer_B_year               2170\n",
       "dtype: int64"
      ]
     },
     "execution_count": 115,
     "metadata": {
      "tags": []
     },
     "output_type": "execute_result"
    }
   ],
   "source": [
    "testdata.isnull().sum()"
   ]
  },
  {
   "cell_type": "code",
   "execution_count": 116,
   "metadata": {
    "id": "eUOutd409fFx"
   },
   "outputs": [],
   "source": [
    "testdata.Color_Code = testdata.Color_Code.fillna(\"black\")"
   ]
  },
  {
   "cell_type": "code",
   "execution_count": 117,
   "metadata": {
    "id": "Oo60RCOM9fF0"
   },
   "outputs": [],
   "source": [
    "testdata.order_delivered_day = testdata.order_delivered_day.fillna(testdata.order_delivered_day.median())\n",
    "testdata.order_delivered_month = testdata.order_delivered_month.fillna(testdata.order_delivered_month.median())\n",
    "testdata.order_delivered_year = testdata.order_delivered_year.fillna(testdata.order_delivered_year.median())"
   ]
  },
  {
   "cell_type": "code",
   "execution_count": 118,
   "metadata": {
    "id": "GyjxmeL2vwgO"
   },
   "outputs": [],
   "source": [
    "testdata.customer_B_day = testdata.customer_B_day.fillna(testdata.customer_B_day.median())\n",
    "testdata.customer_B_month = testdata.customer_B_month.fillna(testdata.customer_B_month.median())\n",
    "testdata.customer_B_year = testdata.customer_B_year.fillna(testdata.customer_B_year.median())"
   ]
  },
  {
   "cell_type": "code",
   "execution_count": 119,
   "metadata": {
    "id": "AoyENtZ-96R9"
   },
   "outputs": [],
   "source": [
    "testdata.Gender=testdata.Gender.replace('Family','Mrs')\n",
    "testdata.Gender = testdata.Gender.replace('Company','Mr')\n",
    "testdata.Gender = testdata.Gender.replace('not reported','Mr')"
   ]
  },
  {
   "cell_type": "code",
   "execution_count": 120,
   "metadata": {
    "colab": {
     "base_uri": "https://localhost:8080/"
    },
    "id": "Nqkv2_oc8JXS",
    "outputId": "8bf92bf9-45b9-4084-e010-0efb8fbe03e8"
   },
   "outputs": [
    {
     "data": {
      "text/plain": [
       "Mrs    23922\n",
       "Mr      1078\n",
       "Name: Gender, dtype: int64"
      ]
     },
     "execution_count": 120,
     "metadata": {
      "tags": []
     },
     "output_type": "execute_result"
    }
   ],
   "source": [
    "testdata.Gender.value_counts()"
   ]
  },
  {
   "cell_type": "code",
   "execution_count": 121,
   "metadata": {
    "colab": {
     "base_uri": "https://localhost:8080/"
    },
    "id": "oIihBRvvXr7A",
    "outputId": "1dc8399c-62df-4f3d-9e4d-70cc1da19135"
   },
   "outputs": [
    {
     "data": {
      "text/plain": [
       "2016.000    24726\n",
       "1994.000      272\n",
       "2017.000        2\n",
       "Name: order_delivered_year, dtype: int64"
      ]
     },
     "execution_count": 121,
     "metadata": {
      "tags": []
     },
     "output_type": "execute_result"
    }
   ],
   "source": [
    "testdata.order_delivered_year.value_counts()"
   ]
  },
  {
   "cell_type": "code",
   "execution_count": 122,
   "metadata": {
    "id": "Lsx86pZvXcN9"
   },
   "outputs": [],
   "source": [
    "testdata.order_delivered_year=testdata.order_delivered_year.replace(1994,2016)\n",
    "testdata.order_delivered_year=testdata.order_delivered_year.replace(2017,2016)"
   ]
  },
  {
   "cell_type": "code",
   "execution_count": 123,
   "metadata": {
    "id": "eRTDpUa7XcN7"
   },
   "outputs": [],
   "source": [
    "testdata[\"Cost_to_Customer(USD)\"] =testdata[\"Cost_to_Customer(USD)\"].astype('int')\n",
    "testdata.order_delivered_day = testdata.order_delivered_day.astype('int')\n",
    "testdata.order_delivered_month = testdata.order_delivered_month.astype('int')\n",
    "testdata.order_delivered_year = testdata.order_delivered_year.astype('int')"
   ]
  },
  {
   "cell_type": "markdown",
   "metadata": {
    "id": "qQGMnwdf-YL6"
   },
   "source": [
    "## Change The Columns level for Size "
   ]
  },
  {
   "cell_type": "code",
   "execution_count": 124,
   "metadata": {
    "id": "gRi6ZekE-YL8"
   },
   "outputs": [],
   "source": [
    "testdata.Size = testdata.Size.str.replace(\"+\",\"\")"
   ]
  },
  {
   "cell_type": "code",
   "execution_count": 125,
   "metadata": {
    "id": "yDLDyo1k-YL9"
   },
   "outputs": [],
   "source": [
    "testdata.Size = testdata.Size.replace({\"xs\":38})\n",
    "testdata.Size = testdata.Size.replace({\"s\":39})\n",
    "testdata.Size = testdata.Size.replace({\"m\":41})\n",
    "testdata.Size = testdata.Size.replace({\"l\":42})\n",
    "testdata.Size = testdata.Size.replace({\"xl\":44})\n",
    "testdata.Size = testdata.Size.replace({\"xxl\":46})\n",
    "testdata.Size = testdata.Size.replace({\"xxxl\":48})\n",
    "testdata.Size = testdata.Size.replace({\"unsized\":42})"
   ]
  },
  {
   "cell_type": "code",
   "execution_count": 126,
   "metadata": {
    "id": "es9VcdaU-YL9"
   },
   "outputs": [],
   "source": [
    "testdata.Size = testdata.Size.astype(\"int\")"
   ]
  },
  {
   "cell_type": "code",
   "execution_count": 127,
   "metadata": {
    "colab": {
     "base_uri": "https://localhost:8080/"
    },
    "id": "PQiDMRff-zcc",
    "outputId": "e15a04ca-a834-4e23-8ef0-70108c3d7845"
   },
   "outputs": [
    {
     "data": {
      "text/plain": [
       "42      5731\n",
       "41      3643\n",
       "44      3322\n",
       "39      2684\n",
       "46      2569\n",
       "        ... \n",
       "90         2\n",
       "84         1\n",
       "49         1\n",
       "3432       1\n",
       "80         1\n",
       "Name: Size, Length: 64, dtype: int64"
      ]
     },
     "execution_count": 127,
     "metadata": {
      "tags": []
     },
     "output_type": "execute_result"
    }
   ],
   "source": [
    "testdata.Size.value_counts()"
   ]
  },
  {
   "cell_type": "code",
   "execution_count": 128,
   "metadata": {
    "colab": {
     "base_uri": "https://localhost:8080/"
    },
    "id": "BJCtUmL347gW",
    "outputId": "c4772678-105d-4abb-f6e1-3dcd5365ad36"
   },
   "outputs": [
    {
     "data": {
      "text/plain": [
       "(25000, 20)"
      ]
     },
     "execution_count": 128,
     "metadata": {
      "tags": []
     },
     "output_type": "execute_result"
    }
   ],
   "source": [
    "testdata.shape"
   ]
  },
  {
   "cell_type": "markdown",
   "metadata": {
    "id": "QL3M6Yvs59vU"
   },
   "source": [
    "## Remove Outliers"
   ]
  },
  {
   "cell_type": "code",
   "execution_count": 129,
   "metadata": {
    "colab": {
     "base_uri": "https://localhost:8080/",
     "height": 265
    },
    "id": "HRwKuMNV6XUW",
    "outputId": "b71503bb-fbcd-4074-863e-ac34d52f7d58"
   },
   "outputs": [
    {
     "data": {
      "image/png": "[encoded data removed]",
      "text/plain": [
       "<Figure size 432x288 with 1 Axes>"
      ]
     },
     "metadata": {
      "needs_background": "light",
      "tags": []
     },
     "output_type": "display_data"
    }
   ],
   "source": [
    "plt.boxplot(testdata[\"Product_Category_Reference\"])\n",
    "plt.show()"
   ]
  },
  {
   "cell_type": "markdown",
   "metadata": {
    "id": "dXuQwTu_59vV"
   },
   "source": [
    "For Size Column"
   ]
  },
  {
   "cell_type": "code",
   "execution_count": 130,
   "metadata": {
    "colab": {
     "base_uri": "https://localhost:8080/"
    },
    "id": "zKUikU0959vV",
    "outputId": "26b7b8d0-4eee-4dce-e3bb-16d3aa43f637"
   },
   "outputs": [
    {
     "name": "stdout",
     "output_type": "stream",
     "text": [
      "37.0\n",
      "46.0\n"
     ]
    }
   ],
   "source": [
    "print(testdata['Size'].quantile(0.10))\n",
    "print(testdata['Size'].quantile(0.90))"
   ]
  },
  {
   "cell_type": "code",
   "execution_count": 131,
   "metadata": {
    "id": "Y-jt_5xJ59vW"
   },
   "outputs": [],
   "source": [
    "testdata[\"Size\"] = np.where(testdata[\"Size\"] <37.0, 37.0,testdata['Size'])\n",
    "testdata[\"Size\"] = np.where(testdata[\"Size\"] >46.0, 46.0,testdata['Size'])"
   ]
  },
  {
   "cell_type": "markdown",
   "metadata": {
    "id": "Opws568l59vW"
   },
   "source": [
    "For Cost column"
   ]
  },
  {
   "cell_type": "code",
   "execution_count": 132,
   "metadata": {
    "colab": {
     "base_uri": "https://localhost:8080/"
    },
    "id": "jB6XR-Rm59vX",
    "outputId": "8df35fb8-002e-4801-e923-19823d89b213"
   },
   "outputs": [
    {
     "name": "stdout",
     "output_type": "stream",
     "text": [
      "19.0\n",
      "129.0\n"
     ]
    }
   ],
   "source": [
    "print(testdata['Cost_to_Customer(USD)'].quantile(0.10))\n",
    "print(testdata['Cost_to_Customer(USD)'].quantile(0.90))"
   ]
  },
  {
   "cell_type": "code",
   "execution_count": 133,
   "metadata": {
    "id": "aLhWUpAc59vX"
   },
   "outputs": [],
   "source": [
    "testdata[\"Cost_to_Customer(USD)\"] = np.where(testdata[\"Cost_to_Customer(USD)\"] < 19.9, 19.9,testdata['Cost_to_Customer(USD)'])\n",
    "testdata[\"Cost_to_Customer(USD)\"] = np.where(testdata[\"Cost_to_Customer(USD)\"] > 134.9, 134.9,testdata['Cost_to_Customer(USD)'])"
   ]
  },
  {
   "cell_type": "markdown",
   "metadata": {
    "id": "tHGijHnK59vX"
   },
   "source": [
    "##For Product_Category_Reference column"
   ]
  },
  {
   "cell_type": "code",
   "execution_count": 134,
   "metadata": {
    "colab": {
     "base_uri": "https://localhost:8080/"
    },
    "id": "z2DbqzyW59vY",
    "outputId": "acfb5c71-9778-4cd8-a106-0568b1aa985f"
   },
   "outputs": [
    {
     "name": "stdout",
     "output_type": "stream",
     "text": [
      "3.0\n",
      "69.0\n"
     ]
    }
   ],
   "source": [
    "print(testdata['Product_Category_Reference'].quantile(0.10))\n",
    "print(testdata['Product_Category_Reference'].quantile(0.90))"
   ]
  },
  {
   "cell_type": "code",
   "execution_count": 135,
   "metadata": {
    "id": "LHn2Q3hr59vY"
   },
   "outputs": [],
   "source": [
    "testdata[\"Product_Category_Reference\"] = np.where(testdata[\"Product_Category_Reference\"] < 3.0, 3.0,testdata['Product_Category_Reference'])\n",
    "testdata[\"Product_Category_Reference\"] = np.where(testdata[\"Product_Category_Reference\"] > 69.0, 69.0,testdata['Product_Category_Reference'])"
   ]
  },
  {
   "cell_type": "code",
   "execution_count": 136,
   "metadata": {
    "colab": {
     "base_uri": "https://localhost:8080/"
    },
    "id": "iXSYxAjQUw34",
    "outputId": "c2909476-eea0-41f1-aedb-de8c5be71470"
   },
   "outputs": [
    {
     "data": {
      "text/plain": [
       "(25000, 20)"
      ]
     },
     "execution_count": 136,
     "metadata": {
      "tags": []
     },
     "output_type": "execute_result"
    }
   ],
   "source": [
    "testdata.shape"
   ]
  },
  {
   "cell_type": "code",
   "execution_count": 137,
   "metadata": {
    "id": "g_-j0vA9_Tf6"
   },
   "outputs": [],
   "source": [
    "from sklearn.preprocessing import LabelEncoder\n",
    "le = LabelEncoder()"
   ]
  },
  {
   "cell_type": "code",
   "execution_count": 138,
   "metadata": {
    "id": "Kp2_tpZQ_Tf7"
   },
   "outputs": [],
   "source": [
    "testdata[testdata.select_dtypes(include=['object']).columns]=testdata[testdata.select_dtypes(include=['object']).columns].apply(le.fit_transform)"
   ]
  },
  {
   "cell_type": "code",
   "execution_count": 139,
   "metadata": {
    "colab": {
     "base_uri": "https://localhost:8080/",
     "height": 224
    },
    "id": "bcJNhunI_Tf7",
    "outputId": "7440fbf4-09c4-49a0-cb09-3ace28171e55"
   },
   "outputs": [
    {
     "data": {
      "text/html": [
       "<div>\n",
       "<style scoped>\n",
       "    .dataframe tbody tr th:only-of-type {\n",
       "        vertical-align: middle;\n",
       "    }\n",
       "\n",
       "    .dataframe tbody tr th {\n",
       "        vertical-align: top;\n",
       "    }\n",
       "\n",
       "    .dataframe thead th {\n",
       "        text-align: right;\n",
       "    }\n",
       "</style>\n",
       "<table border=\"1\" class=\"dataframe\">\n",
       "  <thead>\n",
       "    <tr style=\"text-align: right;\">\n",
       "      <th></th>\n",
       "      <th>Order_Ref_Number</th>\n",
       "      <th>Product_Ref_ID</th>\n",
       "      <th>Size</th>\n",
       "      <th>Color_Code</th>\n",
       "      <th>Product_Category_Reference</th>\n",
       "      <th>Cost_to_Customer(USD)</th>\n",
       "      <th>Gender</th>\n",
       "      <th>Customer_Location</th>\n",
       "      <th>order_placed_day</th>\n",
       "      <th>order_placed_month</th>\n",
       "      <th>order_placed_year</th>\n",
       "      <th>order_delivered_day</th>\n",
       "      <th>order_delivered_month</th>\n",
       "      <th>order_delivered_year</th>\n",
       "      <th>customer_j_day</th>\n",
       "      <th>customer_j_month</th>\n",
       "      <th>customer_j_year</th>\n",
       "      <th>customer_B_day</th>\n",
       "      <th>customer_B_month</th>\n",
       "      <th>customer_B_year</th>\n",
       "    </tr>\n",
       "  </thead>\n",
       "  <tbody>\n",
       "    <tr>\n",
       "      <th>0</th>\n",
       "      <td>75722</td>\n",
       "      <td>1745</td>\n",
       "      <td>37.000</td>\n",
       "      <td>19</td>\n",
       "      <td>64.000</td>\n",
       "      <td>75.000</td>\n",
       "      <td>1</td>\n",
       "      <td>1</td>\n",
       "      <td>20</td>\n",
       "      <td>8</td>\n",
       "      <td>2016</td>\n",
       "      <td>23</td>\n",
       "      <td>8</td>\n",
       "      <td>2016</td>\n",
       "      <td>21</td>\n",
       "      <td>8</td>\n",
       "      <td>2016</td>\n",
       "      <td>31.000</td>\n",
       "      <td>1.000</td>\n",
       "      <td>1975.000</td>\n",
       "    </tr>\n",
       "    <tr>\n",
       "      <th>1</th>\n",
       "      <td>80185</td>\n",
       "      <td>1806</td>\n",
       "      <td>42.000</td>\n",
       "      <td>17</td>\n",
       "      <td>69.000</td>\n",
       "      <td>19.900</td>\n",
       "      <td>1</td>\n",
       "      <td>1</td>\n",
       "      <td>24</td>\n",
       "      <td>8</td>\n",
       "      <td>2016</td>\n",
       "      <td>28</td>\n",
       "      <td>8</td>\n",
       "      <td>2016</td>\n",
       "      <td>17</td>\n",
       "      <td>2</td>\n",
       "      <td>2015</td>\n",
       "      <td>10.000</td>\n",
       "      <td>12.000</td>\n",
       "      <td>1969.000</td>\n",
       "    </tr>\n",
       "    <tr>\n",
       "      <th>2</th>\n",
       "      <td>19865</td>\n",
       "      <td>22</td>\n",
       "      <td>42.000</td>\n",
       "      <td>45</td>\n",
       "      <td>14.000</td>\n",
       "      <td>19.900</td>\n",
       "      <td>1</td>\n",
       "      <td>15</td>\n",
       "      <td>30</td>\n",
       "      <td>6</td>\n",
       "      <td>2016</td>\n",
       "      <td>2</td>\n",
       "      <td>8</td>\n",
       "      <td>2016</td>\n",
       "      <td>17</td>\n",
       "      <td>2</td>\n",
       "      <td>2015</td>\n",
       "      <td>18.000</td>\n",
       "      <td>1.000</td>\n",
       "      <td>1968.000</td>\n",
       "    </tr>\n",
       "    <tr>\n",
       "      <th>3</th>\n",
       "      <td>76700</td>\n",
       "      <td>1683</td>\n",
       "      <td>42.000</td>\n",
       "      <td>19</td>\n",
       "      <td>69.000</td>\n",
       "      <td>39.000</td>\n",
       "      <td>1</td>\n",
       "      <td>6</td>\n",
       "      <td>21</td>\n",
       "      <td>8</td>\n",
       "      <td>2016</td>\n",
       "      <td>24</td>\n",
       "      <td>8</td>\n",
       "      <td>2016</td>\n",
       "      <td>3</td>\n",
       "      <td>3</td>\n",
       "      <td>2016</td>\n",
       "      <td>31.000</td>\n",
       "      <td>3.000</td>\n",
       "      <td>1961.000</td>\n",
       "    </tr>\n",
       "    <tr>\n",
       "      <th>4</th>\n",
       "      <td>92992</td>\n",
       "      <td>1500</td>\n",
       "      <td>42.000</td>\n",
       "      <td>64</td>\n",
       "      <td>11.000</td>\n",
       "      <td>69.000</td>\n",
       "      <td>1</td>\n",
       "      <td>0</td>\n",
       "      <td>4</td>\n",
       "      <td>9</td>\n",
       "      <td>2016</td>\n",
       "      <td>6</td>\n",
       "      <td>9</td>\n",
       "      <td>2016</td>\n",
       "      <td>23</td>\n",
       "      <td>4</td>\n",
       "      <td>2016</td>\n",
       "      <td>2.000</td>\n",
       "      <td>6.000</td>\n",
       "      <td>1962.000</td>\n",
       "    </tr>\n",
       "  </tbody>\n",
       "</table>\n",
       "</div>"
      ],
      "text/plain": [
       "   Order_Ref_Number  Product_Ref_ID  ...  customer_B_month  customer_B_year\n",
       "0             75722            1745  ...             1.000         1975.000\n",
       "1             80185            1806  ...            12.000         1969.000\n",
       "2             19865              22  ...             1.000         1968.000\n",
       "3             76700            1683  ...             3.000         1961.000\n",
       "4             92992            1500  ...             6.000         1962.000\n",
       "\n",
       "[5 rows x 20 columns]"
      ]
     },
     "execution_count": 139,
     "metadata": {
      "tags": []
     },
     "output_type": "execute_result"
    }
   ],
   "source": [
    "testdata.head()"
   ]
  },
  {
   "cell_type": "code",
   "execution_count": 140,
   "metadata": {
    "id": "VF2A4wfsZK_1"
   },
   "outputs": [],
   "source": [
    "testdata1 = testdata.copy()"
   ]
  },
  {
   "cell_type": "code",
   "execution_count": 141,
   "metadata": {
    "id": "aUVAu6Z4VBnU"
   },
   "outputs": [],
   "source": [
    "testdata = testdata.drop([\"Order_Ref_Number\",\"Product_Ref_ID\"],axis=1)"
   ]
  },
  {
   "cell_type": "code",
   "execution_count": 142,
   "metadata": {
    "id": "6vyRAiI9Yu_z"
   },
   "outputs": [],
   "source": [
    "#testdata = testdata.drop([\"Order_Ref_Number\",\"Product_Ref_ID\"],axis=1)"
   ]
  },
  {
   "cell_type": "code",
   "execution_count": 143,
   "metadata": {
    "colab": {
     "base_uri": "https://localhost:8080/"
    },
    "id": "Q8BjuyWIFcNa",
    "outputId": "5f351c19-f5d8-4223-f3ca-408d9008daf8"
   },
   "outputs": [
    {
     "data": {
      "text/plain": [
       "(25000, 18)"
      ]
     },
     "execution_count": 143,
     "metadata": {
      "tags": []
     },
     "output_type": "execute_result"
    }
   ],
   "source": [
    "testdata.shape"
   ]
  },
  {
   "cell_type": "code",
   "execution_count": 466,
   "metadata": {
    "id": "qSOY7C0F_cuk"
   },
   "outputs": [],
   "source": [
    "pred_test = model4.predict(testdata)"
   ]
  },
  {
   "cell_type": "code",
   "execution_count": 467,
   "metadata": {
    "id": "dL3UwnXaBLQx"
   },
   "outputs": [],
   "source": [
    "pred_test= pd.DataFrame({\"Order_Ref_Number\":testdata1.Order_Ref_Number,\"Order_Repeat_Chance\":pred_test})"
   ]
  },
  {
   "cell_type": "code",
   "execution_count": 468,
   "metadata": {
    "colab": {
     "base_uri": "https://localhost:8080/"
    },
    "id": "Pt2WamIkEBk1",
    "outputId": "3c1d3039-b5a1-4271-e419-b3ab952c5ba4"
   },
   "outputs": [
    {
     "name": "stdout",
     "output_type": "stream",
     "text": [
      "       Order_Ref_Number  Order_Repeat_Chance\n",
      "0                 75722                    0\n",
      "1                 80185                    0\n",
      "2                 19865                    0\n",
      "3                 76700                    0\n",
      "4                 92992                    1\n",
      "...                 ...                  ...\n",
      "24995             21272                    0\n",
      "24996             34015                    1\n",
      "24997             81356                    1\n",
      "24998             65721                    0\n",
      "24999             11628                    1\n",
      "\n",
      "[25000 rows x 2 columns]\n"
     ]
    }
   ],
   "source": [
    "print(pred_test)"
   ]
  },
  {
   "cell_type": "code",
   "execution_count": 469,
   "metadata": {
    "id": "kJLYfkaLEETZ"
   },
   "outputs": [],
   "source": [
    "pred_test.to_csv(\"/content/drive/MyDrive/Scratch Data/fashion12_out_file.csv\",index = False)"
   ]
  },
  {
   "cell_type": "code",
   "execution_count": null,
   "metadata": {
    "id": "JNBajfaOEMlA"
   },
   "outputs": [],
   "source": []
  }
 ],
 "metadata": {
  "accelerator": "GPU",
  "colab": {
   "collapsed_sections": [],
   "name": "Fashion _Design_Dataset.ipynb",
   "provenance": [],
   "toc_visible": true
  },
  "kernelspec": {
   "display_name": "Python 3",
   "language": "python",
   "name": "python3"
  },
  "language_info": {
   "codemirror_mode": {
    "name": "ipython",
    "version": 3
   },
   "file_extension": ".py",
   "mimetype": "text/x-python",
   "name": "python",
   "nbconvert_exporter": "python",
   "pygments_lexer": "ipython3",
   "version": "3.8.3"
  },
  "toc": {
   "base_numbering": 1,
   "nav_menu": {},
   "number_sections": true,
   "sideBar": true,
   "skip_h1_title": false,
   "title_cell": "Table of Contents",
   "title_sidebar": "Contents",
   "toc_cell": false,
   "toc_position": {},
   "toc_section_display": true,
   "toc_window_display": false
  }
 },
 "nbformat": 4,
 "nbformat_minor": 1
}
